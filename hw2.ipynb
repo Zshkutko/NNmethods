{
  "nbformat": 4,
  "nbformat_minor": 0,
  "metadata": {
    "kernelspec": {
      "language": "python",
      "display_name": "Python 3",
      "name": "python3"
    },
    "language_info": {
      "name": "python",
      "version": "3.7.10",
      "mimetype": "text/x-python",
      "codemirror_mode": {
        "name": "ipython",
        "version": 3
      },
      "pygments_lexer": "ipython3",
      "nbconvert_exporter": "python",
      "file_extension": ".py"
    },
    "colab": {
      "name": "hw2.ipynb",
      "provenance": [],
      "collapsed_sections": []
    },
    "accelerator": "GPU"
  },
  "cells": [
    {
      "cell_type": "code",
      "metadata": {
        "id": "67F69YijD3d6",
        "execution": {
          "iopub.status.busy": "2021-11-26T18:49:08.319643Z",
          "iopub.execute_input": "2021-11-26T18:49:08.320095Z",
          "iopub.status.idle": "2021-11-26T18:51:38.157783Z",
          "shell.execute_reply.started": "2021-11-26T18:49:08.320011Z",
          "shell.execute_reply": "2021-11-26T18:51:38.156969Z"
        },
        "trusted": true,
        "colab": {
          "base_uri": "https://localhost:8080/"
        },
        "outputId": "a294bc4e-c8d1-44ea-e554-a6bd66bba8b6"
      },
      "source": [
        "!pip install ipdb"
      ],
      "execution_count": 35,
      "outputs": [
        {
          "output_type": "stream",
          "name": "stdout",
          "text": [
            "Requirement already satisfied: ipdb in /usr/local/lib/python3.7/dist-packages (0.13.9)\n",
            "Requirement already satisfied: decorator in /usr/local/lib/python3.7/dist-packages (from ipdb) (4.4.2)\n",
            "Requirement already satisfied: toml>=0.10.2 in /usr/local/lib/python3.7/dist-packages (from ipdb) (0.10.2)\n",
            "Requirement already satisfied: ipython>=7.17.0 in /usr/local/lib/python3.7/dist-packages (from ipdb) (7.30.1)\n",
            "Requirement already satisfied: setuptools in /usr/local/lib/python3.7/dist-packages (from ipdb) (57.4.0)\n",
            "Requirement already satisfied: pygments in /usr/local/lib/python3.7/dist-packages (from ipython>=7.17.0->ipdb) (2.6.1)\n",
            "Requirement already satisfied: jedi>=0.16 in /usr/local/lib/python3.7/dist-packages (from ipython>=7.17.0->ipdb) (0.18.1)\n",
            "Requirement already satisfied: traitlets>=4.2 in /usr/local/lib/python3.7/dist-packages (from ipython>=7.17.0->ipdb) (5.1.1)\n",
            "Requirement already satisfied: prompt-toolkit!=3.0.0,!=3.0.1,<3.1.0,>=2.0.0 in /usr/local/lib/python3.7/dist-packages (from ipython>=7.17.0->ipdb) (3.0.23)\n",
            "Requirement already satisfied: pickleshare in /usr/local/lib/python3.7/dist-packages (from ipython>=7.17.0->ipdb) (0.7.5)\n",
            "Requirement already satisfied: pexpect>4.3 in /usr/local/lib/python3.7/dist-packages (from ipython>=7.17.0->ipdb) (4.8.0)\n",
            "Requirement already satisfied: matplotlib-inline in /usr/local/lib/python3.7/dist-packages (from ipython>=7.17.0->ipdb) (0.1.3)\n",
            "Requirement already satisfied: backcall in /usr/local/lib/python3.7/dist-packages (from ipython>=7.17.0->ipdb) (0.2.0)\n",
            "Requirement already satisfied: parso<0.9.0,>=0.8.0 in /usr/local/lib/python3.7/dist-packages (from jedi>=0.16->ipython>=7.17.0->ipdb) (0.8.2)\n",
            "Requirement already satisfied: ptyprocess>=0.5 in /usr/local/lib/python3.7/dist-packages (from pexpect>4.3->ipython>=7.17.0->ipdb) (0.7.0)\n",
            "Requirement already satisfied: wcwidth in /usr/local/lib/python3.7/dist-packages (from prompt-toolkit!=3.0.0,!=3.0.1,<3.1.0,>=2.0.0->ipython>=7.17.0->ipdb) (0.2.5)\n"
          ]
        }
      ]
    },
    {
      "cell_type": "code",
      "metadata": {
        "id": "5sRNAtqAKSWA",
        "execution": {
          "iopub.status.busy": "2021-11-26T18:51:38.159970Z",
          "iopub.execute_input": "2021-11-26T18:51:38.160247Z",
          "iopub.status.idle": "2021-11-26T18:52:07.251665Z",
          "shell.execute_reply.started": "2021-11-26T18:51:38.160215Z",
          "shell.execute_reply": "2021-11-26T18:52:07.250894Z"
        },
        "trusted": true,
        "colab": {
          "base_uri": "https://localhost:8080/"
        },
        "outputId": "75862601-def9-404f-92d2-0f125701402d"
      },
      "source": [
        "!pip install torchmetrics"
      ],
      "execution_count": 36,
      "outputs": [
        {
          "output_type": "stream",
          "name": "stdout",
          "text": [
            "Requirement already satisfied: torchmetrics in /usr/local/lib/python3.7/dist-packages (0.6.0)\n",
            "Requirement already satisfied: numpy>=1.17.2 in /usr/local/lib/python3.7/dist-packages (from torchmetrics) (1.19.5)\n",
            "Requirement already satisfied: packaging in /usr/local/lib/python3.7/dist-packages (from torchmetrics) (21.3)\n",
            "Requirement already satisfied: torch>=1.3.1 in /usr/local/lib/python3.7/dist-packages (from torchmetrics) (1.10.0+cu111)\n",
            "Requirement already satisfied: typing-extensions in /usr/local/lib/python3.7/dist-packages (from torch>=1.3.1->torchmetrics) (3.10.0.2)\n",
            "Requirement already satisfied: pyparsing!=3.0.5,>=2.0.2 in /usr/local/lib/python3.7/dist-packages (from packaging->torchmetrics) (3.0.6)\n"
          ]
        }
      ]
    },
    {
      "cell_type": "code",
      "metadata": {
        "id": "Nbm9Sn1gD57T"
      },
      "source": [
        "import pandas as pd\n",
        "import numpy as np\n",
        "from string import punctuation\n",
        "from collections import Counter\n",
        "from sklearn.model_selection import train_test_split\n",
        "from sklearn.utils import shuffle\n",
        "import torch\n",
        "import torch.nn as nn\n",
        "import torch.nn.functional as F\n",
        "from torch.utils.data import Dataset, DataLoader, RandomSampler, SequentialSampler\n",
        "from torch.nn.utils.rnn import pad_sequence\n",
        "import torch.optim as optim\n",
        "import ipdb\n",
        "import gensim\n",
        "import matplotlib.pyplot as plt\n",
        "import re\n",
        "from gensim.models import FastText\n",
        "from torchmetrics.functional import f1, recall"
      ],
      "execution_count": 37,
      "outputs": []
    },
    {
      "cell_type": "markdown",
      "metadata": {
        "id": "sxerF2AvcbhQ"
      },
      "source": [
        "#Dataset1"
      ]
    },
    {
      "cell_type": "code",
      "metadata": {
        "id": "4Dm_3VK-D8Yx",
        "colab": {
          "base_uri": "https://localhost:8080/",
          "height": 53
        },
        "outputId": "bc07894b-3468-4e67-df32-925dba881a9d"
      },
      "source": [
        "'''!wget -O positive.csv https://www.dropbox.com/s/fnpq3z4bcnoktiv/positive.csv?dl=0\n",
        "!wget -O negative.csv https://www.dropbox.com/s/r6u59ljhhjdg6j0/negative.csv?dl=0'''"
      ],
      "execution_count": 38,
      "outputs": [
        {
          "output_type": "execute_result",
          "data": {
            "application/vnd.google.colaboratory.intrinsic+json": {
              "type": "string"
            },
            "text/plain": [
              "'!wget -O positive.csv https://www.dropbox.com/s/fnpq3z4bcnoktiv/positive.csv?dl=0\\n!wget -O negative.csv https://www.dropbox.com/s/r6u59ljhhjdg6j0/negative.csv?dl=0'"
            ]
          },
          "metadata": {},
          "execution_count": 38
        }
      ]
    },
    {
      "cell_type": "code",
      "metadata": {
        "id": "Hcm-qrcsD_M2"
      },
      "source": [
        "pos_tweets = pd.read_csv('positive.csv', encoding='utf-8', sep=';', header=None,  names=[0,1,2,'text','tone',5,6,7,8,9,10,11])"
      ],
      "execution_count": 79,
      "outputs": []
    },
    {
      "cell_type": "code",
      "metadata": {
        "id": "y7mRRiHfEB-v"
      },
      "source": [
        "neg_tweets = pd.read_csv('negative.csv', encoding='utf-8', sep=';', header=None, names=[0,1,2,'text','tone',5,6,7,8,9,10,11] )\n",
        "neg_tweets['tone'] = 0"
      ],
      "execution_count": 80,
      "outputs": []
    },
    {
      "cell_type": "code",
      "metadata": {
        "id": "S9hhOev_EELi",
        "colab": {
          "base_uri": "https://localhost:8080/"
        },
        "outputId": "29aeeff5-01a9-46d7-ddb2-605de5bead4e"
      },
      "source": [
        "all_tweets_data = pos_tweets.append(neg_tweets)\n",
        "print(len(all_tweets_data))"
      ],
      "execution_count": 81,
      "outputs": [
        {
          "output_type": "stream",
          "name": "stdout",
          "text": [
            "226834\n"
          ]
        }
      ]
    },
    {
      "cell_type": "code",
      "metadata": {
        "id": "yjge8NdqELkf"
      },
      "source": [
        "tweets_data = shuffle(all_tweets_data[['text','tone']])[:100000]"
      ],
      "execution_count": 82,
      "outputs": []
    },
    {
      "cell_type": "code",
      "metadata": {
        "id": "RIsO1Fy6ELtQ"
      },
      "source": [
        "def preprocess(text):\n",
        "      text = text.lower().replace(\"ё\", \"е\")\n",
        "      text = re.sub('((www\\.[^\\s]+)|(https?://[^\\s]+))', 'URL', text)\n",
        "      text = re.sub('@[^\\s]+', 'USER', text)\n",
        "      text = re.sub('[^a-zA-Zа-яА-Я1-9]+', ' ', text)\n",
        "      text = re.sub(' +', ' ', text)\n",
        "      return text.strip()"
      ],
      "execution_count": 83,
      "outputs": []
    },
    {
      "cell_type": "code",
      "metadata": {
        "id": "4npW0EoFN-NA"
      },
      "source": [
        "clean_text = tweets_data['text'].apply(preprocess)\n",
        "tweets_data['clean_text'] = clean_text"
      ],
      "execution_count": 84,
      "outputs": []
    },
    {
      "cell_type": "code",
      "metadata": {
        "id": "ZMRUg3gVZm7M",
        "colab": {
          "base_uri": "https://localhost:8080/",
          "height": 423
        },
        "outputId": "f47ce71f-393f-4a54-840e-78aa7b691e2e"
      },
      "source": [
        "train_sentences, val_sentences = train_test_split(tweets_data, test_size=0.1)\n",
        "train_sentences"
      ],
      "execution_count": 85,
      "outputs": [
        {
          "output_type": "execute_result",
          "data": {
            "text/html": [
              "<div>\n",
              "<style scoped>\n",
              "    .dataframe tbody tr th:only-of-type {\n",
              "        vertical-align: middle;\n",
              "    }\n",
              "\n",
              "    .dataframe tbody tr th {\n",
              "        vertical-align: top;\n",
              "    }\n",
              "\n",
              "    .dataframe thead th {\n",
              "        text-align: right;\n",
              "    }\n",
              "</style>\n",
              "<table border=\"1\" class=\"dataframe\">\n",
              "  <thead>\n",
              "    <tr style=\"text-align: right;\">\n",
              "      <th></th>\n",
              "      <th>text</th>\n",
              "      <th>tone</th>\n",
              "      <th>clean_text</th>\n",
              "    </tr>\n",
              "  </thead>\n",
              "  <tbody>\n",
              "    <tr>\n",
              "      <th>99397</th>\n",
              "      <td>OPEN PACK 1 000 000 COINS!!! R172184516292 - с...</td>\n",
              "      <td>0</td>\n",
              "      <td>open pack 1 coins r172184516292 сбор бомжу на ...</td>\n",
              "    </tr>\n",
              "    <tr>\n",
              "      <th>89784</th>\n",
              "      <td>Вытощили меня из дому, так не хотела идти((</td>\n",
              "      <td>0</td>\n",
              "      <td>вытощили меня из дому так не хотела идти</td>\n",
              "    </tr>\n",
              "    <tr>\n",
              "      <th>109488</th>\n",
              "      <td>RT @BureevaMarina: - Хотела отложить денег на ...</td>\n",
              "      <td>1</td>\n",
              "      <td>rt USER хотела отложить денег на старость не п...</td>\n",
              "    </tr>\n",
              "    <tr>\n",
              "      <th>98153</th>\n",
              "      <td>RT @lentaruofficial: План выступления такой: 1...</td>\n",
              "      <td>1</td>\n",
              "      <td>rt USER план выступления такой 1 социалочка на...</td>\n",
              "    </tr>\n",
              "    <tr>\n",
              "      <th>37953</th>\n",
              "      <td>@5tv_news А зачем Вы прерывались на рекламу то...</td>\n",
              "      <td>0</td>\n",
              "      <td>USER а зачем вы прерывались на рекламу то он п...</td>\n",
              "    </tr>\n",
              "    <tr>\n",
              "      <th>...</th>\n",
              "      <td>...</td>\n",
              "      <td>...</td>\n",
              "      <td>...</td>\n",
              "    </tr>\n",
              "    <tr>\n",
              "      <th>19958</th>\n",
              "      <td>@Chynara_B еще как! Ну что, чувствуешь себя ме...</td>\n",
              "      <td>1</td>\n",
              "      <td>USER еще как ну что чувствуешь себя менее эгои...</td>\n",
              "    </tr>\n",
              "    <tr>\n",
              "      <th>89455</th>\n",
              "      <td>обажаю Арию) и я не о музыкантах, а о девочке ...</td>\n",
              "      <td>1</td>\n",
              "      <td>обажаю арию и я не о музыкантах а о девочке из...</td>\n",
              "    </tr>\n",
              "    <tr>\n",
              "      <th>20770</th>\n",
              "      <td>какая \"классная\" эта пятница 13-ое(( голова уж...</td>\n",
              "      <td>0</td>\n",
              "      <td>какая классная эта пятница 13 ое голова уже по...</td>\n",
              "    </tr>\n",
              "    <tr>\n",
              "      <th>3382</th>\n",
              "      <td>@KovalenkoIgor В Украине ее видать внимательно...</td>\n",
              "      <td>1</td>\n",
              "      <td>USER в украине ее видать внимательно читали</td>\n",
              "    </tr>\n",
              "    <tr>\n",
              "      <th>107630</th>\n",
              "      <td>RT @BigRussianBaws: Не понимаю людей, которые ...</td>\n",
              "      <td>0</td>\n",
              "      <td>rt USER не понимаю людей которые обтягивают зо...</td>\n",
              "    </tr>\n",
              "  </tbody>\n",
              "</table>\n",
              "<p>90000 rows × 3 columns</p>\n",
              "</div>"
            ],
            "text/plain": [
              "                                                     text  ...                                         clean_text\n",
              "99397   OPEN PACK 1 000 000 COINS!!! R172184516292 - с...  ...  open pack 1 coins r172184516292 сбор бомжу на ...\n",
              "89784         Вытощили меня из дому, так не хотела идти((  ...           вытощили меня из дому так не хотела идти\n",
              "109488  RT @BureevaMarina: - Хотела отложить денег на ...  ...  rt USER хотела отложить денег на старость не п...\n",
              "98153   RT @lentaruofficial: План выступления такой: 1...  ...  rt USER план выступления такой 1 социалочка на...\n",
              "37953   @5tv_news А зачем Вы прерывались на рекламу то...  ...  USER а зачем вы прерывались на рекламу то он п...\n",
              "...                                                   ...  ...                                                ...\n",
              "19958   @Chynara_B еще как! Ну что, чувствуешь себя ме...  ...  USER еще как ну что чувствуешь себя менее эгои...\n",
              "89455   обажаю Арию) и я не о музыкантах, а о девочке ...  ...  обажаю арию и я не о музыкантах а о девочке из...\n",
              "20770   какая \"классная\" эта пятница 13-ое(( голова уж...  ...  какая классная эта пятница 13 ое голова уже по...\n",
              "3382    @KovalenkoIgor В Украине ее видать внимательно...  ...        USER в украине ее видать внимательно читали\n",
              "107630  RT @BigRussianBaws: Не понимаю людей, которые ...  ...  rt USER не понимаю людей которые обтягивают зо...\n",
              "\n",
              "[90000 rows x 3 columns]"
            ]
          },
          "metadata": {},
          "execution_count": 85
        }
      ]
    },
    {
      "cell_type": "code",
      "metadata": {
        "id": "0hxzI58XELve",
        "colab": {
          "base_uri": "https://localhost:8080/"
        },
        "outputId": "56031afc-c3b9-442f-86f7-abf055b10c88"
      },
      "source": [
        "vocab = Counter()\n",
        "\n",
        "for text in tweets_data['clean_text']:\n",
        "    vocab.update(preprocess(text).split())\n",
        "print('всего уникальных токенов:', len(vocab))"
      ],
      "execution_count": 86,
      "outputs": [
        {
          "output_type": "stream",
          "name": "stdout",
          "text": [
            "всего уникальных токенов: 111486\n"
          ]
        }
      ]
    },
    {
      "cell_type": "code",
      "metadata": {
        "id": "u6hFgChiELy9",
        "colab": {
          "base_uri": "https://localhost:8080/"
        },
        "outputId": "185af0a5-c2fc-471c-eca8-f41c7d2f4825"
      },
      "source": [
        "filtered_vocab = set()\n",
        "\n",
        "for word in vocab:\n",
        "    if vocab[word] > 2:\n",
        "        filtered_vocab.add(word)\n",
        "print('уникальных токенов, втретившихся больше 2 раз:', len(filtered_vocab))"
      ],
      "execution_count": 87,
      "outputs": [
        {
          "output_type": "stream",
          "name": "stdout",
          "text": [
            "уникальных токенов, втретившихся больше 2 раз: 29074\n"
          ]
        }
      ]
    },
    {
      "cell_type": "code",
      "metadata": {
        "id": "HQflLq0YEet3"
      },
      "source": [
        "#создаем словарь с индексами word2id, для спецсимвола паддинга дефолтный индекс - 0\n",
        "word2id = {'PAD':0}\n",
        "\n",
        "for word in filtered_vocab:\n",
        "    word2id[word] = len(word2id)"
      ],
      "execution_count": 88,
      "outputs": []
    },
    {
      "cell_type": "code",
      "metadata": {
        "id": "o-hI2uD0EewU"
      },
      "source": [
        "#обратный словарь для того, чтобы раскодировать последовательность\n",
        "id2word = {i:word for word, i in word2id.items()}"
      ],
      "execution_count": 89,
      "outputs": []
    },
    {
      "cell_type": "code",
      "metadata": {
        "id": "TQGexPjtEezn",
        "colab": {
          "base_uri": "https://localhost:8080/"
        },
        "outputId": "c72501d0-e266-4eba-d54b-a241e495e398"
      },
      "source": [
        "DEVICE = torch.device('cuda') if torch.cuda.is_available() else torch.device('cpu')\n",
        "DEVICE"
      ],
      "execution_count": 90,
      "outputs": [
        {
          "output_type": "execute_result",
          "data": {
            "text/plain": [
              "device(type='cuda')"
            ]
          },
          "metadata": {},
          "execution_count": 90
        }
      ]
    },
    {
      "cell_type": "code",
      "metadata": {
        "id": "YzCiA_XwEmiZ"
      },
      "source": [
        "class TweetsDataset(Dataset):\n",
        "\n",
        "    def __init__(self, dataset, word2id, DEVICE):\n",
        "        self.dataset = dataset['text'].values\n",
        "        self.word2id = word2id\n",
        "        self.length = dataset.shape[0]\n",
        "        self.target = dataset['tone'].values\n",
        "        self.device = DEVICE\n",
        "\n",
        "    def __len__(self): #это обязательный метод, он должен уметь считать длину датасета\n",
        "        return self.length\n",
        "\n",
        "    def __getitem__(self, index): #еще один обязательный метод. По индексу возвращает элемент выборки\n",
        "        tokens = self.preprocess(self.dataset[index]) # токенизируем\n",
        "        ids = torch.LongTensor([self.word2id[token] for token in tokens if token in self.word2id])\n",
        "        y = [self.target[index]]\n",
        "        return ids, y\n",
        "    \n",
        "    def preprocess(self, text):\n",
        "      text = text.lower().replace(\"ё\", \"е\")\n",
        "      text = re.sub('((www\\.[^\\s]+)|(https?://[^\\s]+))', 'URL', text)\n",
        "      text = re.sub('@[^\\s]+', 'USER', text)\n",
        "      text = re.sub('[^a-zA-Zа-яА-Я1-9]+', ' ', text)\n",
        "      text = re.sub(' +', ' ', text)\n",
        "      return text.strip()\n",
        "\n",
        "    def collate_fn(self, batch): #этот метод можно реализовывать и отдельно,\n",
        "    # он понадобится для DataLoader во время итерации по батчам\n",
        "      ids, y = list(zip(*batch))\n",
        "      padded_ids = pad_sequence(ids, batch_first=True).to(self.device)\n",
        "      #мы хотим применять BCELoss, он будет брать на вход predicted размера batch_size x 1 (так как для каждого семпла модель будет отдавать одно число), target размера batch_size x 1\n",
        "      y = torch.Tensor(y).to(self.device) # tuple ([1], [0], [1])  -> Tensor [[1.], [0.], [1.]] \n",
        "      return padded_ids, y"
      ],
      "execution_count": 91,
      "outputs": []
    },
    {
      "cell_type": "code",
      "metadata": {
        "id": "FW5cEeWCEmls"
      },
      "source": [
        "train_dataset = TweetsDataset(train_sentences, word2id, DEVICE)\n",
        "train_sampler = RandomSampler(train_dataset)\n",
        "train_iterator = DataLoader(train_dataset, collate_fn = train_dataset.collate_fn, sampler=train_sampler, batch_size=1024)"
      ],
      "execution_count": 92,
      "outputs": []
    },
    {
      "cell_type": "code",
      "metadata": {
        "id": "THcFzxf7Et1F"
      },
      "source": [
        "val_dataset = TweetsDataset(val_sentences, word2id, DEVICE)\n",
        "val_sampler = SequentialSampler(val_dataset)\n",
        "val_iterator = DataLoader(val_dataset, collate_fn = val_dataset.collate_fn, sampler=val_sampler, batch_size=1024)"
      ],
      "execution_count": 93,
      "outputs": []
    },
    {
      "cell_type": "code",
      "metadata": {
        "id": "1ra9WCOlEwt9"
      },
      "source": [
        "ft = FastText(tweets_data['clean_text'].tolist(), size=100, window=5, min_count=1)"
      ],
      "execution_count": 94,
      "outputs": []
    },
    {
      "cell_type": "code",
      "metadata": {
        "id": "0DuixsuiQbWB"
      },
      "source": [
        "weights = np.zeros((len(word2id), 100))\n",
        "count = 0\n",
        "for word, i in word2id.items():\n",
        "    if word == 'PAD':\n",
        "        continue   \n",
        "    try:\n",
        "        weights[i] = ft.wv[word]    \n",
        "    except KeyError:\n",
        "      count += 1\n",
        "      # oov словам сопоставляем случайный вектор\n",
        "      weights[i] = np.random.normal(0,0.1,100)"
      ],
      "execution_count": 95,
      "outputs": []
    },
    {
      "cell_type": "code",
      "metadata": {
        "id": "kPNKh0kaEwwq"
      },
      "source": [
        "class CNN(nn.Module):\n",
        "    \n",
        "    def __init__(self, vocab_size, embedding_dim):\n",
        "        super().__init__()\n",
        "        self.embedding = nn.Embedding(vocab_size, embedding_dim)\n",
        "        self.embedding.from_pretrained(torch.tensor(weights), freeze=True)\n",
        "\n",
        "        self.bigrams = nn.Conv1d(in_channels=embedding_dim, out_channels=100, kernel_size=2, padding='same')\n",
        "        self.trigrams = nn.Conv1d(in_channels=embedding_dim, out_channels=80, kernel_size=3, padding='same')\n",
        "        self.bigrams2 = nn.Conv1d(in_channels=180, out_channels=180, kernel_size=2, padding='same')\n",
        "\n",
        "        self.pooling = nn.MaxPool1d(kernel_size=2, stride=2)\n",
        "        self.relu = nn.ReLU()\n",
        "        self.hidden = nn.Linear(in_features=180, out_features=1)\n",
        "        self.out = nn.Sigmoid()\n",
        "\n",
        "    def forward(self, word):\n",
        "        #batch_size x seq_len\n",
        "        embedded = self.embedding(word)\n",
        "        #batch_size x seq_len x embedding_dim\n",
        "        embedded = embedded.transpose(1,2)\n",
        "        #batch_size x embedding_dim x seq_len\n",
        "        feature_map_bigrams = self.relu(self.bigrams(embedded))\n",
        "        #batch_size x filter_count2 x seq_len* \n",
        "        feature_map_trigrams = self.relu(self.trigrams(embedded))\n",
        "        #batch_size x filter_count3 x seq_len*\n",
        "\n",
        "        concat = torch.cat((feature_map_bigrams, feature_map_trigrams), 1)\n",
        "        bigrams = self.pooling(self.relu(self.bigrams2(concat)))\n",
        "        pooling = bigrams.max(2)[0] \n",
        "        # batch _size x (filter_count2 + filter_count3)\n",
        "\n",
        "        logits = self.hidden(pooling) \n",
        "        logits = self.out(logits)      \n",
        "        return logits"
      ],
      "execution_count": 96,
      "outputs": []
    },
    {
      "cell_type": "code",
      "metadata": {
        "id": "ZP8TSRmJEw0G"
      },
      "source": [
        "def train(model, iterator, optimizer, criterion):\n",
        "    epoch_loss = 0 # для подсчета среднего лосса на всех батчах\n",
        "\n",
        "    model.train()  # ставим модель в обучение, явно указываем, что сейчас надо будет хранить градиенты у всех весов\n",
        "\n",
        "    for i, (texts, ys) in enumerate(iterator): #итерируемся по батчам\n",
        "        optimizer.zero_grad()  #обнуляем градиенты\n",
        "        preds = model(texts)  #прогоняем данные через модель\n",
        "        loss = criterion(preds, ys) #считаем значение функции потерь  \n",
        "        loss.backward() #считаем градиенты  \n",
        "        optimizer.step() #обновляем веса \n",
        "        epoch_loss += loss.item() #сохраняем значение функции потерь\n",
        "        if not (i + 1) % int(len(iterator)/5):\n",
        "            print(f'Train loss: {epoch_loss/i}')      \n",
        "    return  epoch_loss / len(iterator) # возвращаем среднее значение лосса по всей выборке"
      ],
      "execution_count": 97,
      "outputs": []
    },
    {
      "cell_type": "code",
      "metadata": {
        "id": "r7F-Dv8YHkzp"
      },
      "source": [
        "def evaluate(model, iterator, criterion):\n",
        "    epoch_loss = 0\n",
        "    epoch_metric = 0\n",
        "    model.eval() \n",
        "    with torch.no_grad():\n",
        "        for i, (texts, ys) in enumerate(iterator):   \n",
        "            preds = model(texts)  # делаем предсказания на тесте\n",
        "            loss = criterion(preds, ys)   # считаем значения функции ошибки для статистики  \n",
        "            epoch_loss += loss.item()\n",
        "            batch_metric = f1(preds.round().long(), ys.long(), ignore_index=0)\n",
        "            epoch_metric += batch_metric\n",
        "\n",
        "            if not (i + 1) % int(len(iterator)/5):\n",
        "              print(f'Val loss: {epoch_loss/i}, Val f1: {epoch_metric/i}')\n",
        "        \n",
        "    return epoch_metric / len(iterator), epoch_loss / len(iterator) # возвращаем среднее значение по всей выборке"
      ],
      "execution_count": 98,
      "outputs": []
    },
    {
      "cell_type": "code",
      "metadata": {
        "id": "iAwfCJao8di7"
      },
      "source": [
        "def predict(model, iterator):\n",
        "    preds = []\n",
        "    model.eval()\n",
        "    with torch.no_grad():\n",
        "        for i, (words, ys) in enumerate(iterator): \n",
        "            for word in model(words):\n",
        "                preds.append(word.cpu().detach().numpy().round())\n",
        "    return preds"
      ],
      "execution_count": 99,
      "outputs": []
    },
    {
      "cell_type": "code",
      "metadata": {
        "id": "FMcm6jDYHk17"
      },
      "source": [
        "model = CNN(len(word2id), 2)\n",
        "optimizer = optim.Adam(model.parameters(), lr=0.0005)\n",
        "criterion = nn.BCELoss()  \n",
        "\n",
        "# веса модели и значения лосса храним там же, где и все остальные тензоры\n",
        "model = model.to(DEVICE)\n",
        "criterion = criterion.to(DEVICE)"
      ],
      "execution_count": 100,
      "outputs": []
    },
    {
      "cell_type": "code",
      "metadata": {
        "id": "Ua9NAIe6HwFh",
        "colab": {
          "base_uri": "https://localhost:8080/"
        },
        "outputId": "61d004de-1b3b-4697-e400-287b69421076"
      },
      "source": [
        "losses = []\n",
        "losses_eval = []\n",
        "f1s = []\n",
        "f1s_eval = []\n",
        "\n",
        "for i in range(20):\n",
        "    print(f'\\nstarting Epoch {i}')\n",
        "    print('Training...')\n",
        "    epoch_loss = train(model, train_iterator, optimizer, criterion)\n",
        "    losses.append(epoch_loss)\n",
        "    print('\\nEvaluating on train...')\n",
        "    f1_on_train,_ = evaluate(model, train_iterator, criterion)\n",
        "    f1s.append(f1_on_train)\n",
        "    print('\\nEvaluating on test...')\n",
        "    f1_on_test, epoch_loss_on_test = evaluate(model, val_iterator, criterion)\n",
        "    losses_eval.append(epoch_loss_on_test)\n",
        "    f1s_eval.append(f1_on_test)"
      ],
      "execution_count": 101,
      "outputs": [
        {
          "output_type": "stream",
          "name": "stdout",
          "text": [
            "\n",
            "starting Epoch 0\n",
            "Training...\n",
            "Train loss: 0.735472496598959\n",
            "Train loss: 0.7095405712272181\n",
            "Train loss: 0.7002316045761109\n",
            "Train loss: 0.6947283059803407\n",
            "Train loss: 0.6913344640107382\n",
            "\n",
            "Evaluating on train...\n",
            "Val loss: 0.714620940387249, Val f1: 0.6434759497642517\n",
            "Val loss: 0.6927909598206029, Val f1: 0.6230840086936951\n",
            "Val loss: 0.6863144278526306, Val f1: 0.6149309873580933\n",
            "Val loss: 0.6827635702802174, Val f1: 0.6135111451148987\n",
            "Val loss: 0.680903964809009, Val f1: 0.6111968755722046\n",
            "\n",
            "Evaluating on test...\n",
            "Val loss: 1.351104736328125, Val f1: 1.2278809547424316\n",
            "Val loss: 0.8975805640220642, Val f1: 0.8272130489349365\n",
            "Val loss: 0.8083777785301208, Val f1: 0.7333551645278931\n",
            "Val loss: 0.7702023472104754, Val f1: 0.69706130027771\n",
            "Val loss: 0.7480032642682394, Val f1: 0.6762056946754456\n",
            "\n",
            "starting Epoch 1\n",
            "Training...\n",
            "Train loss: 0.7149573117494583\n",
            "Train loss: 0.6912631952401364\n",
            "Train loss: 0.6827675044536591\n",
            "Train loss: 0.6788813703095735\n",
            "Train loss: 0.6755706405355817\n",
            "\n",
            "Evaluating on train...\n",
            "Val loss: 0.7037234380841255, Val f1: 0.5763689279556274\n",
            "Val loss: 0.6807107112624429, Val f1: 0.5649564266204834\n",
            "Val loss: 0.6744623029232025, Val f1: 0.5574795007705688\n",
            "Val loss: 0.6707727668890312, Val f1: 0.555805504322052\n",
            "Val loss: 0.6684151107356662, Val f1: 0.5554230809211731\n",
            "\n",
            "Evaluating on test...\n",
            "Val loss: 1.3319194912910461, Val f1: 1.1082656383514404\n",
            "Val loss: 0.8837420145670573, Val f1: 0.7548327445983887\n",
            "Val loss: 0.795234227180481, Val f1: 0.6674729585647583\n",
            "Val loss: 0.7584266662597656, Val f1: 0.6320423483848572\n",
            "Val loss: 0.735980298784044, Val f1: 0.6132612228393555\n",
            "\n",
            "starting Epoch 2\n",
            "Training...\n",
            "Train loss: 0.6994966417551041\n",
            "Train loss: 0.6758727955095696\n",
            "Train loss: 0.6686294865608216\n",
            "Train loss: 0.6648295326019401\n",
            "Train loss: 0.6612572833186104\n",
            "\n",
            "Evaluating on train...\n",
            "Val loss: 0.6828911155462265, Val f1: 0.6802772879600525\n",
            "Val loss: 0.6625766248414011, Val f1: 0.6610119342803955\n",
            "Val loss: 0.6556668841838836, Val f1: 0.6537904739379883\n",
            "Val loss: 0.6530658086734031, Val f1: 0.6488699316978455\n",
            "Val loss: 0.6513635438112986, Val f1: 0.6467106938362122\n",
            "\n",
            "Evaluating on test...\n",
            "Val loss: 1.2961353063583374, Val f1: 1.315812110900879\n",
            "Val loss: 0.8598699371019999, Val f1: 0.8840346336364746\n",
            "Val loss: 0.7755114316940308, Val f1: 0.7818931937217712\n",
            "Val loss: 0.7397115656307766, Val f1: 0.7407614588737488\n",
            "Val loss: 0.7180427643987868, Val f1: 0.7155840992927551\n",
            "\n",
            "starting Epoch 3\n",
            "Training...\n",
            "Train loss: 0.6821241639554501\n",
            "Train loss: 0.6624496181805929\n",
            "Train loss: 0.6552988684177399\n",
            "Train loss: 0.6509705105824257\n",
            "Train loss: 0.6476526991242454\n",
            "\n",
            "Evaluating on train...\n",
            "Val loss: 0.668268758803606, Val f1: 0.6781298518180847\n",
            "Val loss: 0.6498156280228586, Val f1: 0.6554393768310547\n",
            "Val loss: 0.6444273698329925, Val f1: 0.6474934816360474\n",
            "Val loss: 0.641479192385033, Val f1: 0.641989529132843\n",
            "Val loss: 0.6393194049596786, Val f1: 0.6391132473945618\n",
            "\n",
            "Evaluating on test...\n",
            "Val loss: 1.275926113128662, Val f1: 1.2874176502227783\n",
            "Val loss: 0.8475224177042643, Val f1: 0.8691433668136597\n",
            "Val loss: 0.7638169169425965, Val f1: 0.7694569826126099\n",
            "Val loss: 0.7289007646696908, Val f1: 0.7302934527397156\n",
            "Val loss: 0.7072509593433804, Val f1: 0.7029498815536499\n",
            "\n",
            "starting Epoch 4\n",
            "Training...\n",
            "Train loss: 0.6724537201225758\n",
            "Train loss: 0.6509800968748151\n",
            "Train loss: 0.6427059018611908\n",
            "Train loss: 0.6395315981622952\n",
            "Train loss: 0.6361519162143979\n",
            "\n",
            "Evaluating on train...\n",
            "Val loss: 0.6621385775506496, Val f1: 0.7186697721481323\n",
            "Val loss: 0.642833209399021, Val f1: 0.6951661705970764\n",
            "Val loss: 0.6351557016372681, Val f1: 0.6902351379394531\n",
            "Val loss: 0.6315125022361527, Val f1: 0.6868537664413452\n",
            "Val loss: 0.6287028016079039, Val f1: 0.6859984993934631\n",
            "\n",
            "Evaluating on test...\n",
            "Val loss: 1.2485536336898804, Val f1: 1.387146234512329\n",
            "Val loss: 0.8308004140853882, Val f1: 0.9257914423942566\n",
            "Val loss: 0.7504646897315979, Val f1: 0.8216513991355896\n",
            "Val loss: 0.7159918035779681, Val f1: 0.7801600098609924\n",
            "Val loss: 0.6951995160844591, Val f1: 0.7541727423667908\n",
            "\n",
            "starting Epoch 5\n",
            "Training...\n",
            "Train loss: 0.6642467975616455\n",
            "Train loss: 0.6413362676447089\n",
            "Train loss: 0.6332551169395447\n",
            "Train loss: 0.6291464060100157\n",
            "Train loss: 0.6263139666545958\n",
            "\n",
            "Evaluating on train...\n",
            "Val loss: 0.6452575474977493, Val f1: 0.7395036220550537\n",
            "Val loss: 0.627372535792264, Val f1: 0.7119279503822327\n",
            "Val loss: 0.621006759405136, Val f1: 0.7037947773933411\n",
            "Val loss: 0.6203744882967934, Val f1: 0.6970896124839783\n",
            "Val loss: 0.6186054987566811, Val f1: 0.6943886876106262\n",
            "\n",
            "Evaluating on test...\n",
            "Val loss: 1.2263070344924927, Val f1: 1.4008712768554688\n",
            "Val loss: 0.8171182672182719, Val f1: 0.9350892305374146\n",
            "Val loss: 0.7382786750793457, Val f1: 0.8330277800559998\n",
            "Val loss: 0.7046257257461548, Val f1: 0.7902807593345642\n",
            "Val loss: 0.6842061546113756, Val f1: 0.7622183561325073\n",
            "\n",
            "starting Epoch 6\n",
            "Training...\n",
            "Train loss: 0.6494146585464478\n",
            "Train loss: 0.6311987512039415\n",
            "Train loss: 0.6233873283863067\n",
            "Train loss: 0.6180559708111322\n",
            "Train loss: 0.615826333562533\n",
            "\n",
            "Evaluating on train...\n",
            "Val loss: 0.6391348242759705, Val f1: 0.6778852939605713\n",
            "Val loss: 0.62107853455977, Val f1: 0.6533468961715698\n",
            "Val loss: 0.6138432800769806, Val f1: 0.6487019062042236\n",
            "Val loss: 0.6105911838474558, Val f1: 0.6455318927764893\n",
            "Val loss: 0.6090447299537205, Val f1: 0.6438549757003784\n",
            "\n",
            "Evaluating on test...\n",
            "Val loss: 1.2120229005813599, Val f1: 1.3151320219039917\n",
            "Val loss: 0.8085637887318929, Val f1: 0.8816983103752136\n",
            "Val loss: 0.7291705012321472, Val f1: 0.7754368185997009\n",
            "Val loss: 0.6971861890384129, Val f1: 0.7329844832420349\n",
            "Val loss: 0.6763161818186442, Val f1: 0.7060131430625916\n",
            "\n",
            "starting Epoch 7\n",
            "Training...\n",
            "Train loss: 0.6381630450487137\n",
            "Train loss: 0.6162203243284514\n",
            "Train loss: 0.6096534132957458\n",
            "Train loss: 0.6060054880469593\n",
            "Train loss: 0.6032752643028895\n",
            "\n",
            "Evaluating on train...\n",
            "Val loss: 0.632913913577795, Val f1: 0.6547186374664307\n",
            "Val loss: 0.6136656710595796, Val f1: 0.6324359774589539\n",
            "Val loss: 0.6072595882415771, Val f1: 0.6294729709625244\n",
            "Val loss: 0.6042314518743487, Val f1: 0.6266676783561707\n",
            "Val loss: 0.6027603191988808, Val f1: 0.6246022582054138\n",
            "\n",
            "Evaluating on test...\n",
            "Val loss: 1.1966928243637085, Val f1: 1.282781958580017\n",
            "Val loss: 0.7996483445167542, Val f1: 0.8553115725517273\n",
            "Val loss: 0.7210974335670471, Val f1: 0.7533854246139526\n",
            "Val loss: 0.6901729277202061, Val f1: 0.7127739191055298\n",
            "Val loss: 0.6696891188621521, Val f1: 0.6853551864624023\n",
            "\n",
            "starting Epoch 8\n",
            "Training...\n",
            "Train loss: 0.625105258077383\n",
            "Train loss: 0.6076839746850909\n",
            "Train loss: 0.6012039911746979\n",
            "Train loss: 0.5974803824922932\n",
            "Train loss: 0.5946964855704989\n",
            "\n",
            "Evaluating on train...\n",
            "Val loss: 0.6176462471485138, Val f1: 0.7547480463981628\n",
            "Val loss: 0.6001225077744686, Val f1: 0.7288188934326172\n",
            "Val loss: 0.5942561006546021, Val f1: 0.7205908298492432\n",
            "Val loss: 0.5914897936493603, Val f1: 0.7170055508613586\n",
            "Val loss: 0.5909364542790821, Val f1: 0.7145721316337585\n",
            "\n",
            "Evaluating on test...\n",
            "Val loss: 1.1648064255714417, Val f1: 1.429597020149231\n",
            "Val loss: 0.7784841458002726, Val f1: 0.9542508125305176\n",
            "Val loss: 0.7055621862411499, Val f1: 0.850921630859375\n",
            "Val loss: 0.6745806932449341, Val f1: 0.8097756505012512\n",
            "Val loss: 0.6551550759209527, Val f1: 0.7820004820823669\n",
            "\n",
            "starting Epoch 9\n",
            "Training...\n",
            "Train loss: 0.6198864951729774\n",
            "Train loss: 0.5997107679193671\n",
            "Train loss: 0.5921270227432252\n",
            "Train loss: 0.5891973447443833\n",
            "Train loss: 0.5869090188117254\n",
            "\n",
            "Evaluating on train...\n",
            "Val loss: 0.6080080159008503, Val f1: 0.717265784740448\n",
            "Val loss: 0.591630838134072, Val f1: 0.6879599690437317\n",
            "Val loss: 0.5853328120708465, Val f1: 0.6820110082626343\n",
            "Val loss: 0.5839608969973095, Val f1: 0.6776981949806213\n",
            "Val loss: 0.5821250882886705, Val f1: 0.6749995350837708\n",
            "\n",
            "Evaluating on test...\n",
            "Val loss: 1.1528414487838745, Val f1: 1.3764288425445557\n",
            "Val loss: 0.7703619599342346, Val f1: 0.9143109321594238\n",
            "Val loss: 0.6965858221054078, Val f1: 0.810158908367157\n",
            "Val loss: 0.6666596276419503, Val f1: 0.7653566598892212\n",
            "Val loss: 0.6474077767795987, Val f1: 0.7367685437202454\n",
            "\n",
            "starting Epoch 10\n",
            "Training...\n",
            "Train loss: 0.6123435832560062\n",
            "Train loss: 0.5936639272805416\n",
            "Train loss: 0.5854998993873596\n",
            "Train loss: 0.5827230188383985\n",
            "Train loss: 0.5805819843496595\n",
            "\n",
            "Evaluating on train...\n",
            "Val loss: 0.6094559282064438, Val f1: 0.7558767199516296\n",
            "Val loss: 0.5891110644196019, Val f1: 0.7349165081977844\n",
            "Val loss: 0.5818309473991394, Val f1: 0.726530909538269\n",
            "Val loss: 0.5796285405087827, Val f1: 0.7220854163169861\n",
            "Val loss: 0.5779209761392503, Val f1: 0.7191571593284607\n",
            "\n",
            "Evaluating on test...\n",
            "Val loss: 1.1449248790740967, Val f1: 1.4229791164398193\n",
            "Val loss: 0.7637970447540283, Val f1: 0.9531695246696472\n",
            "Val loss: 0.6925924777984619, Val f1: 0.8530657887458801\n",
            "Val loss: 0.661734938621521, Val f1: 0.8102352619171143\n",
            "Val loss: 0.6429680585861206, Val f1: 0.7828998565673828\n",
            "\n",
            "starting Epoch 11\n",
            "Training...\n",
            "Train loss: 0.6059706881642342\n",
            "Train loss: 0.5868124239372484\n",
            "Train loss: 0.5813604259490966\n",
            "Train loss: 0.5777338325087704\n",
            "Train loss: 0.576107280594962\n",
            "\n",
            "Evaluating on train...\n",
            "Val loss: 0.6025771051645279, Val f1: 0.717036783695221\n",
            "Val loss: 0.5825863661188068, Val f1: 0.7026209235191345\n",
            "Val loss: 0.5758697247505188, Val f1: 0.6960211992263794\n",
            "Val loss: 0.5724148118673865, Val f1: 0.6917117238044739\n",
            "Val loss: 0.5710763682921728, Val f1: 0.6889983415603638\n",
            "\n",
            "Evaluating on test...\n",
            "Val loss: 1.1352271437644958, Val f1: 1.386584997177124\n",
            "Val loss: 0.7587225635846456, Val f1: 0.9226417541503906\n",
            "Val loss: 0.6867563605308533, Val f1: 0.8224727511405945\n",
            "Val loss: 0.657070483480181, Val f1: 0.7762624621391296\n",
            "Val loss: 0.6379197769694858, Val f1: 0.749144971370697\n",
            "\n",
            "starting Epoch 12\n",
            "Training...\n",
            "Train loss: 0.6002681702375412\n",
            "Train loss: 0.584789104533918\n",
            "Train loss: 0.5769780731201172\n",
            "Train loss: 0.5751041342963034\n",
            "Train loss: 0.5717460371199108\n",
            "\n",
            "Evaluating on train...\n",
            "Val loss: 0.5967858768999577, Val f1: 0.74312824010849\n",
            "Val loss: 0.5770437320073446, Val f1: 0.7215887308120728\n",
            "Val loss: 0.5717794346809387, Val f1: 0.7122920155525208\n",
            "Val loss: 0.5683344931744817, Val f1: 0.7107247710227966\n",
            "Val loss: 0.5666815532105309, Val f1: 0.7088220715522766\n",
            "\n",
            "Evaluating on test...\n",
            "Val loss: 1.1258163452148438, Val f1: 1.4200949668884277\n",
            "Val loss: 0.7532611687978109, Val f1: 0.9412783980369568\n",
            "Val loss: 0.6828944444656372, Val f1: 0.8394877314567566\n",
            "Val loss: 0.6529197181974139, Val f1: 0.7955088019371033\n",
            "Val loss: 0.6341244180997213, Val f1: 0.7675541043281555\n",
            "\n",
            "starting Epoch 13\n",
            "Training...\n",
            "Train loss: 0.6058879047632217\n",
            "Train loss: 0.5828205040006926\n",
            "Train loss: 0.5739261996746063\n",
            "Train loss: 0.5709715458884168\n",
            "Train loss: 0.5688254811934063\n",
            "\n",
            "Evaluating on train...\n",
            "Val loss: 0.606800202280283, Val f1: 0.777904748916626\n",
            "Val loss: 0.5894014889543707, Val f1: 0.7525019645690918\n",
            "Val loss: 0.5839515733718872, Val f1: 0.7435663342475891\n",
            "Val loss: 0.580243706703186, Val f1: 0.7402752637863159\n",
            "Val loss: 0.5786032818612599, Val f1: 0.7384257316589355\n",
            "\n",
            "Evaluating on test...\n",
            "Val loss: 1.1437627673149109, Val f1: 1.453458309173584\n",
            "Val loss: 0.7641594608624777, Val f1: 0.969928503036499\n",
            "Val loss: 0.6946635484695435, Val f1: 0.8689669966697693\n",
            "Val loss: 0.6635292598179409, Val f1: 0.8256679177284241\n",
            "Val loss: 0.644838915930854, Val f1: 0.8002244234085083\n",
            "\n",
            "starting Epoch 14\n",
            "Training...\n",
            "Train loss: 0.5990532003343105\n",
            "Train loss: 0.5816482179092638\n",
            "Train loss: 0.5756147778034211\n",
            "Train loss: 0.5711819227062055\n",
            "Train loss: 0.5682772440569741\n",
            "\n",
            "Evaluating on train...\n",
            "Val loss: 0.5872095488011837, Val f1: 0.7658982872962952\n",
            "Val loss: 0.569842542662765, Val f1: 0.7447171807289124\n",
            "Val loss: 0.5668782043457031, Val f1: 0.7345297336578369\n",
            "Val loss: 0.5638694184929577, Val f1: 0.73041170835495\n",
            "Val loss: 0.5629776538837523, Val f1: 0.7290788292884827\n",
            "\n",
            "Evaluating on test...\n",
            "Val loss: 1.1198117136955261, Val f1: 1.4432631731033325\n",
            "Val loss: 0.7476734320322672, Val f1: 0.9633726477622986\n",
            "Val loss: 0.6789833307266235, Val f1: 0.8587956428527832\n",
            "Val loss: 0.6490961057799203, Val f1: 0.8160445094108582\n",
            "Val loss: 0.6302585668034024, Val f1: 0.7892107367515564\n",
            "\n",
            "starting Epoch 15\n",
            "Training...\n",
            "Train loss: 0.5917639918625355\n",
            "Train loss: 0.5735875115250096\n",
            "Train loss: 0.5681792187690735\n",
            "Train loss: 0.5642742390063271\n",
            "Train loss: 0.5624165790421622\n",
            "\n",
            "Evaluating on train...\n",
            "Val loss: 0.5828316435217857, Val f1: 0.7615491151809692\n",
            "Val loss: 0.5650823856845046, Val f1: 0.7370865941047668\n",
            "Val loss: 0.5617691922187805, Val f1: 0.7275282740592957\n",
            "Val loss: 0.5592930441472068, Val f1: 0.7236180305480957\n",
            "Val loss: 0.5576847514935902, Val f1: 0.7212337255477905\n",
            "\n",
            "Evaluating on test...\n",
            "Val loss: 1.11209636926651, Val f1: 1.435877799987793\n",
            "Val loss: 0.7429450750350952, Val f1: 0.9558897018432617\n",
            "Val loss: 0.6743143677711487, Val f1: 0.8527435660362244\n",
            "Val loss: 0.6450454933302743, Val f1: 0.8080967664718628\n",
            "Val loss: 0.6263306339581808, Val f1: 0.7805744409561157\n",
            "\n",
            "starting Epoch 16\n",
            "Training...\n",
            "Train loss: 0.5902233608067036\n",
            "Train loss: 0.5697260426752495\n",
            "Train loss: 0.56395103931427\n",
            "Train loss: 0.5612206556903783\n",
            "Train loss: 0.5604036351044973\n",
            "\n",
            "Evaluating on train...\n",
            "Val loss: 0.5873407237231731, Val f1: 0.7132478356361389\n",
            "Val loss: 0.5703470562443589, Val f1: 0.6908944249153137\n",
            "Val loss: 0.5666227233409882, Val f1: 0.6804115176200867\n",
            "Val loss: 0.5622654637294029, Val f1: 0.678291916847229\n",
            "Val loss: 0.5606348365545273, Val f1: 0.6753444671630859\n",
            "\n",
            "Evaluating on test...\n",
            "Val loss: 1.12636399269104, Val f1: 1.3576550483703613\n",
            "Val loss: 0.7530273596445719, Val f1: 0.8987188339233398\n",
            "Val loss: 0.6812547206878662, Val f1: 0.7960805892944336\n",
            "Val loss: 0.6526871919631958, Val f1: 0.7524296045303345\n",
            "Val loss: 0.6331304510434469, Val f1: 0.7264732718467712\n",
            "\n",
            "starting Epoch 17\n",
            "Training...\n",
            "Train loss: 0.5829462334513664\n",
            "Train loss: 0.5675739483399824\n",
            "Train loss: 0.5618057429790497\n",
            "Train loss: 0.5582757022843432\n",
            "Train loss: 0.5578209715230125\n",
            "\n",
            "Evaluating on train...\n",
            "Val loss: 0.5750365443527699, Val f1: 0.7404849529266357\n",
            "Val loss: 0.5576021761605234, Val f1: 0.7211519479751587\n",
            "Val loss: 0.5549970281124115, Val f1: 0.7099743485450745\n",
            "Val loss: 0.5527908837617334, Val f1: 0.7056612372398376\n",
            "Val loss: 0.5527326485940388, Val f1: 0.7021817564964294\n",
            "\n",
            "Evaluating on test...\n",
            "Val loss: 1.1137292981147766, Val f1: 1.404689073562622\n",
            "Val loss: 0.7436592777570089, Val f1: 0.9339994788169861\n",
            "Val loss: 0.6739646673202515, Val f1: 0.8294398188591003\n",
            "Val loss: 0.6449974434716361, Val f1: 0.7862101197242737\n",
            "Val loss: 0.6259357730547587, Val f1: 0.7584555149078369\n",
            "\n",
            "starting Epoch 18\n",
            "Training...\n",
            "Train loss: 0.5845745243132114\n",
            "Train loss: 0.5656197667121887\n",
            "Train loss: 0.5589716565608979\n",
            "Train loss: 0.5574864531630901\n",
            "Train loss: 0.5567010634002232\n",
            "\n",
            "Evaluating on train...\n",
            "Val loss: 0.5757180266082287, Val f1: 0.7451918125152588\n",
            "Val loss: 0.5612724802710793, Val f1: 0.7203211188316345\n",
            "Val loss: 0.5554198205471039, Val f1: 0.7154740691184998\n",
            "Val loss: 0.5516192690650029, Val f1: 0.7117962837219238\n",
            "Val loss: 0.5506609025455657, Val f1: 0.7089753746986389\n",
            "\n",
            "Evaluating on test...\n",
            "Val loss: 1.1104907989501953, Val f1: 1.4168295860290527\n",
            "Val loss: 0.7413423260052999, Val f1: 0.9373695850372314\n",
            "Val loss: 0.6714325904846191, Val f1: 0.8343760371208191\n",
            "Val loss: 0.6425125428608486, Val f1: 0.7896179556846619\n",
            "Val loss: 0.6233933236863878, Val f1: 0.7612863779067993\n",
            "\n",
            "starting Epoch 19\n",
            "Training...\n",
            "Train loss: 0.5794461444020271\n",
            "Train loss: 0.5642684499422709\n",
            "Train loss: 0.5591371750831604\n",
            "Train loss: 0.556057291244393\n",
            "Train loss: 0.5533681660890579\n",
            "\n",
            "Evaluating on train...\n",
            "Val loss: 0.5790658481419086, Val f1: 0.742868959903717\n",
            "Val loss: 0.5588377948963281, Val f1: 0.7225248217582703\n",
            "Val loss: 0.553236802816391, Val f1: 0.7151996493339539\n",
            "Val loss: 0.551475836269891, Val f1: 0.711646556854248\n",
            "Val loss: 0.5491836468378702, Val f1: 0.7085883021354675\n",
            "\n",
            "Evaluating on test...\n",
            "Val loss: 1.1072248220443726, Val f1: 1.409961462020874\n",
            "Val loss: 0.7392832438151041, Val f1: 0.9363760352134705\n",
            "Val loss: 0.6702561616897583, Val f1: 0.8359546065330505\n",
            "Val loss: 0.6414239576884678, Val f1: 0.7913811802864075\n",
            "Val loss: 0.622438391049703, Val f1: 0.7635107636451721\n"
          ]
        }
      ]
    },
    {
      "cell_type": "code",
      "metadata": {
        "id": "WtRXVHYWV57N",
        "colab": {
          "base_uri": "https://localhost:8080/",
          "height": 422
        },
        "outputId": "1a8fc3cf-2d85-4c2b-b478-6eec4d00d58b"
      },
      "source": [
        "fig, ax = plt.subplots(figsize=(6, 6))\n",
        "plt.title('Train')\n",
        "plt.xlabel('Iterations')\n",
        "plt.ylabel('Losses')\n",
        "plt.grid()\n",
        "ax.plot(losses)\n",
        "ax.plot(losses_eval)\n",
        "ax.legend()\n",
        "plt.show()"
      ],
      "execution_count": 102,
      "outputs": [
        {
          "output_type": "stream",
          "name": "stderr",
          "text": [
            "No handles with labels found to put in legend.\n"
          ]
        },
        {
          "output_type": "display_data",
          "data": {
            "image/png": "[encoded data removed]",
            "text/plain": [
              "<Figure size 432x432 with 1 Axes>"
            ]
          },
          "metadata": {
            "needs_background": "light"
          }
        }
      ]
    },
    {
      "cell_type": "code",
      "metadata": {
        "id": "bR8xnuH0EUqI",
        "colab": {
          "base_uri": "https://localhost:8080/"
        },
        "outputId": "f014009d-8d9a-423e-96bf-a6cb063f4a80"
      },
      "source": [
        "losses[-1]"
      ],
      "execution_count": 103,
      "outputs": [
        {
          "output_type": "execute_result",
          "data": {
            "text/plain": [
              "0.546547457575798"
            ]
          },
          "metadata": {},
          "execution_count": 103
        }
      ]
    },
    {
      "cell_type": "code",
      "metadata": {
        "id": "G_EsY3i_EUqJ",
        "colab": {
          "base_uri": "https://localhost:8080/"
        },
        "outputId": "9a574f8d-d7eb-4c44-d595-fe2f1cbb2b8b"
      },
      "source": [
        "losses_eval[-1]"
      ],
      "execution_count": 104,
      "outputs": [
        {
          "output_type": "execute_result",
          "data": {
            "text/plain": [
              "0.5601945519447327"
            ]
          },
          "metadata": {},
          "execution_count": 104
        }
      ]
    },
    {
      "cell_type": "code",
      "metadata": {
        "id": "Pw42vTwmEUqJ",
        "colab": {
          "base_uri": "https://localhost:8080/"
        },
        "outputId": "b429c3de-bbec-4720-beaa-72e7f719377e"
      },
      "source": [
        "f1s[-1]"
      ],
      "execution_count": 105,
      "outputs": [
        {
          "output_type": "execute_result",
          "data": {
            "text/plain": [
              "tensor(0.7003, device='cuda:0')"
            ]
          },
          "metadata": {},
          "execution_count": 105
        }
      ]
    },
    {
      "cell_type": "code",
      "metadata": {
        "id": "ZSU-_j3iEUqJ",
        "colab": {
          "base_uri": "https://localhost:8080/"
        },
        "outputId": "11038d9d-ff17-4851-e31c-157527c8aac2"
      },
      "source": [
        "f1s_eval[-1]"
      ],
      "execution_count": 106,
      "outputs": [
        {
          "output_type": "execute_result",
          "data": {
            "text/plain": [
              "tensor(0.6872, device='cuda:0')"
            ]
          },
          "metadata": {},
          "execution_count": 106
        }
      ]
    },
    {
      "cell_type": "code",
      "metadata": {
        "id": "nloTzDyQ8nf2"
      },
      "source": [
        "val_sentences['predicted']  = predict(model, val_iterator)"
      ],
      "execution_count": 107,
      "outputs": []
    },
    {
      "cell_type": "code",
      "metadata": {
        "colab": {
          "base_uri": "https://localhost:8080/"
        },
        "id": "bQcwgq9b8oHP",
        "outputId": "2a78a5f2-98a7-4291-b51d-7c247042aa24"
      },
      "source": [
        "# TP\n",
        "val_sentences[(val_sentences['tone'] == 1) & (val_sentences['predicted'] == 1)]['clean_text'].to_list()[:10]"
      ],
      "execution_count": 108,
      "outputs": [
        {
          "output_type": "execute_result",
          "data": {
            "text/plain": [
              "['здоровски погуляли по магазинам с USER пингвины',\n",
              " 'прикольно когда к тебе в бар приходит девушка выпить кофе на мин 1 15 а в итоге зависает у тебя в баре на хороших часа полтора',\n",
              " 'USER не умирай еще тебе предстоит вечер',\n",
              " 'rt USER юмор красота требует жертв придумай смешную подпись к картинке URL',\n",
              " 'давайте уж побыстрее 12 декабря объявляйте выходным днем и переносите на пятницу 13 буду строить планы',\n",
              " 'USER холодно очень и паскаль делает мне страдай d',\n",
              " 'время сна я утомилась дико завтра сложный день 6 5 часов мне на восстановление сил всем доброй ночи',\n",
              " 'USER смешно ему и плюс мне масса нужна в спорте немного я как бить буду если сил нету крч диета для идиотов',\n",
              " 'USER норм вообще то мы на наших ярмарках вообще мало зарабатываем',\n",
              " 'USER USER если ты затусишь после у сережи тебе вообще супер удобно будет']"
            ]
          },
          "metadata": {},
          "execution_count": 108
        }
      ]
    },
    {
      "cell_type": "code",
      "metadata": {
        "colab": {
          "base_uri": "https://localhost:8080/"
        },
        "id": "Fus2tQvF8zHy",
        "outputId": "5f2dd7e0-2343-4383-fc10-71a698133dae"
      },
      "source": [
        "# FN\n",
        "val_sentences[(val_sentences['tone'] == 1) & (val_sentences['predicted'] == 0)]['clean_text'].to_list()[:10]"
      ],
      "execution_count": 109,
      "outputs": [
        {
          "output_type": "execute_result",
          "data": {
            "text/plain": [
              "['ник вернется в сериал полиция гавайев счастьерадость ну правильно а то закончили на самом интересном',\n",
              " 'USER ну у меня времени много могу поиграть в шерлока но лучше скажи',\n",
              " 'USER иногда хочется тебя ретвитить но функция недоступна',\n",
              " 'USER USER законная власть должна в ес вступать а не рот свой открывать вот что главно',\n",
              " 'USER 27 2 7 в 7 лет в крепости у весного огня почетный караул ебнулся чтоли',\n",
              " 'я только недавно хотела зимы теперь хочу лета а у лета я буду просить зимы',\n",
              " 'на улице очень весело но очень холодно выбор между сугробом и домом не так то прост на самом деле',\n",
              " 'USER ну я пока еще с тюленем не танцевала',\n",
              " 'USER я родилась на украине но еще в детстве переехали с мамой в россию ты из какого города',\n",
              " 'USER USER да чего там две дырки проделать для рук и все х']"
            ]
          },
          "metadata": {},
          "execution_count": 109
        }
      ]
    },
    {
      "cell_type": "code",
      "metadata": {
        "colab": {
          "base_uri": "https://localhost:8080/"
        },
        "id": "POlyKuwf8zRt",
        "outputId": "c72e8b67-6e28-48d9-c5dc-d179d8be881d"
      },
      "source": [
        "# FP\n",
        "val_sentences[(val_sentences['tone'] == 0) & (val_sentences['predicted'] == 1)]['clean_text'].to_list()[:10]"
      ],
      "execution_count": 110,
      "outputs": [
        {
          "output_type": "execute_result",
          "data": {
            "text/plain": [
              "['USER ну я всегда говорил что я тп',\n",
              " 'USER дина ты дура чтоли о о заткнись чтоли о о',\n",
              " 'rt USER епт так ты баба нет кто тебе сказал такую глупость у меня есть пипирка URL',\n",
              " 'если я его потеряю я этого просто не переживу',\n",
              " 'рано утром снова кровь сдавать снова не позавтракаю',\n",
              " 'rt USER есть у кого нибудь наушники кому не жалко дайте мне',\n",
              " 'USER USER сегодня последний день и больше в этом году мы не увидим наших любимых мальчиков до самой осени',\n",
              " 'а у мну не работает рекомендация с комментами вторая попытка и фейл чяднт',\n",
              " 'сразу ощущается разница между журналистами иностранными и нашими путинотвечает',\n",
              " 'USER я так и не посмотрела фильм мне пришлось срочно уйти']"
            ]
          },
          "metadata": {},
          "execution_count": 110
        }
      ]
    },
    {
      "cell_type": "markdown",
      "metadata": {
        "id": "2hZbJzSDSzB8"
      },
      "source": [
        "TP: здесь в основном содержатся положительные высказывания\n",
        "\n",
        "FN: здесь в основном содержатс шуточные высказывания\n",
        "\n",
        "FP: можно заметить, что тут находятся высказывания, содержащие в основном негативный контекст, а также частица *не*"
      ]
    },
    {
      "cell_type": "markdown",
      "metadata": {
        "id": "_kS-iqmqqTl0"
      },
      "source": [
        "#Улучшение"
      ]
    },
    {
      "cell_type": "code",
      "metadata": {
        "id": "bhau3QZMxL-b"
      },
      "source": [
        "train_dataset = TweetsDataset(train_sentences, word2id, DEVICE)\n",
        "train_sampler = RandomSampler(train_dataset)\n",
        "train_iterator = DataLoader(train_dataset, collate_fn = train_dataset.collate_fn, sampler=train_sampler, batch_size=1024)"
      ],
      "execution_count": 111,
      "outputs": []
    },
    {
      "cell_type": "code",
      "metadata": {
        "id": "9r1QKRKnxL-c"
      },
      "source": [
        "val_dataset = TweetsDataset(val_sentences, word2id, DEVICE)\n",
        "val_sampler = SequentialSampler(val_dataset)\n",
        "val_iterator = DataLoader(val_dataset, collate_fn = val_dataset.collate_fn, sampler=val_sampler, batch_size=1024)"
      ],
      "execution_count": 112,
      "outputs": []
    },
    {
      "cell_type": "code",
      "metadata": {
        "id": "OtlEwlQEqT1p"
      },
      "source": [
        "class BetterCNN(nn.Module):\n",
        "    \n",
        "    def __init__(self, vocab_size, embedding_dim):\n",
        "        super().__init__()\n",
        "        self.embedding = nn.Embedding(vocab_size, embedding_dim)\n",
        "        self.embedding.from_pretrained(torch.tensor(weights), freeze=True)\n",
        "\n",
        "        self.bigrams = nn.Conv1d(in_channels=embedding_dim, out_channels=100, kernel_size=2, padding='same')\n",
        "        self.trigrams = nn.Conv1d(in_channels=embedding_dim, out_channels=80, kernel_size=3, padding='same')\n",
        "        self.bigrams_over = nn.Conv1d(in_channels=180, out_channels=180, kernel_size=2, padding='same')\n",
        "\n",
        "        self.pooling = nn.MaxPool1d(kernel_size=2, stride=2)\n",
        "        self.relu = nn.ReLU()\n",
        "        self.hidden = nn.Linear(in_features=180, out_features=1)\n",
        "        self.dropout = nn.Dropout(p=0.5)\n",
        "        self.out = nn.Sigmoid()\n",
        "\n",
        "    def forward(self, word):\n",
        "        #batch_size x seq_len\n",
        "        embedded = self.embedding(word)\n",
        "        #batch_size x seq_len x embedding_dim\n",
        "        embedded = embedded.transpose(1,2)\n",
        "        #batch_size x embedding_dim x seq_len\n",
        "        feature_map_bigrams = self.relu(self.bigrams(embedded))\n",
        "        #batch_size x filter_count2 x seq_len* \n",
        "        feature_map_trigrams = self.relu(self.trigrams(embedded))\n",
        "        #batch_size x filter_count3 x seq_len*\n",
        "\n",
        "        concat = torch.cat((feature_map_bigrams, feature_map_trigrams), 1)\n",
        "        bigrams = self.dropout(self.pooling(self.relu(self.bigrams_over(concat))))\n",
        "        pooling = bigrams.max(2)[0] \n",
        "        # batch _size x (filter_count2 + filter_count3)\n",
        "\n",
        "        logits = self.hidden(pooling)\n",
        "        logits = self.out(logits)      \n",
        "        return logits"
      ],
      "execution_count": 113,
      "outputs": []
    },
    {
      "cell_type": "code",
      "metadata": {
        "id": "-lOb9INUshuu"
      },
      "source": [
        "def train(model, iterator, optimizer, criterion):\n",
        "    epoch_loss = 0 # для подсчета среднего лосса на всех батчах\n",
        "\n",
        "    model.train()  # ставим модель в обучение, явно указываем, что сейчас надо будет хранить градиенты у всех весов\n",
        "\n",
        "    for i, (texts, ys) in enumerate(iterator): #итерируемся по батчам\n",
        "        optimizer.zero_grad()  #обнуляем градиенты\n",
        "        preds = model(texts)  #прогоняем данные через модель\n",
        "        loss = criterion(preds, ys) #считаем значение функции потерь  \n",
        "        loss.backward() #считаем градиенты  \n",
        "        optimizer.step() #обновляем веса \n",
        "        epoch_loss += loss.item() #сохраняем значение функции потерь\n",
        "        if not (i + 1) % int(len(iterator)/5):\n",
        "            print(f'Train loss: {epoch_loss/i}')      \n",
        "    return  epoch_loss / len(iterator) # возвращаем среднее значение лосса по всей выборке"
      ],
      "execution_count": 114,
      "outputs": []
    },
    {
      "cell_type": "code",
      "metadata": {
        "id": "KEfMOypqshw9"
      },
      "source": [
        "def evaluate(model, iterator, criterion):\n",
        "    epoch_loss = 0\n",
        "    epoch_metric = 0\n",
        "    model.eval() \n",
        "    with torch.no_grad():\n",
        "        for i, (texts, ys) in enumerate(iterator):   \n",
        "            preds = model(texts)  # делаем предсказания на тесте\n",
        "            loss = criterion(preds, ys)   # считаем значения функции ошибки для статистики  \n",
        "            epoch_loss += loss.item()\n",
        "            batch_metric = f1(preds.round().long(), ys.long(), ignore_index=0)\n",
        "            epoch_metric += batch_metric\n",
        "\n",
        "            if not (i + 1) % int(len(iterator)/5):\n",
        "              print(f'Val loss: {epoch_loss/i}, Val f1: {epoch_metric/i}')\n",
        "        \n",
        "    return epoch_metric / len(iterator), epoch_loss / len(iterator) # возвращаем среднее значение по всей выборке"
      ],
      "execution_count": 115,
      "outputs": []
    },
    {
      "cell_type": "code",
      "metadata": {
        "id": "IpLd4Do9sh0h"
      },
      "source": [
        "model = BetterCNN(len(word2id), 10)\n",
        "optimizer = optim.Adam(model.parameters(), lr=0.001, weight_decay=1e-4)\n",
        "criterion = nn.BCELoss()  \n",
        "\n",
        "# веса модели и значения лосса храним там же, где и все остальные тензоры\n",
        "model = model.to(DEVICE)\n",
        "criterion = criterion.to(DEVICE)"
      ],
      "execution_count": 116,
      "outputs": []
    },
    {
      "cell_type": "code",
      "metadata": {
        "id": "jzEYQ3sE9nnl",
        "colab": {
          "base_uri": "https://localhost:8080/"
        },
        "outputId": "f4d51647-8918-47d1-bf1a-0fa29eb75ad9"
      },
      "source": [
        "losses = []\n",
        "losses_eval = []\n",
        "f1s = []\n",
        "f1s_eval = []\n",
        "\n",
        "for i in range(20):\n",
        "    print(f'\\nstarting Epoch {i}')\n",
        "    print('Training...')\n",
        "    epoch_loss = train(model, train_iterator, optimizer, criterion)\n",
        "    losses.append(epoch_loss)\n",
        "    print('\\nEvaluating on train...')\n",
        "    f1_on_train,_ = evaluate(model, train_iterator, criterion)\n",
        "    f1s.append(f1_on_train)\n",
        "    print('\\nEvaluating on test...')\n",
        "    f1_on_test, epoch_loss_on_test = evaluate(model, val_iterator, criterion)\n",
        "    losses_eval.append(epoch_loss_on_test)\n",
        "    f1s_eval.append(f1_on_test)"
      ],
      "execution_count": 117,
      "outputs": [
        {
          "output_type": "stream",
          "name": "stdout",
          "text": [
            "\n",
            "starting Epoch 0\n",
            "Training...\n",
            "Train loss: 0.7568571642041206\n",
            "Train loss: 0.7144657030250087\n",
            "Train loss: 0.6943663966655731\n",
            "Train loss: 0.6793940796780942\n",
            "Train loss: 0.6678465831847418\n",
            "\n",
            "Evaluating on train...\n",
            "Val loss: 0.6615765579044819, Val f1: 0.7023764252662659\n",
            "Val loss: 0.6430198658596386, Val f1: 0.6805157661437988\n",
            "Val loss: 0.6372658371925354, Val f1: 0.6724695563316345\n",
            "Val loss: 0.6342689012413594, Val f1: 0.6674272418022156\n",
            "Val loss: 0.6324084230831691, Val f1: 0.6657857298851013\n",
            "\n",
            "Evaluating on test...\n",
            "Val loss: 1.242378294467926, Val f1: 1.3243322372436523\n",
            "Val loss: 0.8301623662312826, Val f1: 0.8778156638145447\n",
            "Val loss: 0.7492467164993286, Val f1: 0.7868083119392395\n",
            "Val loss: 0.7146236300468445, Val f1: 0.7527580857276917\n",
            "Val loss: 0.6949897011121114, Val f1: 0.7273690104484558\n",
            "\n",
            "starting Epoch 1\n",
            "Training...\n",
            "Train loss: 0.6520518027245998\n",
            "Train loss: 0.6283752069328771\n",
            "Train loss: 0.6211705350875855\n",
            "Train loss: 0.6168573178462128\n",
            "Train loss: 0.613216431367965\n",
            "\n",
            "Evaluating on train...\n",
            "Val loss: 0.6458890624344349, Val f1: 0.7596393823623657\n",
            "Val loss: 0.6258088765722333, Val f1: 0.7350422143936157\n",
            "Val loss: 0.6199139964580536, Val f1: 0.7269172668457031\n",
            "Val loss: 0.6166895236541976, Val f1: 0.7223744988441467\n",
            "Val loss: 0.6150748644556318, Val f1: 0.7189284563064575\n",
            "\n",
            "Evaluating on test...\n",
            "Val loss: 1.2027852535247803, Val f1: 1.4402318000793457\n",
            "Val loss: 0.8048340876897176, Val f1: 0.963676929473877\n",
            "Val loss: 0.7290831208229065, Val f1: 0.8583086133003235\n",
            "Val loss: 0.6950264402798244, Val f1: 0.8137891888618469\n",
            "Val loss: 0.6765710645251803, Val f1: 0.7853044867515564\n",
            "\n",
            "starting Epoch 2\n",
            "Training...\n",
            "Train loss: 0.6332346796989441\n",
            "Train loss: 0.6118433619990493\n",
            "Train loss: 0.603011566400528\n",
            "Train loss: 0.59868137783079\n",
            "Train loss: 0.5962579874765306\n",
            "\n",
            "Evaluating on train...\n",
            "Val loss: 0.6288027614355087, Val f1: 0.7339417934417725\n",
            "Val loss: 0.6065522179459081, Val f1: 0.7128063440322876\n",
            "Val loss: 0.5999222409725189, Val f1: 0.7081558704376221\n",
            "Val loss: 0.5966768033468901, Val f1: 0.706562340259552\n",
            "Val loss: 0.5949323163146064, Val f1: 0.7041816711425781\n",
            "\n",
            "Evaluating on test...\n",
            "Val loss: 1.1713104248046875, Val f1: 1.4136627912521362\n",
            "Val loss: 0.7827866077423096, Val f1: 0.9431027770042419\n",
            "Val loss: 0.7083305954933167, Val f1: 0.8349846005439758\n",
            "Val loss: 0.6757762942995343, Val f1: 0.796486496925354\n",
            "Val loss: 0.6568959024217393, Val f1: 0.7683248519897461\n",
            "\n",
            "starting Epoch 3\n",
            "Training...\n",
            "Train loss: 0.6167097315192223\n",
            "Train loss: 0.5958273627541282\n",
            "Train loss: 0.5899611675739288\n",
            "Train loss: 0.5858167027359578\n",
            "Train loss: 0.5834780236085256\n",
            "\n",
            "Evaluating on train...\n",
            "Val loss: 0.6143605373799801, Val f1: 0.759007453918457\n",
            "Val loss: 0.5954914652939999, Val f1: 0.7374216318130493\n",
            "Val loss: 0.5904432463645936, Val f1: 0.7295870780944824\n",
            "Val loss: 0.5873152124347971, Val f1: 0.7256579995155334\n",
            "Val loss: 0.5858342739797774, Val f1: 0.7234084010124207\n",
            "\n",
            "Evaluating on test...\n",
            "Val loss: 1.1564511060714722, Val f1: 1.4283084869384766\n",
            "Val loss: 0.7719178001085917, Val f1: 0.9555478096008301\n",
            "Val loss: 0.6983874201774597, Val f1: 0.8546862602233887\n",
            "Val loss: 0.6666803019387382, Val f1: 0.81409752368927\n",
            "Val loss: 0.6474880973498026, Val f1: 0.788940966129303\n",
            "\n",
            "starting Epoch 4\n",
            "Training...\n",
            "Train loss: 0.6054941564798355\n",
            "Train loss: 0.5867856813199592\n",
            "Train loss: 0.5806254053115845\n",
            "Train loss: 0.5755925267489989\n",
            "Train loss: 0.5722819105500266\n",
            "\n",
            "Evaluating on train...\n",
            "Val loss: 0.6024460308253765, Val f1: 0.7652328014373779\n",
            "Val loss: 0.5835948929642186, Val f1: 0.7416779398918152\n",
            "Val loss: 0.5784753096103669, Val f1: 0.7323734760284424\n",
            "Val loss: 0.5758542569715586, Val f1: 0.7282917499542236\n",
            "Val loss: 0.5740661684955869, Val f1: 0.7259569764137268\n",
            "\n",
            "Evaluating on test...\n",
            "Val loss: 1.1347315907478333, Val f1: 1.4400211572647095\n",
            "Val loss: 0.7564733624458313, Val f1: 0.9617751836776733\n",
            "Val loss: 0.6847051978111267, Val f1: 0.8576120734214783\n",
            "Val loss: 0.6543151395661491, Val f1: 0.8152582049369812\n",
            "Val loss: 0.6355699565675523, Val f1: 0.7906054854393005\n",
            "\n",
            "starting Epoch 5\n",
            "Training...\n",
            "Train loss: 0.5941104926168919\n",
            "Train loss: 0.5758683500867902\n",
            "Train loss: 0.5703940522670746\n",
            "Train loss: 0.5670938135972664\n",
            "Train loss: 0.5667057058640889\n",
            "\n",
            "Evaluating on train...\n",
            "Val loss: 0.5939165242016315, Val f1: 0.7701416611671448\n",
            "Val loss: 0.574903237097191, Val f1: 0.7456552982330322\n",
            "Val loss: 0.5703921520709991, Val f1: 0.7365225553512573\n",
            "Val loss: 0.5678390051001934, Val f1: 0.7316911816596985\n",
            "Val loss: 0.5664456337690353, Val f1: 0.7282513976097107\n",
            "\n",
            "Evaluating on test...\n",
            "Val loss: 1.1249298453330994, Val f1: 1.4487898349761963\n",
            "Val loss: 0.7494527896245321, Val f1: 0.9682571291923523\n",
            "Val loss: 0.6772751092910767, Val f1: 0.8639551401138306\n",
            "Val loss: 0.6476098554474967, Val f1: 0.8203709125518799\n",
            "Val loss: 0.6284994085629781, Val f1: 0.7946915626525879\n",
            "\n",
            "starting Epoch 6\n",
            "Training...\n",
            "Train loss: 0.5884831137955189\n",
            "Train loss: 0.5713865991794702\n",
            "Train loss: 0.5647276771068573\n",
            "Train loss: 0.5618122620369072\n",
            "Train loss: 0.5580226842846189\n",
            "\n",
            "Evaluating on train...\n",
            "Val loss: 0.5948397219181061, Val f1: 0.7864964008331299\n",
            "Val loss: 0.5767797014930032, Val f1: 0.764060914516449\n",
            "Val loss: 0.5714818406105041, Val f1: 0.7577738761901855\n",
            "Val loss: 0.5679391088770397, Val f1: 0.7558141946792603\n",
            "Val loss: 0.5668439865112305, Val f1: 0.7531701326370239\n",
            "\n",
            "Evaluating on test...\n",
            "Val loss: 1.121593952178955, Val f1: 1.4898442029953003\n",
            "Val loss: 0.7465104262034098, Val f1: 0.995357871055603\n",
            "Val loss: 0.6764981627464295, Val f1: 0.887961208820343\n",
            "Val loss: 0.6465256554739816, Val f1: 0.8431943655014038\n",
            "Val loss: 0.6278537842962477, Val f1: 0.8181065320968628\n",
            "\n",
            "starting Epoch 7\n",
            "Training...\n",
            "Train loss: 0.5783159360289574\n",
            "Train loss: 0.5634709885626128\n",
            "Train loss: 0.5569711565971375\n",
            "Train loss: 0.554768157539083\n",
            "Train loss: 0.5520622318699246\n",
            "\n",
            "Evaluating on train...\n",
            "Val loss: 0.5846313759684563, Val f1: 0.7889881134033203\n",
            "Val loss: 0.5668492371385748, Val f1: 0.763920247554779\n",
            "Val loss: 0.5613819026947021, Val f1: 0.7561450004577637\n",
            "Val loss: 0.5582479452019307, Val f1: 0.7534080147743225\n",
            "Val loss: 0.556041711143085, Val f1: 0.7523993253707886\n",
            "\n",
            "Evaluating on test...\n",
            "Val loss: 1.103525459766388, Val f1: 1.4863178730010986\n",
            "Val loss: 0.7346369028091431, Val f1: 0.9929110407829285\n",
            "Val loss: 0.6654916524887085, Val f1: 0.887794017791748\n",
            "Val loss: 0.6362274714878627, Val f1: 0.8448315858840942\n",
            "Val loss: 0.61797077788247, Val f1: 0.8181368708610535\n",
            "\n",
            "starting Epoch 8\n",
            "Training...\n",
            "Train loss: 0.5827251933515072\n",
            "Train loss: 0.5640951467282844\n",
            "Train loss: 0.5559096848964691\n",
            "Train loss: 0.5528941990724251\n",
            "Train loss: 0.550488646541323\n",
            "\n",
            "Evaluating on train...\n",
            "Val loss: 0.5807027332484722, Val f1: 0.7885677218437195\n",
            "Val loss: 0.5624544999816201, Val f1: 0.7657781839370728\n",
            "Val loss: 0.556315336227417, Val f1: 0.7582235336303711\n",
            "Val loss: 0.5536943860908052, Val f1: 0.7551730871200562\n",
            "Val loss: 0.5517090324844632, Val f1: 0.7541588544845581\n",
            "\n",
            "Evaluating on test...\n",
            "Val loss: 1.0989342331886292, Val f1: 1.5008866786956787\n",
            "Val loss: 0.7304869095484415, Val f1: 1.0005874633789062\n",
            "Val loss: 0.6608866810798645, Val f1: 0.8920113444328308\n",
            "Val loss: 0.6323351263999939, Val f1: 0.8467411398887634\n",
            "Val loss: 0.6140657530890571, Val f1: 0.820374071598053\n",
            "\n",
            "starting Epoch 9\n",
            "Training...\n",
            "Train loss: 0.5752904042601585\n",
            "Train loss: 0.5549064296664614\n",
            "Train loss: 0.5487780237197876\n",
            "Train loss: 0.5450640641041656\n",
            "Train loss: 0.5466837932666143\n",
            "\n",
            "Evaluating on train...\n",
            "Val loss: 0.5715496800839901, Val f1: 0.7580423951148987\n",
            "Val loss: 0.5564889925898928, Val f1: 0.7352332472801208\n",
            "Val loss: 0.5511443674564361, Val f1: 0.7268251776695251\n",
            "Val loss: 0.54842798033757, Val f1: 0.7231926918029785\n",
            "Val loss: 0.5466633325531369, Val f1: 0.7218212485313416\n",
            "\n",
            "Evaluating on test...\n",
            "Val loss: 1.0950642824172974, Val f1: 1.4298107624053955\n",
            "Val loss: 0.7289606928825378, Val f1: 0.9513465762138367\n",
            "Val loss: 0.6577433943748474, Val f1: 0.8470350503921509\n",
            "Val loss: 0.6301661048616681, Val f1: 0.8028002381324768\n",
            "Val loss: 0.6109351648224725, Val f1: 0.7778991460800171\n",
            "\n",
            "starting Epoch 10\n",
            "Training...\n",
            "Train loss: 0.5764215476810932\n",
            "Train loss: 0.5536922324787487\n",
            "Train loss: 0.5474076616764069\n",
            "Train loss: 0.5448455152226918\n",
            "Train loss: 0.5431390780778158\n",
            "\n",
            "Evaluating on train...\n",
            "Val loss: 0.5719456672668457, Val f1: 0.8005314469337463\n",
            "Val loss: 0.5566588856957175, Val f1: 0.773568868637085\n",
            "Val loss: 0.5506477594375611, Val f1: 0.7658472061157227\n",
            "Val loss: 0.5475658293980271, Val f1: 0.7624768614768982\n",
            "Val loss: 0.5452867391563597, Val f1: 0.7612794637680054\n",
            "\n",
            "Evaluating on test...\n",
            "Val loss: 1.0878010988235474, Val f1: 1.5039706230163574\n",
            "Val loss: 0.7231851617495219, Val f1: 1.0041134357452393\n",
            "Val loss: 0.6552610635757447, Val f1: 0.8999198079109192\n",
            "Val loss: 0.6271198987960815, Val f1: 0.8536979556083679\n",
            "Val loss: 0.6090096566412184, Val f1: 0.8268717527389526\n",
            "\n",
            "starting Epoch 11\n",
            "Training...\n",
            "Train loss: 0.5643309354782104\n",
            "Train loss: 0.546438885457588\n",
            "Train loss: 0.5441185915470124\n",
            "Train loss: 0.5406113311425963\n",
            "Train loss: 0.5388433702644848\n",
            "\n",
            "Evaluating on train...\n",
            "Val loss: 0.5747016295790672, Val f1: 0.8047412633895874\n",
            "Val loss: 0.5567087747833945, Val f1: 0.7784348726272583\n",
            "Val loss: 0.549660575389862, Val f1: 0.7716082334518433\n",
            "Val loss: 0.5465025626011749, Val f1: 0.7678309679031372\n",
            "Val loss: 0.545096334247362, Val f1: 0.7650132179260254\n",
            "\n",
            "Evaluating on test...\n",
            "Val loss: 1.0885384678840637, Val f1: 1.5103652477264404\n",
            "Val loss: 0.7231664856274923, Val f1: 1.0111016035079956\n",
            "Val loss: 0.6552931785583496, Val f1: 0.9050931930541992\n",
            "Val loss: 0.6266005464962551, Val f1: 0.8585724830627441\n",
            "Val loss: 0.6086268226305643, Val f1: 0.8329966068267822\n",
            "\n",
            "starting Epoch 12\n",
            "Training...\n",
            "Train loss: 0.5626460257917643\n",
            "Train loss: 0.5514295850739335\n",
            "Train loss: 0.5461190849542618\n",
            "Train loss: 0.5439622629044661\n",
            "Train loss: 0.5418620176968121\n",
            "\n",
            "Evaluating on train...\n",
            "Val loss: 0.5632946938276291, Val f1: 0.787568211555481\n",
            "Val loss: 0.5472730325930046, Val f1: 0.7595056891441345\n",
            "Val loss: 0.5399250864982605, Val f1: 0.7563336491584778\n",
            "Val loss: 0.5385994448590634, Val f1: 0.7502567768096924\n",
            "Val loss: 0.5366799881060919, Val f1: 0.7481029629707336\n",
            "\n",
            "Evaluating on test...\n",
            "Val loss: 1.0777652263641357, Val f1: 1.4524005651474\n",
            "Val loss: 0.7168137033780416, Val f1: 0.9776136875152588\n",
            "Val loss: 0.647974944114685, Val f1: 0.8726534247398376\n",
            "Val loss: 0.6201374105044773, Val f1: 0.8282278776168823\n",
            "Val loss: 0.6015741361512078, Val f1: 0.8034767508506775\n",
            "\n",
            "starting Epoch 13\n",
            "Training...\n",
            "Train loss: 0.5545645356178284\n",
            "Train loss: 0.540484728235187\n",
            "Train loss: 0.5353923940658569\n",
            "Train loss: 0.5326240116090917\n",
            "Train loss: 0.5309441267024904\n",
            "\n",
            "Evaluating on train...\n",
            "Val loss: 0.5637459978461266, Val f1: 0.7944076061248779\n",
            "Val loss: 0.5450186386252894, Val f1: 0.7731461524963379\n",
            "Val loss: 0.5391656577587127, Val f1: 0.7669779062271118\n",
            "Val loss: 0.5362354072172251, Val f1: 0.76361483335495\n",
            "Val loss: 0.5336809477635792, Val f1: 0.7633581757545471\n",
            "\n",
            "Evaluating on test...\n",
            "Val loss: 1.0738651156425476, Val f1: 1.4970148801803589\n",
            "Val loss: 0.7134427030881246, Val f1: 1.0011484622955322\n",
            "Val loss: 0.6452091097831726, Val f1: 0.8967043161392212\n",
            "Val loss: 0.6170381903648376, Val f1: 0.8513217568397522\n",
            "Val loss: 0.598899331357744, Val f1: 0.8245949745178223\n",
            "\n",
            "starting Epoch 14\n",
            "Training...\n",
            "Train loss: 0.5542890690267086\n",
            "Train loss: 0.5385431791796829\n",
            "Train loss: 0.5333121144771575\n",
            "Train loss: 0.5321333132573028\n",
            "Train loss: 0.5311194204148793\n",
            "\n",
            "Evaluating on train...\n",
            "Val loss: 0.5581066533923149, Val f1: 0.7702333331108093\n",
            "Val loss: 0.5408179922537371, Val f1: 0.7514609098434448\n",
            "Val loss: 0.5350755858421326, Val f1: 0.7464939951896667\n",
            "Val loss: 0.53310775223063, Val f1: 0.7416736483573914\n",
            "Val loss: 0.5308254048937843, Val f1: 0.7400614023208618\n",
            "\n",
            "Evaluating on test...\n",
            "Val loss: 1.0719253420829773, Val f1: 1.4430917501449585\n",
            "Val loss: 0.7124285896619161, Val f1: 0.9687603712081909\n",
            "Val loss: 0.6431833505630493, Val f1: 0.8637798428535461\n",
            "Val loss: 0.6158813238143921, Val f1: 0.820766806602478\n",
            "Val loss: 0.5967624915970696, Val f1: 0.7959863543510437\n",
            "\n",
            "starting Epoch 15\n",
            "Training...\n",
            "Train loss: 0.5527737829834223\n",
            "Train loss: 0.5379252659552025\n",
            "Train loss: 0.5322913497686386\n",
            "Train loss: 0.5306972687813774\n",
            "Train loss: 0.5297041695032801\n",
            "\n",
            "Evaluating on train...\n",
            "Val loss: 0.5526210516691208, Val f1: 0.7957742214202881\n",
            "Val loss: 0.5375963910059496, Val f1: 0.7700334787368774\n",
            "Val loss: 0.5338179367780685, Val f1: 0.7593138217926025\n",
            "Val loss: 0.5303345344849487, Val f1: 0.7581281065940857\n",
            "Val loss: 0.528781828780969, Val f1: 0.7560986876487732\n",
            "\n",
            "Evaluating on test...\n",
            "Val loss: 1.0671115517616272, Val f1: 1.4737615585327148\n",
            "Val loss: 0.7108761469523112, Val f1: 0.9859367609024048\n",
            "Val loss: 0.6423234224319458, Val f1: 0.8798847198486328\n",
            "Val loss: 0.6146756836346218, Val f1: 0.8341586589813232\n",
            "Val loss: 0.5961751739184061, Val f1: 0.8090594410896301\n",
            "\n",
            "starting Epoch 16\n",
            "Training...\n",
            "Train loss: 0.550844231620431\n",
            "Train loss: 0.53590676278779\n",
            "Train loss: 0.5283201253414154\n",
            "Train loss: 0.5268514151893445\n",
            "Train loss: 0.526058326519671\n",
            "\n",
            "Evaluating on train...\n",
            "Val loss: 0.5488647632300854, Val f1: 0.8047657608985901\n",
            "Val loss: 0.5349527109753002, Val f1: 0.7765238285064697\n",
            "Val loss: 0.5291510033607483, Val f1: 0.76823890209198\n",
            "Val loss: 0.5265720824697124, Val f1: 0.7639442682266235\n",
            "Val loss: 0.5253428178174155, Val f1: 0.7618077397346497\n",
            "\n",
            "Evaluating on test...\n",
            "Val loss: 1.0610726475715637, Val f1: 1.4790629148483276\n",
            "Val loss: 0.7052492499351501, Val f1: 0.9923998713493347\n",
            "Val loss: 0.6375877618789673, Val f1: 0.8876416087150574\n",
            "Val loss: 0.6105319431849888, Val f1: 0.8443659543991089\n",
            "Val loss: 0.5922874146037631, Val f1: 0.8186021447181702\n",
            "\n",
            "starting Epoch 17\n",
            "Training...\n",
            "Train loss: 0.5490571036934853\n",
            "Train loss: 0.5325283859715317\n",
            "Train loss: 0.5276471972465515\n",
            "Train loss: 0.5256890943690912\n",
            "Train loss: 0.5230088205564589\n",
            "\n",
            "Evaluating on train...\n",
            "Val loss: 0.55074118450284, Val f1: 0.8172762393951416\n",
            "Val loss: 0.5362320235281279, Val f1: 0.789588451385498\n",
            "Val loss: 0.5312324452400208, Val f1: 0.7809802889823914\n",
            "Val loss: 0.5294893677554914, Val f1: 0.7759294509887695\n",
            "Val loss: 0.527032746445565, Val f1: 0.7756151556968689\n",
            "\n",
            "Evaluating on test...\n",
            "Val loss: 1.0628982186317444, Val f1: 1.5217297077178955\n",
            "Val loss: 0.706420878569285, Val f1: 1.0167663097381592\n",
            "Val loss: 0.6401230573654175, Val f1: 0.9115554690361023\n",
            "Val loss: 0.6118873698370797, Val f1: 0.8677681088447571\n",
            "Val loss: 0.5942707790268792, Val f1: 0.8403336405754089\n",
            "\n",
            "starting Epoch 18\n",
            "Training...\n",
            "Train loss: 0.5550537295639515\n",
            "Train loss: 0.5367676245443749\n",
            "Train loss: 0.5290626066923142\n",
            "Train loss: 0.5263921409400542\n",
            "Train loss: 0.5239185907301449\n",
            "\n",
            "Evaluating on train...\n",
            "Val loss: 0.5451796241104603, Val f1: 0.8124456405639648\n",
            "Val loss: 0.5305703481038412, Val f1: 0.7874570488929749\n",
            "Val loss: 0.5263108098506928, Val f1: 0.778856098651886\n",
            "Val loss: 0.5233458293907678, Val f1: 0.7771668434143066\n",
            "Val loss: 0.521421648916744, Val f1: 0.7748693823814392\n",
            "\n",
            "Evaluating on test...\n",
            "Val loss: 1.0550864934921265, Val f1: 1.5136003494262695\n",
            "Val loss: 0.7012697060902914, Val f1: 1.016326665878296\n",
            "Val loss: 0.6347316861152649, Val f1: 0.9092716574668884\n",
            "Val loss: 0.6071634207453046, Val f1: 0.8634370565414429\n",
            "Val loss: 0.5894685652520921, Val f1: 0.8360636830329895\n",
            "\n",
            "starting Epoch 19\n",
            "Training...\n",
            "Train loss: 0.5415361262857914\n",
            "Train loss: 0.5269788395274769\n",
            "Train loss: 0.5231575787067413\n",
            "Train loss: 0.5230799833340432\n",
            "Train loss: 0.5212122719912302\n",
            "\n",
            "Evaluating on train...\n",
            "Val loss: 0.5456133391708136, Val f1: 0.8092546463012695\n",
            "Val loss: 0.5279953813914097, Val f1: 0.7823649644851685\n",
            "Val loss: 0.525144789814949, Val f1: 0.7715732455253601\n",
            "Val loss: 0.5216568864103573, Val f1: 0.7681050896644592\n",
            "Val loss: 0.519508662323157, Val f1: 0.7667859792709351\n",
            "\n",
            "Evaluating on test...\n",
            "Val loss: 1.0546400547027588, Val f1: 1.5056016445159912\n",
            "Val loss: 0.7009292443593343, Val f1: 1.0012226104736328\n",
            "Val loss: 0.6331428050994873, Val f1: 0.8955947160720825\n",
            "Val loss: 0.6064128535134452, Val f1: 0.8497117161750793\n",
            "Val loss: 0.5884562134742737, Val f1: 0.8231008648872375\n"
          ]
        }
      ]
    },
    {
      "cell_type": "code",
      "metadata": {
        "id": "9weBeJTT9nwj",
        "colab": {
          "base_uri": "https://localhost:8080/",
          "height": 422
        },
        "outputId": "e96cdae4-3fbe-4eb7-941f-1817dcce3fb7"
      },
      "source": [
        "fig, ax = plt.subplots(figsize=(6, 6))\n",
        "plt.title('Train')\n",
        "plt.xlabel('Iterations')\n",
        "plt.ylabel('Losses')\n",
        "plt.grid()\n",
        "ax.plot(losses)\n",
        "ax.plot(losses_eval)\n",
        "ax.legend()\n",
        "plt.show()"
      ],
      "execution_count": 118,
      "outputs": [
        {
          "output_type": "stream",
          "name": "stderr",
          "text": [
            "No handles with labels found to put in legend.\n"
          ]
        },
        {
          "output_type": "display_data",
          "data": {
            "image/png": "[encoded data removed]",
            "text/plain": [
              "<Figure size 432x432 with 1 Axes>"
            ]
          },
          "metadata": {
            "needs_background": "light"
          }
        }
      ]
    },
    {
      "cell_type": "code",
      "metadata": {
        "id": "Svpgz1v5D-mE",
        "colab": {
          "base_uri": "https://localhost:8080/"
        },
        "outputId": "d2c54b02-cc64-4ad0-a431-3e3f791d39e6"
      },
      "source": [
        "losses[-1]"
      ],
      "execution_count": 119,
      "outputs": [
        {
          "output_type": "execute_result",
          "data": {
            "text/plain": [
              "0.5150239359248768"
            ]
          },
          "metadata": {},
          "execution_count": 119
        }
      ]
    },
    {
      "cell_type": "code",
      "metadata": {
        "id": "GdDjx6DgD-mF",
        "colab": {
          "base_uri": "https://localhost:8080/"
        },
        "outputId": "faef505a-7b10-40a5-c1de-d144479a2e1e"
      },
      "source": [
        "losses_eval[-1]"
      ],
      "execution_count": 120,
      "outputs": [
        {
          "output_type": "execute_result",
          "data": {
            "text/plain": [
              "0.5296105921268464"
            ]
          },
          "metadata": {},
          "execution_count": 120
        }
      ]
    },
    {
      "cell_type": "code",
      "metadata": {
        "id": "7um8usX_D-mF",
        "colab": {
          "base_uri": "https://localhost:8080/"
        },
        "outputId": "f7a3a350-86e1-4d8f-e004-7d48a75873ae"
      },
      "source": [
        "f1s[-1]"
      ],
      "execution_count": 121,
      "outputs": [
        {
          "output_type": "execute_result",
          "data": {
            "text/plain": [
              "tensor(0.7577, device='cuda:0')"
            ]
          },
          "metadata": {},
          "execution_count": 121
        }
      ]
    },
    {
      "cell_type": "code",
      "metadata": {
        "id": "NNWTl6lgD-mF",
        "colab": {
          "base_uri": "https://localhost:8080/"
        },
        "outputId": "9ed8751b-b1ca-41b4-e99f-81d74c98109b"
      },
      "source": [
        "f1s_eval[-1]"
      ],
      "execution_count": 122,
      "outputs": [
        {
          "output_type": "execute_result",
          "data": {
            "text/plain": [
              "tensor(0.7408, device='cuda:0')"
            ]
          },
          "metadata": {},
          "execution_count": 122
        }
      ]
    },
    {
      "cell_type": "code",
      "metadata": {
        "id": "JyfXdrnr85RR"
      },
      "source": [
        "val_sentences['predicted']  = predict(model, val_iterator)"
      ],
      "execution_count": 123,
      "outputs": []
    },
    {
      "cell_type": "code",
      "metadata": {
        "colab": {
          "base_uri": "https://localhost:8080/"
        },
        "id": "_aDJtxjG85RR",
        "outputId": "522e73d9-7de2-46bd-b47a-0554df167948"
      },
      "source": [
        "# TP\n",
        "val_sentences[(val_sentences['tone'] == 1) & (val_sentences['predicted'] == 1)]['clean_text'].to_list()[:10]"
      ],
      "execution_count": 124,
      "outputs": [
        {
          "output_type": "execute_result",
          "data": {
            "text/plain": [
              "['здоровски погуляли по магазинам с USER пингвины',\n",
              " 'прикольно когда к тебе в бар приходит девушка выпить кофе на мин 1 15 а в итоге зависает у тебя в баре на хороших часа полтора',\n",
              " 'USER не умирай еще тебе предстоит вечер',\n",
              " 'rt USER юмор красота требует жертв придумай смешную подпись к картинке URL',\n",
              " 'давайте уж побыстрее 12 декабря объявляйте выходным днем и переносите на пятницу 13 буду строить планы',\n",
              " 'USER холодно очень и паскаль делает мне страдай d',\n",
              " 'время сна я утомилась дико завтра сложный день 6 5 часов мне на восстановление сил всем доброй ночи',\n",
              " 'ник вернется в сериал полиция гавайев счастьерадость ну правильно а то закончили на самом интересном',\n",
              " 'USER смешно ему и плюс мне масса нужна в спорте немного я как бить буду если сил нету крч диета для идиотов',\n",
              " 'USER иногда хочется тебя ретвитить но функция недоступна']"
            ]
          },
          "metadata": {},
          "execution_count": 124
        }
      ]
    },
    {
      "cell_type": "code",
      "metadata": {
        "colab": {
          "base_uri": "https://localhost:8080/"
        },
        "id": "Jqyi6wim85RR",
        "outputId": "e3df7e08-c3bd-44ce-85d3-ded064e4ad8d"
      },
      "source": [
        "# FN\n",
        "val_sentences[(val_sentences['tone'] == 1) & (val_sentences['predicted'] == 0)]['clean_text'].to_list()[:10]"
      ],
      "execution_count": 125,
      "outputs": [
        {
          "output_type": "execute_result",
          "data": {
            "text/plain": [
              "['USER ну у меня времени много могу поиграть в шерлока но лучше скажи',\n",
              " 'я только недавно хотела зимы теперь хочу лета а у лета я буду просить зимы',\n",
              " 'на улице очень весело но очень холодно выбор между сугробом и домом не так то прост на самом деле',\n",
              " 'найти и не потерять муз и сл с филиппов новая песня написанная мной для USER URL',\n",
              " 'USER USER другим не стыдно другим все равно',\n",
              " 'блин аж н як забути цього не можу да не хочу боже так мило',\n",
              " 'USER сломался он не знаю от чего но когда на него звонишь он говорит тебе бай бай так я теперь чика со старым телефоном',\n",
              " 'сука позавчера отвалился скан у одного ricoh вчера у второго и вот наконец у третьего последнего компания принтеров решила бухнуть',\n",
              " 'хочу чтобы в этот новый год у меня дома собрались мои родственники',\n",
              " 'как быстро время идет неделю не заметила URL']"
            ]
          },
          "metadata": {},
          "execution_count": 125
        }
      ]
    },
    {
      "cell_type": "code",
      "metadata": {
        "colab": {
          "base_uri": "https://localhost:8080/"
        },
        "id": "Ly6o2dM385RS",
        "outputId": "55ac8867-7c26-43b9-8ca9-440b9065ecb6"
      },
      "source": [
        "# FP\n",
        "val_sentences[(val_sentences['tone'] == 0) & (val_sentences['predicted'] == 1)]['clean_text'].to_list()[:10]"
      ],
      "execution_count": 126,
      "outputs": [
        {
          "output_type": "execute_result",
          "data": {
            "text/plain": [
              "['USER ну я всегда говорил что я тп',\n",
              " 'кто нибудь зайдите вк USER USER USER',\n",
              " 'четвертый курс кошмар научная статья сюжет федеральные тесты сессии диплом его защита госы и чертовы рейтинги',\n",
              " 'что то много людей сейчас болеют выздоравливайте зайки',\n",
              " 'USER каждый одинок по своему',\n",
              " 'пошел я приберусь а то мама кричать будет',\n",
              " 'rt USER обновление твиттера крутое а контакта не очень',\n",
              " 'во мне две половины разрывается между желанием рожать детей и желанием жрать лсд и нюхать кокс с 37сантиметрового члена',\n",
              " 'USER он выдает мне вирусные сцылки',\n",
              " 'а у мну не работает рекомендация с комментами вторая попытка и фейл чяднт']"
            ]
          },
          "metadata": {},
          "execution_count": 126
        }
      ]
    },
    {
      "cell_type": "markdown",
      "metadata": {
        "id": "EefUJfEBU1oq"
      },
      "source": [
        "TP:  'ник вернется в сериал полиция гавайев счастьерадость ну правильно а то закончили на самом интересном' попало из FN сюда, наверное из-за *счастьерадость*, еще в конце немного поменялось, но в уелом почти то же самое, хотя и точность не сильно выросла\n",
        "\n",
        "FN: список стал поменьше, но в целом почти то же самое\n",
        "\n",
        "FP: а вот тут немного поменялось"
      ]
    },
    {
      "cell_type": "markdown",
      "metadata": {
        "id": "pokGIfYArga0"
      },
      "source": [
        "#Результаты"
      ]
    },
    {
      "cell_type": "markdown",
      "metadata": {
        "id": "USL7wXYqyLW7"
      },
      "source": [
        "При добавлении Dropout равного 0.5, weight_decay равного 1e-4, смене learning rate с 0.0005 на 0.001 результат поменялся в лучшую сторону!"
      ]
    },
    {
      "cell_type": "markdown",
      "metadata": {
        "id": "sZtgiqmocOmN"
      },
      "source": [
        "#Dataset2"
      ]
    },
    {
      "cell_type": "code",
      "metadata": {
        "id": "uDbUJ2dPYN2x",
        "colab": {
          "base_uri": "https://localhost:8080/"
        },
        "outputId": "03e2a197-d201-4f5c-f3bf-2e80b644fdd2"
      },
      "source": [
        "symbol_vocab = Counter()\n",
        "\n",
        "for text in tweets_data['clean_text']:\n",
        "    symbol_vocab.update(list(text))\n",
        "print('всего уникальных символов:', len(symbol_vocab))"
      ],
      "execution_count": 127,
      "outputs": [
        {
          "output_type": "stream",
          "name": "stdout",
          "text": [
            "всего уникальных символов: 73\n"
          ]
        }
      ]
    },
    {
      "cell_type": "code",
      "metadata": {
        "id": "ia4kxH8wYQj4"
      },
      "source": [
        "symbol2id = {'PAD':0}\n",
        "\n",
        "for symbol in symbol_vocab:\n",
        "    symbol2id[symbol] = len(symbol2id)\n",
        "\n",
        "id2symbol = {i:symbol for symbol, i in symbol2id.items()}"
      ],
      "execution_count": 128,
      "outputs": []
    },
    {
      "cell_type": "code",
      "metadata": {
        "id": "BlPhfg8gYTAm"
      },
      "source": [
        "class WordSymbDataset(Dataset):\n",
        "\n",
        "    def __init__(self, dataset, word2id, symbol2id, DEVICE):\n",
        "        self.dataset = dataset['clean_text'].values\n",
        "        self.word2id = word2id\n",
        "        self.symbol2id = symbol2id\n",
        "        self.length = dataset.shape[0]\n",
        "        self.target = torch.Tensor(dataset['tone'].values)\n",
        "        self.device = DEVICE\n",
        "\n",
        "    def __len__(self): #это обязательный метод, он должен уметь считать длину датасета\n",
        "        return self.length\n",
        "\n",
        "    def __getitem__(self, index): #еще один обязательный метод. По индексу возвращает элемент выборки\n",
        "        tokens = self.dataset[index].split() # токенизируем\n",
        "        word_ids = torch.LongTensor([self.word2id[token] for token in tokens if token in self.word2id])\n",
        "        symbols = list(self.dataset[index])\n",
        "        symb_ids = torch.LongTensor([self.symbol2id[symbol] for symbol in symbols if symbol in self.symbol2id])\n",
        "        y = [self.target[index]]\n",
        "        return word_ids, symb_ids, y\n",
        "\n",
        "    def collate_fn(self, batch): #этот метод можно реализовывать и отдельно,\n",
        "    # он понадобится для DataLoader во время итерации по батчам\n",
        "      word_ids, symb_ids, y = list(zip(*batch))\n",
        "      padded_words = pad_sequence(word_ids, batch_first=True).to(self.device)\n",
        "      padded_symbs = pad_sequence(symb_ids, batch_first=True).to(self.device)\n",
        "      #мы хотим применять BCELoss, он будет брать на вход predicted размера batch_size x 1 (так как для каждого семпла модель будет отдавать одно число), target размера batch_size x 1\n",
        "      y = torch.Tensor(y).to(self.device) # tuple ([1], [0], [1])  -> Tensor [[1.], [0.], [1.]] \n",
        "      return padded_words, padded_symbs, y"
      ],
      "execution_count": 129,
      "outputs": []
    },
    {
      "cell_type": "code",
      "metadata": {
        "id": "f5uaF3kzYXyQ"
      },
      "source": [
        "train_dataset = WordSymbDataset(train_sentences, word2id, symbol2id, DEVICE)\n",
        "train_sampler = RandomSampler(train_dataset)\n",
        "train_iterator = DataLoader(train_dataset, collate_fn = train_dataset.collate_fn, sampler=train_sampler, batch_size=1024)"
      ],
      "execution_count": 130,
      "outputs": []
    },
    {
      "cell_type": "code",
      "metadata": {
        "id": "RVhgy47nYYhF"
      },
      "source": [
        "val_dataset = WordSymbDataset(val_sentences, word2id, symbol2id, DEVICE)\n",
        "val_sampler = SequentialSampler(val_dataset)\n",
        "val_iterator = DataLoader(val_dataset, collate_fn = val_dataset.collate_fn, sampler=val_sampler, batch_size=1024)"
      ],
      "execution_count": 131,
      "outputs": []
    },
    {
      "cell_type": "code",
      "metadata": {
        "id": "6_mmzLa7YYnT"
      },
      "source": [
        "class WordSymbCNN(nn.Module):\n",
        "    def __init__(self, symb_vocab_size, symb_embedding_dim, word_vocab_size):\n",
        "        super().__init__()\n",
        "        self.word_embedding = nn.Embedding(word_vocab_size, 100)\n",
        "        self.word_embedding.from_pretrained(torch.tensor(weights), freeze=True)\n",
        "        self.word_hidden = nn.Linear(100, 100) \n",
        "\n",
        "        self.symb_embedding = nn.Embedding(symb_vocab_size, symb_embedding_dim)\n",
        "        self.symb_bigrams = nn.Conv1d(in_channels=symb_embedding_dim, out_channels=100, kernel_size=2, padding='same')\n",
        "        self.symb_trigrams = nn.Conv1d(in_channels=symb_embedding_dim, out_channels=80, kernel_size=3, padding='same')\n",
        "        self.symb_pooling = nn.MaxPool1d(kernel_size=2, stride=2)\n",
        "        self.symb_hidden = nn.Linear(in_features=180, out_features=100)\n",
        "        \n",
        "        self.linear = nn.Linear(in_features=200, out_features=1)\n",
        "        self.dropout = nn.Dropout(p=0.5)\n",
        "        self.relu = nn.ReLU()   \n",
        "        self.out = nn.Sigmoid()\n",
        "\n",
        "\n",
        "    def forward(self, words_seq, symb_seq):\n",
        "        #batch_size x seq_len\n",
        "        embedded = self.symb_embedding(symb_seq)\n",
        "        #batch_size x seq_len x embedding_dim\n",
        "        embedded = embedded.transpose(1,2)\n",
        "        #batch_size x embedding_dim x seq_len\n",
        "        feature_map_bigrams = self.dropout(self.symb_pooling(self.relu(self.symb_bigrams(embedded))))\n",
        "        #batch_size x filter_count2 x seq_len* \n",
        "        feature_map_trigrams = self.dropout(self.symb_pooling(self.relu(self.symb_trigrams(embedded))))\n",
        "        #batch_size x filter_count3 x seq_len*\n",
        "\n",
        "        pooling1 = feature_map_bigrams.max(2)[0] \n",
        "        # batch_size x filter_count2\n",
        "        pooling2 = feature_map_trigrams.max(2)[0]\n",
        "        # batch_size x filter_count3\n",
        "        concat = torch.cat((pooling1, pooling2), 1)\n",
        "        # batch_size x (filter_count2 + filter_count3)\n",
        "        symb_vec = self.symb_hidden(concat)\n",
        "\n",
        "        embedded_words = self.word_embedding(words_seq)   # переводим последовательность индексов в последовательность эмбеддингов\n",
        "        mean_emb_words = torch.mean(embedded_words, dim=1) # считаем средний эмбеддинг предложения\n",
        "        word_vec = self.dropout(self.word_hidden(mean_emb_words)) # пропускаем эмбеддинг через полносвязный слой \n",
        "        word_vec = self.dropout(self.relu(word_vec))\n",
        "        concat = torch.cat((symb_vec, word_vec), 1)\n",
        "        logits = self.out(self.linear(concat))      \n",
        "        return logits"
      ],
      "execution_count": 132,
      "outputs": []
    },
    {
      "cell_type": "code",
      "metadata": {
        "id": "UVN6g61j8Dp5"
      },
      "source": [
        "def train(model, iterator, optimizer, criterion):\n",
        "    epoch_loss = 0 # для подсчета среднего лосса на всех батчах\n",
        "\n",
        "    model.train()  # ставим модель в обучение, явно указываем, что сейчас надо будет хранить градиенты у всех весов\n",
        "\n",
        "    for i, (texts, symbols, ys) in enumerate(iterator): #итерируемся по батчам\n",
        "        optimizer.zero_grad()  #обнуляем градиенты\n",
        "        preds = model(texts, symbols)  #прогоняем данные через модель\n",
        "        loss = criterion(preds, ys) #считаем значение функции потерь  \n",
        "        loss.backward() #считаем градиенты  \n",
        "        optimizer.step() #обновляем веса \n",
        "        epoch_loss += loss.item() #сохраняем значение функции потерь\n",
        "        if not (i + 1) % int(len(iterator)/5):\n",
        "            print(f'Train loss: {epoch_loss/i}')      \n",
        "    return  epoch_loss / len(iterator) # возвращаем среднее значение лосса по всей выборке"
      ],
      "execution_count": 133,
      "outputs": []
    },
    {
      "cell_type": "code",
      "metadata": {
        "id": "Cdgz_yPz8Dsu"
      },
      "source": [
        "def evaluate(model, iterator, criterion):\n",
        "    epoch_loss = 0\n",
        "    epoch_metric = 0\n",
        "    model.eval() \n",
        "    with torch.no_grad():\n",
        "        for i, (texts, symbols, ys) in enumerate(iterator):   \n",
        "            preds = model(texts, symbols)  # делаем предсказания на тесте\n",
        "            loss = criterion(preds, ys)   # считаем значения функции ошибки для статистики  \n",
        "            epoch_loss += loss.item()\n",
        "            batch_metric = f1(preds.round().long(), ys.long(), ignore_index=0)\n",
        "            epoch_metric += batch_metric\n",
        "\n",
        "            if not (i + 1) % int(len(iterator)/5):\n",
        "              print(f'Val loss: {epoch_loss/i}, Val f1: {epoch_metric/i}')\n",
        "        \n",
        "    return epoch_metric / len(iterator), epoch_loss / len(iterator) # возвращаем среднее значение по всей выборке"
      ],
      "execution_count": 134,
      "outputs": []
    },
    {
      "cell_type": "code",
      "metadata": {
        "id": "RObgaScBMs_z"
      },
      "source": [
        "def predict_word_symbol(model, iterator):\n",
        "    preds = []\n",
        "    model.eval()\n",
        "    with torch.no_grad():\n",
        "        for i, (words, symbols, ys) in enumerate(iterator): \n",
        "            for word in model(words, symbols):\n",
        "                preds.append(word.cpu().detach().numpy().round())  # делаем предсказания на тесте \n",
        "    return preds"
      ],
      "execution_count": 144,
      "outputs": []
    },
    {
      "cell_type": "code",
      "metadata": {
        "id": "jvD6Y8UE8DwN"
      },
      "source": [
        "model = WordSymbCNN(len(symbol2id), 10, len(word2id))\n",
        "optimizer = optim.Adam(model.parameters(), lr=0.001)\n",
        "criterion = nn.BCELoss()  \n",
        "\n",
        "# веса модели и значения лосса храним там же, где и все остальные тензоры\n",
        "model = model.to(DEVICE)\n",
        "criterion = criterion.to(DEVICE)"
      ],
      "execution_count": 135,
      "outputs": []
    },
    {
      "cell_type": "code",
      "metadata": {
        "id": "Wr4DEmyR_Dr4",
        "colab": {
          "base_uri": "https://localhost:8080/"
        },
        "outputId": "46634eea-9656-4459-f0a6-e879a9b898a6"
      },
      "source": [
        "losses = []\n",
        "losses_eval = []\n",
        "f1s = []\n",
        "f1s_eval = []\n",
        "\n",
        "for i in range(20):\n",
        "    print(f'\\nstarting Epoch {i}')\n",
        "    print('Training...')\n",
        "    epoch_loss = train(model, train_iterator, optimizer, criterion)\n",
        "    losses.append(epoch_loss)\n",
        "    print('\\nEvaluating on train...')\n",
        "    f1_on_train,_ = evaluate(model, train_iterator, criterion)\n",
        "    f1s.append(f1_on_train)\n",
        "    print('\\nEvaluating on test...')\n",
        "    f1_on_test, epoch_loss_on_test = evaluate(model, val_iterator, criterion)\n",
        "    losses_eval.append(epoch_loss_on_test)\n",
        "    f1s_eval.append(f1_on_test)"
      ],
      "execution_count": 136,
      "outputs": [
        {
          "output_type": "stream",
          "name": "stdout",
          "text": [
            "\n",
            "starting Epoch 0\n",
            "Training...\n",
            "Train loss: 0.783716194331646\n",
            "Train loss: 0.7341999881195299\n",
            "Train loss: 0.7133740329742432\n",
            "Train loss: 0.7001286780656274\n",
            "Train loss: 0.6922966880457742\n",
            "\n",
            "Evaluating on train...\n",
            "Val loss: 0.705167967826128, Val f1: 0.730217695236206\n",
            "Val loss: 0.6844959385467299, Val f1: 0.7066564559936523\n",
            "Val loss: 0.6786170685291291, Val f1: 0.6972141861915588\n",
            "Val loss: 0.6751306661918982, Val f1: 0.695022702217102\n",
            "Val loss: 0.6728183541979108, Val f1: 0.6937280297279358\n",
            "\n",
            "Evaluating on test...\n",
            "Val loss: 1.3104236721992493, Val f1: 1.4074349403381348\n",
            "Val loss: 0.8763918479283651, Val f1: 0.9372596740722656\n",
            "Val loss: 0.7937811970710754, Val f1: 0.8293129801750183\n",
            "Val loss: 0.7570397257804871, Val f1: 0.7869834303855896\n",
            "Val loss: 0.7364191545380486, Val f1: 0.7638124823570251\n",
            "\n",
            "starting Epoch 1\n",
            "Training...\n",
            "Train loss: 0.6936241686344147\n",
            "Train loss: 0.668288812492833\n",
            "Train loss: 0.657392715215683\n",
            "Train loss: 0.6501845076902589\n",
            "Train loss: 0.6445250461498896\n",
            "\n",
            "Evaluating on train...\n",
            "Val loss: 0.6666521728038788, Val f1: 0.7485166788101196\n",
            "Val loss: 0.6444242903680513, Val f1: 0.7284824848175049\n",
            "Val loss: 0.638901777267456, Val f1: 0.7217282056808472\n",
            "Val loss: 0.6360101762102611, Val f1: 0.7182744741439819\n",
            "Val loss: 0.6340105271055585, Val f1: 0.7167354822158813\n",
            "\n",
            "Evaluating on test...\n",
            "Val loss: 1.2364487648010254, Val f1: 1.4459316730499268\n",
            "Val loss: 0.8299591342608134, Val f1: 0.9538065791130066\n",
            "Val loss: 0.7519160866737366, Val f1: 0.8508824706077576\n",
            "Val loss: 0.7175369688442775, Val f1: 0.8098867535591125\n",
            "Val loss: 0.6965751780403985, Val f1: 0.7887402772903442\n",
            "\n",
            "starting Epoch 2\n",
            "Training...\n",
            "Train loss: 0.649168074131012\n",
            "Train loss: 0.6276815190459742\n",
            "Train loss: 0.6186760759353638\n",
            "Train loss: 0.6116161568840938\n",
            "Train loss: 0.6071460864373616\n",
            "\n",
            "Evaluating on train...\n",
            "Val loss: 0.6329631209373474, Val f1: 0.7727938294410706\n",
            "Val loss: 0.6119613195910598, Val f1: 0.7534533143043518\n",
            "Val loss: 0.6058707165718079, Val f1: 0.7452433705329895\n",
            "Val loss: 0.602647902360603, Val f1: 0.7409352660179138\n",
            "Val loss: 0.5995424389839172, Val f1: 0.7399694919586182\n",
            "\n",
            "Evaluating on test...\n",
            "Val loss: 1.170511245727539, Val f1: 1.4945268630981445\n",
            "Val loss: 0.7888273000717163, Val f1: 0.9818164706230164\n",
            "Val loss: 0.7165729761123657, Val f1: 0.8760183453559875\n",
            "Val loss: 0.6841038124901908, Val f1: 0.8332294821739197\n",
            "Val loss: 0.6634162995550368, Val f1: 0.8106277585029602\n",
            "\n",
            "starting Epoch 3\n",
            "Training...\n",
            "Train loss: 0.6100334450602531\n",
            "Train loss: 0.5872683543147463\n",
            "Train loss: 0.5774560415744782\n",
            "Train loss: 0.5727968598479656\n",
            "Train loss: 0.5687963359412693\n",
            "\n",
            "Evaluating on train...\n",
            "Val loss: 0.5728290639817715, Val f1: 0.787243664264679\n",
            "Val loss: 0.5548353357748552, Val f1: 0.7654857635498047\n",
            "Val loss: 0.5505792105197906, Val f1: 0.757615864276886\n",
            "Val loss: 0.5479259917985148, Val f1: 0.7518867254257202\n",
            "Val loss: 0.545545565940085, Val f1: 0.7499831914901733\n",
            "\n",
            "Evaluating on test...\n",
            "Val loss: 1.0887488722801208, Val f1: 1.483740210533142\n",
            "Val loss: 0.733171542485555, Val f1: 0.9845401644706726\n",
            "Val loss: 0.6636056184768677, Val f1: 0.8767523169517517\n",
            "Val loss: 0.6346628580774579, Val f1: 0.8314324617385864\n",
            "Val loss: 0.6132008499569364, Val f1: 0.8119862675666809\n",
            "\n",
            "starting Epoch 4\n",
            "Training...\n",
            "Train loss: 0.5680534094572067\n",
            "Train loss: 0.5534285830728936\n",
            "Train loss: 0.5449668288230896\n",
            "Train loss: 0.5398340945813194\n",
            "Train loss: 0.5345582067966461\n",
            "\n",
            "Evaluating on train...\n",
            "Val loss: 0.5337234828621149, Val f1: 0.8222634196281433\n",
            "Val loss: 0.5172619422276815, Val f1: 0.7925541400909424\n",
            "Val loss: 0.513838170170784, Val f1: 0.7818506956100464\n",
            "Val loss: 0.5124214104752043, Val f1: 0.7780113816261292\n",
            "Val loss: 0.511945594279539, Val f1: 0.7743287086486816\n",
            "\n",
            "Evaluating on test...\n",
            "Val loss: 1.0383171439170837, Val f1: 1.517733097076416\n",
            "Val loss: 0.6996612946192423, Val f1: 1.0044262409210205\n",
            "Val loss: 0.6339155197143554, Val f1: 0.8999086618423462\n",
            "Val loss: 0.60648227589471, Val f1: 0.8524363040924072\n",
            "Val loss: 0.5855256716410319, Val f1: 0.8322269320487976\n",
            "\n",
            "starting Epoch 5\n",
            "Training...\n",
            "Train loss: 0.5368763692677021\n",
            "Train loss: 0.5231132904688517\n",
            "Train loss: 0.5148513507843018\n",
            "Train loss: 0.5088070404173722\n",
            "Train loss: 0.508095013598601\n",
            "\n",
            "Evaluating on train...\n",
            "Val loss: 0.5204704999923706, Val f1: 0.8264310359954834\n",
            "Val loss: 0.5022352157217084, Val f1: 0.8046156167984009\n",
            "Val loss: 0.4953118759393692, Val f1: 0.7981550693511963\n",
            "Val loss: 0.4926991209165374, Val f1: 0.7942845225334167\n",
            "Val loss: 0.4917289497596877, Val f1: 0.7924174666404724\n",
            "\n",
            "Evaluating on test...\n",
            "Val loss: 1.017116129398346, Val f1: 1.5394110679626465\n",
            "Val loss: 0.6841861406962076, Val f1: 1.0214035511016846\n",
            "Val loss: 0.6196705222129821, Val f1: 0.9146613478660583\n",
            "Val loss: 0.5925534112112862, Val f1: 0.8677272796630859\n",
            "Val loss: 0.5720921092563205, Val f1: 0.8457852602005005\n",
            "\n",
            "starting Epoch 6\n",
            "Training...\n",
            "Train loss: 0.5119784511625767\n",
            "Train loss: 0.4951734578970707\n",
            "Train loss: 0.4926939582824707\n",
            "Train loss: 0.4877398983756108\n",
            "Train loss: 0.48457426116580055\n",
            "\n",
            "Evaluating on train...\n",
            "Val loss: 0.48756621964275837, Val f1: 0.8464950919151306\n",
            "Val loss: 0.4707686052177892, Val f1: 0.8215776681900024\n",
            "Val loss: 0.46710109055042265, Val f1: 0.811751663684845\n",
            "Val loss: 0.4650637182726789, Val f1: 0.8074287176132202\n",
            "Val loss: 0.46261540126232875, Val f1: 0.8055263161659241\n",
            "\n",
            "Evaluating on test...\n",
            "Val loss: 0.9897088408470154, Val f1: 1.5438354015350342\n",
            "Val loss: 0.6637460788091024, Val f1: 1.0290628671646118\n",
            "Val loss: 0.6001176476478577, Val f1: 0.9218925833702087\n",
            "Val loss: 0.5740419030189514, Val f1: 0.8747740983963013\n",
            "Val loss: 0.5534536606735654, Val f1: 0.8502805829048157\n",
            "\n",
            "starting Epoch 7\n",
            "Training...\n",
            "Train loss: 0.4938017576932907\n",
            "Train loss: 0.47888429417754663\n",
            "Train loss: 0.4702333867549896\n",
            "Train loss: 0.4661951327501838\n",
            "Train loss: 0.4636474833601997\n",
            "\n",
            "Evaluating on train...\n",
            "Val loss: 0.47637028619647026, Val f1: 0.8551988005638123\n",
            "Val loss: 0.46156011657281354, Val f1: 0.8300617337226868\n",
            "Val loss: 0.4572644925117493, Val f1: 0.8215938210487366\n",
            "Val loss: 0.4548830870372146, Val f1: 0.8169853687286377\n",
            "Val loss: 0.45345577952407656, Val f1: 0.8142973780632019\n",
            "\n",
            "Evaluating on test...\n",
            "Val loss: 0.9964998960494995, Val f1: 1.547156810760498\n",
            "Val loss: 0.6662091811498007, Val f1: 1.0336766242980957\n",
            "Val loss: 0.6028329491615295, Val f1: 0.9252174496650696\n",
            "Val loss: 0.5760501878602164, Val f1: 0.8780781626701355\n",
            "Val loss: 0.555675595998764, Val f1: 0.8549236059188843\n",
            "\n",
            "starting Epoch 8\n",
            "Training...\n",
            "Train loss: 0.46678501926362514\n",
            "Train loss: 0.45162652478073584\n",
            "Train loss: 0.44689044415950774\n",
            "Train loss: 0.4446879122684251\n",
            "Train loss: 0.4433410990805853\n",
            "\n",
            "Evaluating on train...\n",
            "Val loss: 0.45524629205465317, Val f1: 0.8648219108581543\n",
            "Val loss: 0.4425440322269093, Val f1: 0.838713526725769\n",
            "Val loss: 0.4375999057292938, Val f1: 0.8308870792388916\n",
            "Val loss: 0.4354714662281435, Val f1: 0.8261935710906982\n",
            "Val loss: 0.43487627023742315, Val f1: 0.8241114020347595\n",
            "\n",
            "Evaluating on test...\n",
            "Val loss: 0.9927752017974854, Val f1: 1.5551257133483887\n",
            "Val loss: 0.6608258386452993, Val f1: 1.0381628274917603\n",
            "Val loss: 0.5978298962116242, Val f1: 0.929841160774231\n",
            "Val loss: 0.5709504612854549, Val f1: 0.8815276026725769\n",
            "Val loss: 0.550645606385337, Val f1: 0.8570734858512878\n",
            "\n",
            "starting Epoch 9\n",
            "Training...\n",
            "Train loss: 0.45401212200522423\n",
            "Train loss: 0.4412249678915197\n",
            "Train loss: 0.4354470533132553\n",
            "Train loss: 0.4314543213417281\n",
            "Train loss: 0.43005309502283734\n",
            "\n",
            "Evaluating on train...\n",
            "Val loss: 0.4293816201388836, Val f1: 0.8797253966331482\n",
            "Val loss: 0.420040229956309, Val f1: 0.849522590637207\n",
            "Val loss: 0.41562690794467927, Val f1: 0.8412144780158997\n",
            "Val loss: 0.41278224338346453, Val f1: 0.8377799391746521\n",
            "Val loss: 0.41075406613804044, Val f1: 0.8362836241722107\n",
            "\n",
            "Evaluating on test...\n",
            "Val loss: 0.9768560826778412, Val f1: 1.5458245277404785\n",
            "Val loss: 0.6476619640986124, Val f1: 1.034818410873413\n",
            "Val loss: 0.5851079106330872, Val f1: 0.9276677966117859\n",
            "Val loss: 0.5591913035937718, Val f1: 0.8808702230453491\n",
            "Val loss: 0.5388009912437863, Val f1: 0.8554821014404297\n",
            "\n",
            "starting Epoch 10\n",
            "Training...\n",
            "Train loss: 0.4423802439123392\n",
            "Train loss: 0.429331665689295\n",
            "Train loss: 0.4237920796871185\n",
            "Train loss: 0.41872057452130673\n",
            "Train loss: 0.4155672455117816\n",
            "\n",
            "Evaluating on train...\n",
            "Val loss: 0.4090757239609957, Val f1: 0.8915889859199524\n",
            "Val loss: 0.4027107186389692, Val f1: 0.8595971465110779\n",
            "Val loss: 0.3988505035638809, Val f1: 0.8518170714378357\n",
            "Val loss: 0.39590618726032883, Val f1: 0.8473052382469177\n",
            "Val loss: 0.3956547624298504, Val f1: 0.8439507484436035\n",
            "\n",
            "Evaluating on test...\n",
            "Val loss: 0.984870046377182, Val f1: 1.5557682514190674\n",
            "Val loss: 0.6503189504146576, Val f1: 1.0372815132141113\n",
            "Val loss: 0.5884629726409912, Val f1: 0.9298507571220398\n",
            "Val loss: 0.5620415551321847, Val f1: 0.8836801648139954\n",
            "Val loss: 0.5411499241987864, Val f1: 0.8575443029403687\n",
            "\n",
            "starting Epoch 11\n",
            "Training...\n",
            "Train loss: 0.4211396146565676\n",
            "Train loss: 0.4119340885769237\n",
            "Train loss: 0.4036715656518936\n",
            "Train loss: 0.40273313202075106\n",
            "Train loss: 0.4027090047796567\n",
            "\n",
            "Evaluating on train...\n",
            "Val loss: 0.40316499024629593, Val f1: 0.8898748159408569\n",
            "Val loss: 0.3928925530477004, Val f1: 0.8632252812385559\n",
            "Val loss: 0.38800340592861177, Val f1: 0.8551241159439087\n",
            "Val loss: 0.38450726110543776, Val f1: 0.8521403670310974\n",
            "Val loss: 0.38471140889894395, Val f1: 0.8490118384361267\n",
            "\n",
            "Evaluating on test...\n",
            "Val loss: 0.9937323927879333, Val f1: 1.5492966175079346\n",
            "Val loss: 0.654382566610972, Val f1: 1.0352332592010498\n",
            "Val loss: 0.5920266211032867, Val f1: 0.9263702630996704\n",
            "Val loss: 0.5650337764195034, Val f1: 0.8816200494766235\n",
            "Val loss: 0.5445155004660288, Val f1: 0.8560668230056763\n",
            "\n",
            "starting Epoch 12\n",
            "Training...\n",
            "Train loss: 0.4124669749289751\n",
            "Train loss: 0.3971415875536023\n",
            "Train loss: 0.39429559409618375\n",
            "Train loss: 0.39305632594806045\n",
            "Train loss: 0.39325704319136484\n",
            "\n",
            "Evaluating on train...\n",
            "Val loss: 0.390859704464674, Val f1: 0.9019321203231812\n",
            "Val loss: 0.3804208699500922, Val f1: 0.8726603984832764\n",
            "Val loss: 0.37914188802242277, Val f1: 0.8610678911209106\n",
            "Val loss: 0.37520387457377874, Val f1: 0.858180820941925\n",
            "Val loss: 0.37382458753529046, Val f1: 0.8554801940917969\n",
            "\n",
            "Evaluating on test...\n",
            "Val loss: 0.9926559031009674, Val f1: 1.553121566772461\n",
            "Val loss: 0.6520242989063263, Val f1: 1.035796046257019\n",
            "Val loss: 0.5905664086341857, Val f1: 0.9258586168289185\n",
            "Val loss: 0.5639401631695884, Val f1: 0.8795876502990723\n",
            "Val loss: 0.5436488323741488, Val f1: 0.8542084693908691\n",
            "\n",
            "starting Epoch 13\n",
            "Training...\n",
            "Train loss: 0.40314942970871925\n",
            "Train loss: 0.3908788137363665\n",
            "Train loss: 0.38615229189395905\n",
            "Train loss: 0.3847753619080159\n",
            "Train loss: 0.3841075219568752\n",
            "\n",
            "Evaluating on train...\n",
            "Val loss: 0.38348708860576153, Val f1: 0.9010864496231079\n",
            "Val loss: 0.3732907058614673, Val f1: 0.8740780353546143\n",
            "Val loss: 0.3677066624164581, Val f1: 0.8674865365028381\n",
            "Val loss: 0.36499048346903784, Val f1: 0.8640825152397156\n",
            "Val loss: 0.36435170258794514, Val f1: 0.8604245185852051\n",
            "\n",
            "Evaluating on test...\n",
            "Val loss: 1.0157113075256348, Val f1: 1.5544893741607666\n",
            "Val loss: 0.6659144163131714, Val f1: 1.0348517894744873\n",
            "Val loss: 0.6041523098945618, Val f1: 0.925146222114563\n",
            "Val loss: 0.5764354041644505, Val f1: 0.8795492053031921\n",
            "Val loss: 0.5558883680237664, Val f1: 0.8534157872200012\n",
            "\n",
            "starting Epoch 14\n",
            "Training...\n",
            "Train loss: 0.3914893660694361\n",
            "Train loss: 0.37982576995184925\n",
            "Train loss: 0.3770718687772751\n",
            "Train loss: 0.37560550979713897\n",
            "Train loss: 0.37518253390278133\n",
            "\n",
            "Evaluating on train...\n",
            "Val loss: 0.387822974473238, Val f1: 0.9003472328186035\n",
            "Val loss: 0.3785600011998957, Val f1: 0.8736677169799805\n",
            "Val loss: 0.37348885655403136, Val f1: 0.8652960062026978\n",
            "Val loss: 0.37232167729690896, Val f1: 0.8606042861938477\n",
            "Val loss: 0.37047662763368516, Val f1: 0.8585341572761536\n",
            "\n",
            "Evaluating on test...\n",
            "Val loss: 1.0428549647331238, Val f1: 1.5589072704315186\n",
            "Val loss: 0.6840884486834208, Val f1: 1.035309076309204\n",
            "Val loss: 0.6218449354171753, Val f1: 0.9226213693618774\n",
            "Val loss: 0.5928620270320347, Val f1: 0.8786776661872864\n",
            "Val loss: 0.572650843196445, Val f1: 0.8536737561225891\n",
            "\n",
            "starting Epoch 15\n",
            "Training...\n",
            "Train loss: 0.3805589359253645\n",
            "Train loss: 0.36837713555856183\n",
            "Train loss: 0.3700839430093765\n",
            "Train loss: 0.3671070564149031\n",
            "Train loss: 0.3662218877247402\n",
            "\n",
            "Evaluating on train...\n",
            "Val loss: 0.36254831962287426, Val f1: 0.9099403619766235\n",
            "Val loss: 0.3548461406519919, Val f1: 0.8827512264251709\n",
            "Val loss: 0.34848775625228884, Val f1: 0.87615966796875\n",
            "Val loss: 0.34659906332172563, Val f1: 0.8720066547393799\n",
            "Val loss: 0.3458053668340047, Val f1: 0.8694518208503723\n",
            "\n",
            "Evaluating on test...\n",
            "Val loss: 1.0223926305770874, Val f1: 1.5458316802978516\n",
            "Val loss: 0.6696966489156088, Val f1: 1.0325406789779663\n",
            "Val loss: 0.607823395729065, Val f1: 0.9205359816551208\n",
            "Val loss: 0.5803778171539307, Val f1: 0.8739690780639648\n",
            "Val loss: 0.5600923697153727, Val f1: 0.8501473665237427\n",
            "\n",
            "starting Epoch 16\n",
            "Training...\n",
            "Train loss: 0.37723574601113796\n",
            "Train loss: 0.362788329521815\n",
            "Train loss: 0.359708012342453\n",
            "Train loss: 0.3587087068095136\n",
            "Train loss: 0.35909517960889\n",
            "\n",
            "Evaluating on train...\n",
            "Val loss: 0.3576103709638119, Val f1: 0.9201486110687256\n",
            "Val loss: 0.3485753933588664, Val f1: 0.8895213603973389\n",
            "Val loss: 0.3448392367362976, Val f1: 0.8803650736808777\n",
            "Val loss: 0.3441487443980886, Val f1: 0.874846339225769\n",
            "Val loss: 0.34369271745284397, Val f1: 0.8717561364173889\n",
            "\n",
            "Evaluating on test...\n",
            "Val loss: 1.0358701944351196, Val f1: 1.5466290712356567\n",
            "Val loss: 0.6787892778714498, Val f1: 1.0311284065246582\n",
            "Val loss: 0.616482949256897, Val f1: 0.9180761575698853\n",
            "Val loss: 0.5885628632136753, Val f1: 0.8716302514076233\n",
            "Val loss: 0.5687186022599539, Val f1: 0.8471161723136902\n",
            "\n",
            "starting Epoch 17\n",
            "Training...\n",
            "Train loss: 0.35366172529757023\n",
            "Train loss: 0.3487066491083665\n",
            "Train loss: 0.35024273335933687\n",
            "Train loss: 0.351909865639103\n",
            "Train loss: 0.3511966906842731\n",
            "\n",
            "Evaluating on train...\n",
            "Val loss: 0.3477942254394293, Val f1: 0.9129161238670349\n",
            "Val loss: 0.33173118938099255, Val f1: 0.8892242312431335\n",
            "Val loss: 0.3311336290836334, Val f1: 0.8797875642776489\n",
            "Val loss: 0.32988499349622585, Val f1: 0.8757610321044922\n",
            "Val loss: 0.3303527931372325, Val f1: 0.8730683922767639\n",
            "\n",
            "Evaluating on test...\n",
            "Val loss: 1.064595878124237, Val f1: 1.5307267904281616\n",
            "Val loss: 0.6965430577596029, Val f1: 1.0214223861694336\n",
            "Val loss: 0.6313244581222535, Val f1: 0.9099603891372681\n",
            "Val loss: 0.6032320942197528, Val f1: 0.8640081286430359\n",
            "Val loss: 0.5822590721978081, Val f1: 0.8402203321456909\n",
            "\n",
            "starting Epoch 18\n",
            "Training...\n",
            "Train loss: 0.3563249260187149\n",
            "Train loss: 0.345686497110309\n",
            "Train loss: 0.3445944428443909\n",
            "Train loss: 0.3433714175402229\n",
            "Train loss: 0.3427122366570291\n",
            "\n",
            "Evaluating on train...\n",
            "Val loss: 0.3409327566623688, Val f1: 0.9230143427848816\n",
            "Val loss: 0.33005102656104346, Val f1: 0.8948344588279724\n",
            "Val loss: 0.32604018032550813, Val f1: 0.8852414488792419\n",
            "Val loss: 0.3250958101073308, Val f1: 0.8800808191299438\n",
            "Val loss: 0.3241054912408193, Val f1: 0.8776803016662598\n",
            "\n",
            "Evaluating on test...\n",
            "Val loss: 1.0711037516593933, Val f1: 1.5348973274230957\n",
            "Val loss: 0.7000874479611715, Val f1: 1.0221995115280151\n",
            "Val loss: 0.6354250550270081, Val f1: 0.9098092317581177\n",
            "Val loss: 0.6077902572495597, Val f1: 0.8637031316757202\n",
            "Val loss: 0.5870190064112345, Val f1: 0.839917778968811\n",
            "\n",
            "starting Epoch 19\n",
            "Training...\n",
            "Train loss: 0.3486299328505993\n",
            "Train loss: 0.3392053363901196\n",
            "Train loss: 0.33674256324768065\n",
            "Train loss: 0.3379008102772841\n",
            "Train loss: 0.33808351556460065\n",
            "\n",
            "Evaluating on train...\n",
            "Val loss: 0.33760215900838375, Val f1: 0.9263560771942139\n",
            "Val loss: 0.3316478304790728, Val f1: 0.8943480849266052\n",
            "Val loss: 0.3261071342229843, Val f1: 0.8886345624923706\n",
            "Val loss: 0.3249474078861635, Val f1: 0.8835186958312988\n",
            "Val loss: 0.32434469780751635, Val f1: 0.8809202313423157\n",
            "\n",
            "Evaluating on test...\n",
            "Val loss: 1.0715906620025635, Val f1: 1.5414199829101562\n",
            "Val loss: 0.7014146248499552, Val f1: 1.0287750959396362\n",
            "Val loss: 0.637331485748291, Val f1: 0.9151193499565125\n",
            "Val loss: 0.6097114086151123, Val f1: 0.8687031269073486\n",
            "Val loss: 0.5896910031636556, Val f1: 0.844515860080719\n"
          ]
        }
      ]
    },
    {
      "cell_type": "code",
      "metadata": {
        "id": "fH_Wd_gmDFkA",
        "colab": {
          "base_uri": "https://localhost:8080/",
          "height": 422
        },
        "outputId": "ebebcd99-ad91-4fec-908b-c1fb9eff9e95"
      },
      "source": [
        "fig, ax = plt.subplots(figsize=(6, 6))\n",
        "plt.title('Train')\n",
        "plt.xlabel('Iterations')\n",
        "plt.ylabel('Losses')\n",
        "plt.grid()\n",
        "ax.plot(losses)\n",
        "ax.plot(losses_eval)\n",
        "ax.legend()\n",
        "plt.show()"
      ],
      "execution_count": 137,
      "outputs": [
        {
          "output_type": "stream",
          "name": "stderr",
          "text": [
            "No handles with labels found to put in legend.\n"
          ]
        },
        {
          "output_type": "display_data",
          "data": {
            "image/png": "[encoded data removed]",
            "text/plain": [
              "<Figure size 432x432 with 1 Axes>"
            ]
          },
          "metadata": {
            "needs_background": "light"
          }
        }
      ]
    },
    {
      "cell_type": "code",
      "metadata": {
        "id": "hltcIfL6D6IZ",
        "colab": {
          "base_uri": "https://localhost:8080/"
        },
        "outputId": "c045c5af-fc0b-4e27-87b1-c9999abda482"
      },
      "source": [
        "losses[-1]"
      ],
      "execution_count": 138,
      "outputs": [
        {
          "output_type": "execute_result",
          "data": {
            "text/plain": [
              "0.33413625305349176"
            ]
          },
          "metadata": {},
          "execution_count": 138
        }
      ]
    },
    {
      "cell_type": "code",
      "metadata": {
        "id": "JIGEPlj-D6IZ",
        "colab": {
          "base_uri": "https://localhost:8080/"
        },
        "outputId": "86f17fbe-efa8-45e0-9f06-0a887ba2f53f"
      },
      "source": [
        "losses_eval[-1]"
      ],
      "execution_count": 139,
      "outputs": [
        {
          "output_type": "execute_result",
          "data": {
            "text/plain": [
              "0.53072190284729"
            ]
          },
          "metadata": {},
          "execution_count": 139
        }
      ]
    },
    {
      "cell_type": "code",
      "metadata": {
        "id": "4W-m46TGD6Ia",
        "colab": {
          "base_uri": "https://localhost:8080/"
        },
        "outputId": "7aedf08f-dfb3-4af5-cf16-f34ce86ed3b5"
      },
      "source": [
        "f1s[-1]"
      ],
      "execution_count": 140,
      "outputs": [
        {
          "output_type": "execute_result",
          "data": {
            "text/plain": [
              "tensor(0.8709, device='cuda:0')"
            ]
          },
          "metadata": {},
          "execution_count": 140
        }
      ]
    },
    {
      "cell_type": "code",
      "metadata": {
        "id": "Vtm6yPFjD6Ia",
        "colab": {
          "base_uri": "https://localhost:8080/"
        },
        "outputId": "a4b6c2d8-c5e0-4f9e-d3bb-c47dae03bee7"
      },
      "source": [
        "f1s_eval[-1]"
      ],
      "execution_count": 141,
      "outputs": [
        {
          "output_type": "execute_result",
          "data": {
            "text/plain": [
              "tensor(0.7601, device='cuda:0')"
            ]
          },
          "metadata": {},
          "execution_count": 141
        }
      ]
    },
    {
      "cell_type": "code",
      "metadata": {
        "id": "U1usm4Js87jp"
      },
      "source": [
        "val_sentences['predicted']  = predict_word_symbol(model, val_iterator)"
      ],
      "execution_count": 145,
      "outputs": []
    },
    {
      "cell_type": "code",
      "metadata": {
        "colab": {
          "base_uri": "https://localhost:8080/"
        },
        "id": "RPJMf7x_87jq",
        "outputId": "788f05eb-2069-477e-e990-5e2405886864"
      },
      "source": [
        "# TP\n",
        "val_sentences[(val_sentences['tone'] == 1) & (val_sentences['predicted'] == 1)]['clean_text'].to_list()[:10]"
      ],
      "execution_count": 146,
      "outputs": [
        {
          "output_type": "execute_result",
          "data": {
            "text/plain": [
              "['здоровски погуляли по магазинам с USER пингвины',\n",
              " 'прикольно когда к тебе в бар приходит девушка выпить кофе на мин 1 15 а в итоге зависает у тебя в баре на хороших часа полтора',\n",
              " 'USER не умирай еще тебе предстоит вечер',\n",
              " 'rt USER юмор красота требует жертв придумай смешную подпись к картинке URL',\n",
              " 'давайте уж побыстрее 12 декабря объявляйте выходным днем и переносите на пятницу 13 буду строить планы',\n",
              " 'USER холодно очень и паскаль делает мне страдай d',\n",
              " 'время сна я утомилась дико завтра сложный день 6 5 часов мне на восстановление сил всем доброй ночи',\n",
              " 'ник вернется в сериал полиция гавайев счастьерадость ну правильно а то закончили на самом интересном',\n",
              " 'USER смешно ему и плюс мне масса нужна в спорте немного я как бить буду если сил нету крч диета для идиотов',\n",
              " 'USER иногда хочется тебя ретвитить но функция недоступна']"
            ]
          },
          "metadata": {},
          "execution_count": 146
        }
      ]
    },
    {
      "cell_type": "code",
      "metadata": {
        "colab": {
          "base_uri": "https://localhost:8080/"
        },
        "id": "dmiHjCy787jr",
        "outputId": "cbb97b4a-876d-4e73-f592-0d7a72dfb087"
      },
      "source": [
        "# FN\n",
        "val_sentences[(val_sentences['tone'] == 1) & (val_sentences['predicted'] == 0)]['clean_text'].to_list()[:10]"
      ],
      "execution_count": 147,
      "outputs": [
        {
          "output_type": "execute_result",
          "data": {
            "text/plain": [
              "['USER ну у меня времени много могу поиграть в шерлока но лучше скажи',\n",
              " 'я только недавно хотела зимы теперь хочу лета а у лета я буду просить зимы',\n",
              " 'поздравили любимого хореографа она была в восторге обожаем ее',\n",
              " 'USER ну я пока еще с тюленем не танцевала',\n",
              " 'USER USER другим не стыдно другим все равно',\n",
              " 'блин аж н як забути цього не можу да не хочу боже так мило',\n",
              " 'USER сломался он не знаю от чего но когда на него звонишь он говорит тебе бай бай так я теперь чика со старым телефоном',\n",
              " 'i am training my english большой привет москве и санкт петербургу в and nyc',\n",
              " 'USER на словах ты лев толстой а на деле хуй простой кароче нахуй послан окончательно терпила все видели что ты зассал',\n",
              " '9летняя девочка называет меня киса и чешет бороду приходится мурчать']"
            ]
          },
          "metadata": {},
          "execution_count": 147
        }
      ]
    },
    {
      "cell_type": "code",
      "metadata": {
        "colab": {
          "base_uri": "https://localhost:8080/"
        },
        "id": "vLSmhXRi87jr",
        "outputId": "35b86fc7-f1aa-45a2-f4f1-dda62f9e77b6"
      },
      "source": [
        "# FP\n",
        "val_sentences[(val_sentences['tone'] == 0) & (val_sentences['predicted'] == 1)]['clean_text'].to_list()[:10]"
      ],
      "execution_count": 148,
      "outputs": [
        {
          "output_type": "execute_result",
          "data": {
            "text/plain": [
              "['USER это дааа куда хочешь поступить',\n",
              " 'USER ну я всегда говорил что я тп',\n",
              " 'кто нибудь зайдите вк USER USER USER',\n",
              " 'rt USER епт так ты баба нет кто тебе сказал такую глупость у меня есть пипирка URL',\n",
              " 'что то много людей сейчас болеют выздоравливайте зайки',\n",
              " 'USER каждый одинок по своему',\n",
              " 'не знаю на сколько сегодня в универ а все говорят разное время',\n",
              " 'помню как под эту песню я пытался мутить с ксюшей прэй фо ми блять',\n",
              " 'USER нас курсач еще только ждет на антиплагиате проверять курсовые будут',\n",
              " 'во мне две половины разрывается между желанием рожать детей и желанием жрать лсд и нюхать кокс с 37сантиметрового члена']"
            ]
          },
          "metadata": {},
          "execution_count": 148
        }
      ]
    },
    {
      "cell_type": "markdown",
      "metadata": {
        "id": "65Q0Z622YDb_"
      },
      "source": [
        "TP: здесь результаты не особо изменились, все еще выводятся высказывания с положительным контекстом\n",
        "\n",
        "FN: здесь результаты не особо изменились, скорее просто скоратились\n",
        "\n",
        "FP: здесь появились высказывания, выражающие сомнения"
      ]
    },
    {
      "cell_type": "markdown",
      "metadata": {
        "id": "XkBnNigJAzzb"
      },
      "source": [
        "#Эксперимент"
      ]
    },
    {
      "cell_type": "code",
      "metadata": {
        "id": "D-1UeStc_DvQ",
        "colab": {
          "base_uri": "https://localhost:8080/"
        },
        "outputId": "1db43430-ed0f-459d-a4ce-60ba6e42acea"
      },
      "source": [
        "vocab = Counter()\n",
        "\n",
        "for text in tweets_data['text']:\n",
        "    vocab.update(text.split())\n",
        "print('всего уникальных токенов:', len(vocab))"
      ],
      "execution_count": 149,
      "outputs": [
        {
          "output_type": "stream",
          "name": "stdout",
          "text": [
            "всего уникальных токенов: 305559\n"
          ]
        }
      ]
    },
    {
      "cell_type": "code",
      "metadata": {
        "id": "v5YUW50jByph",
        "colab": {
          "base_uri": "https://localhost:8080/"
        },
        "outputId": "feb8253b-5f2b-4abd-b971-bb19611f4115"
      },
      "source": [
        "filtered_vocab = set()\n",
        "\n",
        "for word in vocab:\n",
        "    if vocab[word] > 2:\n",
        "        filtered_vocab.add(word)\n",
        "print('уникальных токенов, втретившихся больше 2 раз:', len(filtered_vocab))"
      ],
      "execution_count": 150,
      "outputs": [
        {
          "output_type": "stream",
          "name": "stdout",
          "text": [
            "уникальных токенов, втретившихся больше 2 раз: 37585\n"
          ]
        }
      ]
    },
    {
      "cell_type": "code",
      "metadata": {
        "id": "PTz2XTbdCIrr",
        "colab": {
          "base_uri": "https://localhost:8080/"
        },
        "outputId": "b5faea3b-62bb-43bf-98a0-d632e7c5438c"
      },
      "source": [
        "symbol_vocab = Counter()\n",
        "\n",
        "for text in tweets_data['text']:\n",
        "    symbol_vocab.update(list(text))\n",
        "print('всего уникальных символов:', len(symbol_vocab))"
      ],
      "execution_count": 151,
      "outputs": [
        {
          "output_type": "stream",
          "name": "stdout",
          "text": [
            "всего уникальных символов: 341\n"
          ]
        }
      ]
    },
    {
      "cell_type": "code",
      "metadata": {
        "id": "miEtsa-DCIrt"
      },
      "source": [
        "symbol2id = {'PAD':0}\n",
        "\n",
        "for symbol in symbol_vocab:\n",
        "    symbol2id[symbol] = len(symbol2id)\n",
        "\n",
        "id2symbol = {i:symbol for symbol, i in symbol2id.items()}"
      ],
      "execution_count": 152,
      "outputs": []
    },
    {
      "cell_type": "code",
      "metadata": {
        "id": "_DYJ8pzSByxO"
      },
      "source": [
        "class ExpDataset(Dataset):\n",
        "\n",
        "    def __init__(self, dataset, word2id, symbol2id, DEVICE):\n",
        "        self.dataset = dataset['text'].values\n",
        "        self.word2id = word2id\n",
        "        self.symbol2id = symbol2id\n",
        "        self.length = dataset.shape[0]\n",
        "        self.target = torch.Tensor(dataset['tone'].values)\n",
        "        self.device = DEVICE\n",
        "\n",
        "    def __len__(self): #это обязательный метод, он должен уметь считать длину датасета\n",
        "        return self.length\n",
        "\n",
        "    def __getitem__(self, index): #еще один обязательный метод. По индексу возвращает элемент выборки\n",
        "        tokens = self.dataset[index].split() # токенизируем\n",
        "        word_ids = torch.LongTensor([self.word2id[token] for token in tokens if token in self.word2id])\n",
        "        symbols = list(self.dataset[index])\n",
        "        symb_ids = torch.LongTensor([self.symbol2id[symbol] for symbol in symbols if symbol in self.symbol2id])\n",
        "        y = [self.target[index]]\n",
        "        return word_ids, symb_ids, y\n",
        "\n",
        "    def collate_fn(self, batch): #этот метод можно реализовывать и отдельно,\n",
        "    # он понадобится для DataLoader во время итерации по батчам\n",
        "      word_ids, symb_ids, y = list(zip(*batch))\n",
        "      padded_words = pad_sequence(word_ids, batch_first=True).to(self.device)\n",
        "      padded_symbs = pad_sequence(symb_ids, batch_first=True).to(self.device)\n",
        "      #мы хотим применять BCELoss, он будет брать на вход predicted размера batch_size x 1 (так как для каждого семпла модель будет отдавать одно число), target размера batch_size x 1\n",
        "      y = torch.Tensor(y).to(self.device) # tuple ([1], [0], [1])  -> Tensor [[1.], [0.], [1.]] \n",
        "      return padded_words, padded_symbs, y"
      ],
      "execution_count": 153,
      "outputs": []
    },
    {
      "cell_type": "code",
      "metadata": {
        "id": "Prfsu8zWCt_y"
      },
      "source": [
        "train_dataset = ExpDataset(train_sentences, word2id, symbol2id, DEVICE)\n",
        "train_sampler = RandomSampler(train_dataset)\n",
        "train_iterator = DataLoader(train_dataset, collate_fn = train_dataset.collate_fn, sampler=train_sampler, batch_size=1024)"
      ],
      "execution_count": 154,
      "outputs": []
    },
    {
      "cell_type": "code",
      "metadata": {
        "id": "Oi9vVKNoCt_z"
      },
      "source": [
        "val_dataset = ExpDataset(val_sentences, word2id, symbol2id, DEVICE)\n",
        "val_sampler = SequentialSampler(val_dataset)\n",
        "val_iterator = DataLoader(val_dataset, collate_fn = val_dataset.collate_fn, sampler=val_sampler, batch_size=1024)"
      ],
      "execution_count": 155,
      "outputs": []
    },
    {
      "cell_type": "code",
      "metadata": {
        "id": "ljNnIooAC9oh"
      },
      "source": [
        "model = WordSymbCNN(len(symbol2id), 2, len(word2id))\n",
        "optimizer = optim.Adam(model.parameters(), lr=0.001)\n",
        "criterion = nn.BCELoss()  \n",
        "\n",
        "# веса модели и значения лосса храним там же, где и все остальные тензоры\n",
        "model = model.to(DEVICE)\n",
        "criterion = criterion.to(DEVICE)"
      ],
      "execution_count": 156,
      "outputs": []
    },
    {
      "cell_type": "code",
      "metadata": {
        "id": "AArzUHlnC9oi",
        "colab": {
          "base_uri": "https://localhost:8080/"
        },
        "outputId": "2a21a429-5308-40f1-84b8-b884a3b008fd"
      },
      "source": [
        "losses = []\n",
        "losses_eval = []\n",
        "f1s = []\n",
        "f1s_eval = []\n",
        "\n",
        "for i in range(10):\n",
        "    print(f'\\nstarting Epoch {i}')\n",
        "    print('Training...')\n",
        "    epoch_loss = train(model, train_iterator, optimizer, criterion)\n",
        "    losses.append(epoch_loss)\n",
        "    print('\\nEvaluating on train...')\n",
        "    f1_on_train,_ = evaluate(model, train_iterator, criterion)\n",
        "    f1s.append(f1_on_train)\n",
        "    print('\\nEvaluating on test...')\n",
        "    f1_on_test, epoch_loss_on_test = evaluate(model, val_iterator, criterion)\n",
        "    losses_eval.append(epoch_loss_on_test)\n",
        "    f1s_eval.append(f1_on_test)"
      ],
      "execution_count": 157,
      "outputs": [
        {
          "output_type": "stream",
          "name": "stdout",
          "text": [
            "\n",
            "starting Epoch 0\n",
            "Training...\n",
            "Train loss: 0.7708606459200382\n",
            "Train loss: 0.7268111741904056\n",
            "Train loss: 0.7081413316726685\n",
            "Train loss: 0.6972635655260798\n",
            "Train loss: 0.688353643530891\n",
            "\n",
            "Evaluating on train...\n",
            "Val loss: 0.7004862502217293, Val f1: 0.6857378482818604\n",
            "Val loss: 0.6794380383058027, Val f1: 0.665271520614624\n",
            "Val loss: 0.6727498316764832, Val f1: 0.6578764915466309\n",
            "Val loss: 0.6690991787768122, Val f1: 0.6550553441047668\n",
            "Val loss: 0.6673052708307902, Val f1: 0.6526967883110046\n",
            "\n",
            "Evaluating on test...\n",
            "Val loss: 1.3089630603790283, Val f1: 1.330315113067627\n",
            "Val loss: 0.8746776580810547, Val f1: 0.8825599551200867\n",
            "Val loss: 0.7895276308059692, Val f1: 0.7848194241523743\n",
            "Val loss: 0.7519354053906032, Val f1: 0.7477174401283264\n",
            "Val loss: 0.7301345202657912, Val f1: 0.725041389465332\n",
            "\n",
            "starting Epoch 1\n",
            "Training...\n",
            "Train loss: 0.6782073266804218\n",
            "Train loss: 0.6499359481262438\n",
            "Train loss: 0.6342548167705536\n",
            "Train loss: 0.6222556918414671\n",
            "Train loss: 0.6116975297530493\n",
            "\n",
            "Evaluating on train...\n",
            "Val loss: 0.6060617119073868, Val f1: 0.8335288763046265\n",
            "Val loss: 0.5870401353547068, Val f1: 0.8070810437202454\n",
            "Val loss: 0.5819795358181, Val f1: 0.7972180843353271\n",
            "Val loss: 0.5788678491293494, Val f1: 0.7939087748527527\n",
            "Val loss: 0.5775739231279918, Val f1: 0.7920684218406677\n",
            "\n",
            "Evaluating on test...\n",
            "Val loss: 1.1293835639953613, Val f1: 1.585663080215454\n",
            "Val loss: 0.760735829671224, Val f1: 1.0492539405822754\n",
            "Val loss: 0.6843509674072266, Val f1: 0.9389759302139282\n",
            "Val loss: 0.6500048381941659, Val f1: 0.8991776704788208\n",
            "Val loss: 0.6313114364941915, Val f1: 0.8738747239112854\n",
            "\n",
            "starting Epoch 2\n",
            "Training...\n",
            "Train loss: 0.5526012647897005\n",
            "Train loss: 0.5200841896461718\n",
            "Train loss: 0.4962722706794739\n",
            "Train loss: 0.4726916084538645\n",
            "Train loss: 0.4515131261377108\n",
            "\n",
            "Evaluating on train...\n",
            "Val loss: 0.38399071618914604, Val f1: 0.933358371257782\n",
            "Val loss: 0.37162521391203907, Val f1: 0.9052873849868774\n",
            "Val loss: 0.3670995634794235, Val f1: 0.8976590633392334\n",
            "Val loss: 0.3655776915265553, Val f1: 0.8931120038032532\n",
            "Val loss: 0.36433036164158866, Val f1: 0.8911487460136414\n",
            "\n",
            "Evaluating on test...\n",
            "Val loss: 0.7171335816383362, Val f1: 1.7729215621948242\n",
            "Val loss: 0.48875175913174945, Val f1: 1.1695884466171265\n",
            "Val loss: 0.4338713943958282, Val f1: 1.0546993017196655\n",
            "Val loss: 0.4110197935785566, Val f1: 1.0068531036376953\n",
            "Val loss: 0.39820432662963867, Val f1: 0.9799107313156128\n",
            "\n",
            "starting Epoch 3\n",
            "Training...\n",
            "Train loss: 0.35930442065000534\n",
            "Train loss: 0.3309171705534964\n",
            "Train loss: 0.3130878496170044\n",
            "Train loss: 0.29915099913504584\n",
            "Train loss: 0.285759204909915\n",
            "\n",
            "Evaluating on train...\n",
            "Val loss: 0.2398839369416237, Val f1: 0.9903422594070435\n",
            "Val loss: 0.2353709927110961, Val f1: 0.9566402435302734\n",
            "Val loss: 0.23188546568155288, Val f1: 0.948456346988678\n",
            "Val loss: 0.2296196022140446, Val f1: 0.9442811012268066\n",
            "Val loss: 0.22800242865369433, Val f1: 0.942140519618988\n",
            "\n",
            "Evaluating on test...\n",
            "Val loss: 0.4528326392173767, Val f1: 1.860456109046936\n",
            "Val loss: 0.30840503176053363, Val f1: 1.2366517782211304\n",
            "Val loss: 0.27175856232643125, Val f1: 1.1162919998168945\n",
            "Val loss: 0.2559965231588909, Val f1: 1.0665559768676758\n",
            "Val loss: 0.24760689503616756, Val f1: 1.038405179977417\n",
            "\n",
            "starting Epoch 4\n",
            "Training...\n",
            "Train loss: 0.22748676873743534\n",
            "Train loss: 0.20817197904442297\n",
            "Train loss: 0.19608200907707216\n",
            "Train loss: 0.18650686896559018\n",
            "Train loss: 0.17860491289978936\n",
            "\n",
            "Evaluating on train...\n",
            "Val loss: 0.19494801200926304, Val f1: 1.0045533180236816\n",
            "Val loss: 0.1860270933671431, Val f1: 0.9754930138587952\n",
            "Val loss: 0.18374575555324554, Val f1: 0.9667607545852661\n",
            "Val loss: 0.18192760246013528, Val f1: 0.9617701172828674\n",
            "Val loss: 0.18003663349719273, Val f1: 0.9597217440605164\n",
            "\n",
            "Evaluating on test...\n",
            "Val loss: 0.3511379659175873, Val f1: 1.9066426753997803\n",
            "Val loss: 0.24001417557398477, Val f1: 1.2650970220565796\n",
            "Val loss: 0.21147775650024414, Val f1: 1.1413086652755737\n",
            "Val loss: 0.19923265704086848, Val f1: 1.087944746017456\n",
            "Val loss: 0.19295184479819405, Val f1: 1.0572316646575928\n",
            "\n",
            "starting Epoch 5\n",
            "Training...\n",
            "Train loss: 0.1478639431297779\n",
            "Train loss: 0.1359703829794219\n",
            "Train loss: 0.12863886401057242\n",
            "Train loss: 0.12154023315924317\n",
            "Train loss: 0.11733317020393554\n",
            "\n",
            "Evaluating on train...\n",
            "Val loss: 0.16571347415447235, Val f1: 1.0128954648971558\n",
            "Val loss: 0.16181519988811377, Val f1: 0.9815465807914734\n",
            "Val loss: 0.16164476543664932, Val f1: 0.97089684009552\n",
            "Val loss: 0.16015748813081143, Val f1: 0.9663946628570557\n",
            "Val loss: 0.15953026711940765, Val f1: 0.9633371233940125\n",
            "\n",
            "Evaluating on test...\n",
            "Val loss: 0.30779194831848145, Val f1: 1.9157185554504395\n",
            "Val loss: 0.21231403946876526, Val f1: 1.2707862854003906\n",
            "Val loss: 0.18666886687278747, Val f1: 1.1456718444824219\n",
            "Val loss: 0.17646905779838562, Val f1: 1.0915837287902832\n",
            "Val loss: 0.17046905722883013, Val f1: 1.061057686805725\n",
            "\n",
            "starting Epoch 6\n",
            "Training...\n",
            "Train loss: 0.09857545886188745\n",
            "Train loss: 0.09280396365758145\n",
            "Train loss: 0.08802887141704559\n",
            "Train loss: 0.08450421301731423\n",
            "Train loss: 0.0814470811968758\n",
            "\n",
            "Evaluating on train...\n",
            "Val loss: 0.09799508843570948, Val f1: 1.0365852117538452\n",
            "Val loss: 0.09707498527837521, Val f1: 1.0042046308517456\n",
            "Val loss: 0.09688536554574967, Val f1: 0.9940153360366821\n",
            "Val loss: 0.09601991990608956, Val f1: 0.9890822172164917\n",
            "Val loss: 0.09634844320161003, Val f1: 0.9857864379882812\n",
            "\n",
            "Evaluating on test...\n",
            "Val loss: 0.19096894562244415, Val f1: 1.9511182308197021\n",
            "Val loss: 0.13140196104844412, Val f1: 1.2958120107650757\n",
            "Val loss: 0.11433000266551971, Val f1: 1.1676928997039795\n",
            "Val loss: 0.10812847529138837, Val f1: 1.1132060289382935\n",
            "Val loss: 0.10413679149415758, Val f1: 1.0826300382614136\n",
            "\n",
            "starting Epoch 7\n",
            "Training...\n",
            "Train loss: 0.0688302656635642\n",
            "Train loss: 0.0652182029955315\n",
            "Train loss: 0.06332485526800155\n",
            "Train loss: 0.06097483646069\n",
            "Train loss: 0.05886582267426309\n",
            "\n",
            "Evaluating on train...\n",
            "Val loss: 0.05960276466794312, Val f1: 1.0472276210784912\n",
            "Val loss: 0.05914354121143168, Val f1: 1.015084147453308\n",
            "Val loss: 0.05827039010822773, Val f1: 1.0052152872085571\n",
            "Val loss: 0.05737452153394471, Val f1: 1.0005974769592285\n",
            "Val loss: 0.05699909709039189, Val f1: 0.9975122809410095\n",
            "\n",
            "Evaluating on test...\n",
            "Val loss: 0.11865502595901489, Val f1: 1.9706385135650635\n",
            "Val loss: 0.08020440489053726, Val f1: 1.3134348392486572\n",
            "Val loss: 0.06912277042865753, Val f1: 1.1835936307907104\n",
            "Val loss: 0.06536120708499636, Val f1: 1.1272876262664795\n",
            "Val loss: 0.06259747222065926, Val f1: 1.0956469774246216\n",
            "\n",
            "starting Epoch 8\n",
            "Training...\n",
            "Train loss: 0.04845789656974375\n",
            "Train loss: 0.04642368480563164\n",
            "Train loss: 0.046144772730767725\n",
            "Train loss: 0.046587899688686894\n",
            "Train loss: 0.046223959663794154\n",
            "\n",
            "Evaluating on train...\n",
            "Val loss: 0.060616884380578995, Val f1: 1.0466433763504028\n",
            "Val loss: 0.05953982427264705, Val f1: 1.014735460281372\n",
            "Val loss: 0.05871634043753147, Val f1: 1.0044137239456177\n",
            "Val loss: 0.058966601740068465, Val f1: 0.9992004632949829\n",
            "Val loss: 0.058950623674761685, Val f1: 0.996207594871521\n",
            "\n",
            "Evaluating on test...\n",
            "Val loss: 0.1211487352848053, Val f1: 1.9734992980957031\n",
            "Val loss: 0.08328086137771606, Val f1: 1.3122389316558838\n",
            "Val loss: 0.07164400219917297, Val f1: 1.18210768699646\n",
            "Val loss: 0.06797395699790545, Val f1: 1.1257050037384033\n",
            "Val loss: 0.06450410311420758, Val f1: 1.0945333242416382\n",
            "\n",
            "starting Epoch 9\n",
            "Training...\n",
            "Train loss: 0.04504051385447383\n",
            "Train loss: 0.040933488444848495\n",
            "Train loss: 0.04009084317833185\n",
            "Train loss: 0.03982349287774136\n",
            "Train loss: 0.03909751792837467\n",
            "\n",
            "Evaluating on train...\n",
            "Val loss: 0.05411831149831414, Val f1: 1.047286868095398\n",
            "Val loss: 0.05228831957687031, Val f1: 1.0155439376831055\n",
            "Val loss: 0.05259653136134148, Val f1: 1.005660891532898\n",
            "Val loss: 0.05103700146523874, Val f1: 1.0012298822402954\n",
            "Val loss: 0.05169247192818494, Val f1: 0.9978983998298645\n",
            "\n",
            "Evaluating on test...\n",
            "Val loss: 0.1077556349337101, Val f1: 1.9744305610656738\n",
            "Val loss: 0.07471790537238121, Val f1: 1.3140782117843628\n",
            "Val loss: 0.06383021101355553, Val f1: 1.1843584775924683\n",
            "Val loss: 0.06074016700897898, Val f1: 1.1274436712265015\n",
            "Val loss: 0.057168039596743055, Val f1: 1.0963026285171509\n"
          ]
        }
      ]
    },
    {
      "cell_type": "code",
      "metadata": {
        "id": "dPjECZpHCtvH",
        "colab": {
          "base_uri": "https://localhost:8080/",
          "height": 422
        },
        "outputId": "295f4e6b-c3b3-4b99-8f3d-bc32262627a2"
      },
      "source": [
        "fig, ax = plt.subplots(figsize=(6, 6))\n",
        "plt.title('Train')\n",
        "plt.xlabel('Iterations')\n",
        "plt.ylabel('Losses')\n",
        "plt.grid()\n",
        "ax.plot(losses)\n",
        "ax.plot(losses_eval)\n",
        "ax.legend()\n",
        "plt.show()"
      ],
      "execution_count": 158,
      "outputs": [
        {
          "output_type": "stream",
          "name": "stderr",
          "text": [
            "No handles with labels found to put in legend.\n"
          ]
        },
        {
          "output_type": "display_data",
          "data": {
            "image/png": "[encoded data removed]",
            "text/plain": [
              "<Figure size 432x432 with 1 Axes>"
            ]
          },
          "metadata": {
            "needs_background": "light"
          }
        }
      ]
    },
    {
      "cell_type": "code",
      "metadata": {
        "id": "SggFgQfIDOiP",
        "colab": {
          "base_uri": "https://localhost:8080/"
        },
        "outputId": "f34bbb6f-49a0-4376-c802-a4facb62ca5c"
      },
      "source": [
        "losses[-1]"
      ],
      "execution_count": 159,
      "outputs": [
        {
          "output_type": "execute_result",
          "data": {
            "text/plain": [
              "0.038379818222231486"
            ]
          },
          "metadata": {},
          "execution_count": 159
        }
      ]
    },
    {
      "cell_type": "code",
      "metadata": {
        "id": "lh5woq7ZDUqy",
        "colab": {
          "base_uri": "https://localhost:8080/"
        },
        "outputId": "a82ff538-781e-4fc8-8161-b86fea9ca4b1"
      },
      "source": [
        "losses_eval[-1]"
      ],
      "execution_count": 160,
      "outputs": [
        {
          "output_type": "execute_result",
          "data": {
            "text/plain": [
              "0.05145123563706875"
            ]
          },
          "metadata": {},
          "execution_count": 160
        }
      ]
    },
    {
      "cell_type": "code",
      "metadata": {
        "id": "IhhiuZ0qDZHo",
        "colab": {
          "base_uri": "https://localhost:8080/"
        },
        "outputId": "cc5dd4b3-26d4-4b26-f1ed-be402d832166"
      },
      "source": [
        "f1s[-1]"
      ],
      "execution_count": 161,
      "outputs": [
        {
          "output_type": "execute_result",
          "data": {
            "text/plain": [
              "tensor(0.9861, device='cuda:0')"
            ]
          },
          "metadata": {},
          "execution_count": 161
        }
      ]
    },
    {
      "cell_type": "code",
      "metadata": {
        "id": "_adey47uDbmC",
        "colab": {
          "base_uri": "https://localhost:8080/"
        },
        "outputId": "48ee0acb-96ba-4ec7-be24-0b3eb575a96d"
      },
      "source": [
        "f1s_eval[-1]"
      ],
      "execution_count": 162,
      "outputs": [
        {
          "output_type": "execute_result",
          "data": {
            "text/plain": [
              "tensor(0.9867, device='cuda:0')"
            ]
          },
          "metadata": {},
          "execution_count": 162
        }
      ]
    },
    {
      "cell_type": "code",
      "metadata": {
        "id": "X9X6lr5e89YK"
      },
      "source": [
        "val_sentences['predicted']  = predict_word_symbol(model, val_iterator)"
      ],
      "execution_count": 164,
      "outputs": []
    },
    {
      "cell_type": "code",
      "metadata": {
        "colab": {
          "base_uri": "https://localhost:8080/"
        },
        "id": "JkiiBtrK89YK",
        "outputId": "f2d3bb69-5b18-451f-b02e-69b9810778be"
      },
      "source": [
        "# TP\n",
        "val_sentences[(val_sentences['tone'] == 1) & (val_sentences['predicted'] == 1)]['clean_text'].to_list()[:10]"
      ],
      "execution_count": 165,
      "outputs": [
        {
          "output_type": "execute_result",
          "data": {
            "text/plain": [
              "['здоровски погуляли по магазинам с USER пингвины',\n",
              " 'прикольно когда к тебе в бар приходит девушка выпить кофе на мин 1 15 а в итоге зависает у тебя в баре на хороших часа полтора',\n",
              " 'USER не умирай еще тебе предстоит вечер',\n",
              " 'rt USER юмор красота требует жертв придумай смешную подпись к картинке URL',\n",
              " 'давайте уж побыстрее 12 декабря объявляйте выходным днем и переносите на пятницу 13 буду строить планы',\n",
              " 'USER холодно очень и паскаль делает мне страдай d',\n",
              " 'время сна я утомилась дико завтра сложный день 6 5 часов мне на восстановление сил всем доброй ночи',\n",
              " 'ник вернется в сериал полиция гавайев счастьерадость ну правильно а то закончили на самом интересном',\n",
              " 'USER ну у меня времени много могу поиграть в шерлока но лучше скажи',\n",
              " 'USER смешно ему и плюс мне масса нужна в спорте немного я как бить буду если сил нету крч диета для идиотов']"
            ]
          },
          "metadata": {},
          "execution_count": 165
        }
      ]
    },
    {
      "cell_type": "code",
      "metadata": {
        "colab": {
          "base_uri": "https://localhost:8080/"
        },
        "id": "o3JHt8cA89YL",
        "outputId": "46150fa9-1142-4c40-c8b9-53a286fea902"
      },
      "source": [
        "# FN\n",
        "val_sentences[(val_sentences['tone'] == 1) & (val_sentences['predicted'] == 0)]['clean_text'].to_list()[:10]"
      ],
      "execution_count": 166,
      "outputs": [
        {
          "output_type": "execute_result",
          "data": {
            "text/plain": [
              "['USER я тебя хоть трахну если попросишь d',\n",
              " 'сегодня катерины в честь этого сделала себе роллов вообще в последнее время ем столько японской еды что скоро стану девочкой из анимэ',\n",
              " 'скачала приложение simi и вот что он мне выдал пидорас такой d URL',\n",
              " 'everything is made in china выступят в петербургском клубе da da URL']"
            ]
          },
          "metadata": {},
          "execution_count": 166
        }
      ]
    },
    {
      "cell_type": "code",
      "metadata": {
        "colab": {
          "base_uri": "https://localhost:8080/"
        },
        "id": "skORHvL189YL",
        "outputId": "3e6ac952-8b3b-4b9c-85f1-ae590060a071"
      },
      "source": [
        "# FP\n",
        "val_sentences[(val_sentences['tone'] == 0) & (val_sentences['predicted'] == 1)]['clean_text'].to_list()[:10]"
      ],
      "execution_count": 167,
      "outputs": [
        {
          "output_type": "execute_result",
          "data": {
            "text/plain": [
              "['школьная дискотека дает о себе знать синяк на коленке несгинающаяся шея и дождик в волосах',\n",
              " 'USER очень жестка я сегодня хотел пойти но мне мама не разрешила хныык',\n",
              " 'USER с както печально а что рисовать любишь',\n",
              " 'USER USER USER USER USER USER USER и тебя с начинающим 3',\n",
              " 'rt USER после проведения плазмолифтинга лица процесс омоложения с каждым месяцем усиливается URL',\n",
              " 'USER та я тож если чесн как дела',\n",
              " 'USER обычный белый белый с розовым и белый в шоколаде с',\n",
              " 'USER что случилось не плааач дорогая',\n",
              " 'USER и хорошо что все в порядке с',\n",
              " 'USER USER USER USER это лишь ваше субъективное мнение']"
            ]
          },
          "metadata": {},
          "execution_count": 167
        }
      ]
    },
    {
      "cell_type": "markdown",
      "metadata": {
        "id": "iXSUnoalSEHd"
      },
      "source": [
        "TP: результаты почти не поменялись\n",
        "\n",
        "FN: результаты сильно поменялись, видимо из-за 10-ти эпох\n",
        "\n",
        "FP: результаты почти не поменялись"
      ]
    },
    {
      "cell_type": "code",
      "metadata": {
        "id": "AuhPDVgyLMEv"
      },
      "source": [
        ""
      ],
      "execution_count": 167,
      "outputs": []
    }
  ]
}