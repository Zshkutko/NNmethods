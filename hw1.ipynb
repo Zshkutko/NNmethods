{
  "nbformat": 4,
  "nbformat_minor": 0,
  "metadata": {
    "colab": {
      "name": "hw1.ipynb",
      "provenance": [],
      "collapsed_sections": []
    },
    "kernelspec": {
      "name": "python3",
      "display_name": "Python 3"
    },
    "language_info": {
      "name": "python"
    }
  },
  "cells": [
    {
      "cell_type": "code",
      "metadata": {
        "colab": {
          "base_uri": "https://localhost:8080/"
        },
        "id": "Vv6dUnvC5ucQ",
        "outputId": "45f27b48-e590-4c6e-cee5-dc421d294254"
      },
      "source": [
        "import re\n",
        "import numpy as np\n",
        "import pandas as pd\n",
        "import string\n",
        "import spacy\n",
        "nlp = spacy.load('en')\n",
        "import nltk\n",
        "nltk.download('stopwords')\n",
        "from nltk.corpus import stopwords\n",
        "from sklearn import preprocessing\n",
        "from sklearn.feature_extraction.text import CountVectorizer, TfidfVectorizer, TfidfTransformer\n",
        "from sklearn.linear_model import LinearRegression, Ridge, Lasso, ElasticNet, LogisticRegression, RidgeCV\n",
        "from sklearn.model_selection import train_test_split, StratifiedKFold, KFold, cross_val_score, GridSearchCV, RepeatedStratifiedKFold\n",
        "from sklearn.neighbors import KNeighborsClassifier\n",
        "from sklearn.metrics import *\n",
        "from sklearn.pipeline import Pipeline\n",
        "from collections import Counter\n",
        "import matplotlib.pyplot as plt\n",
        "from sklearn.naive_bayes import MultinomialNB"
      ],
      "execution_count": 272,
      "outputs": [
        {
          "output_type": "stream",
          "name": "stdout",
          "text": [
            "[nltk_data] Downloading package stopwords to /root/nltk_data...\n",
            "[nltk_data]   Package stopwords is already up-to-date!\n"
          ]
        }
      ]
    },
    {
      "cell_type": "code",
      "metadata": {
        "id": "95MZf6rkC6T0"
      },
      "source": [
        "def make_df(file_name):\n",
        "  df = pd.read_csv(file_name)\n",
        "  return df"
      ],
      "execution_count": 273,
      "outputs": []
    },
    {
      "cell_type": "code",
      "metadata": {
        "id": "EceJnTMpjono"
      },
      "source": [
        "df = make_df('Shoes_Data.csv')"
      ],
      "execution_count": 274,
      "outputs": []
    },
    {
      "cell_type": "markdown",
      "metadata": {
        "id": "s_vpo3uti_jk"
      },
      "source": [
        "# Регрессия"
      ]
    },
    {
      "cell_type": "code",
      "metadata": {
        "id": "QhHQtpivjzYq"
      },
      "source": [
        "cv_vectorizer = CountVectorizer(analyzer='word', ngram_range=(1,3))\n",
        "tf_vectorizer = TfidfVectorizer(max_features=1000, min_df=6, max_df=0.3)"
      ],
      "execution_count": 275,
      "outputs": []
    },
    {
      "cell_type": "code",
      "metadata": {
        "id": "lj9bu2g-J72O"
      },
      "source": [
        "def text_preprocessing(sentence): #лемматизация, стопслова, знаки препинания\n",
        "  lemmas = []\n",
        "  sentence = nlp(sentence.lower())\n",
        "  for word in sentence:\n",
        "    if word.lemma_ not in stopwords.words('english'):\n",
        "      lemmas.append(word.lemma_)\n",
        "  lemmatized_text = ' '.join(lemmas)\n",
        "  lemmatized_text = re.sub(r'\\d*', '', lemmatized_text)\n",
        "  lemmatized_text = lemmatized_text.encode(\"ascii\", \"ignore\")\n",
        "  lemmatized_text = lemmatized_text.decode()\n",
        "  for punct in string.punctuation:\n",
        "    lemmatized_text = lemmatized_text.replace(punct, '')\n",
        "  return lemmatized_text"
      ],
      "execution_count": 276,
      "outputs": []
    },
    {
      "cell_type": "code",
      "metadata": {
        "id": "rox1SGRDdk7t"
      },
      "source": [
        "def normalization(column): #сделать от 0 до 1\n",
        "  price = column.apply(lambda x: x.replace('₹', '')).apply(float)\n",
        "  price = price.to_numpy()\n",
        "  price = preprocessing.normalize([price])\n",
        "  column = price[0].tolist()\n",
        "  return column"
      ],
      "execution_count": 277,
      "outputs": []
    },
    {
      "cell_type": "code",
      "metadata": {
        "id": "VtWyu3WphrKw"
      },
      "source": [
        " def vectorization(column, vectorizer):\n",
        "   X = vectorizer.fit_transform(column)\n",
        "   return X"
      ],
      "execution_count": 278,
      "outputs": []
    },
    {
      "cell_type": "code",
      "metadata": {
        "id": "6I0Mmi5K_Kmn"
      },
      "source": [
        "def regression(vectorizer):\n",
        "  X = vectorization(df['product_description'], vectorizer)\n",
        "  y = df.price.values\n",
        "  X_train, X_test, y_train, y_test = train_test_split(X, y, random_state=42)\n",
        "  regressor = Ridge(alpha=14)\n",
        "  regressor.fit(X_train, y_train)\n",
        "  preds = regressor.predict(X_test)\n",
        "  return X_train, X_test, y_train, y_test, preds"
      ],
      "execution_count": 279,
      "outputs": []
    },
    {
      "cell_type": "markdown",
      "metadata": {
        "id": "P1hSX5IAnmMd"
      },
      "source": [
        "### Описание данных"
      ]
    },
    {
      "cell_type": "code",
      "metadata": {
        "colab": {
          "base_uri": "https://localhost:8080/",
          "height": 423
        },
        "id": "ziBeur63wQ3i",
        "outputId": "2a4abe73-267c-400c-ac78-72555de49b54"
      },
      "source": [
        "df[['price', 'product_description']]"
      ],
      "execution_count": 280,
      "outputs": [
        {
          "output_type": "execute_result",
          "data": {
            "text/html": [
              "<div>\n",
              "<style scoped>\n",
              "    .dataframe tbody tr th:only-of-type {\n",
              "        vertical-align: middle;\n",
              "    }\n",
              "\n",
              "    .dataframe tbody tr th {\n",
              "        vertical-align: top;\n",
              "    }\n",
              "\n",
              "    .dataframe thead th {\n",
              "        text-align: right;\n",
              "    }\n",
              "</style>\n",
              "<table border=\"1\" class=\"dataframe\">\n",
              "  <thead>\n",
              "    <tr style=\"text-align: right;\">\n",
              "      <th></th>\n",
              "      <th>price</th>\n",
              "      <th>product_description</th>\n",
              "    </tr>\n",
              "  </thead>\n",
              "  <tbody>\n",
              "    <tr>\n",
              "      <th>0</th>\n",
              "      <td>₹279.00</td>\n",
              "      <td>Elevate your style with this classy pair of Ru...</td>\n",
              "    </tr>\n",
              "    <tr>\n",
              "      <th>1</th>\n",
              "      <td>₹479.00</td>\n",
              "      <td>The product will be an excellent pick for you....</td>\n",
              "    </tr>\n",
              "    <tr>\n",
              "      <th>2</th>\n",
              "      <td>₹430.00</td>\n",
              "      <td>Flaunt with these stylish and unique red casua...</td>\n",
              "    </tr>\n",
              "    <tr>\n",
              "      <th>3</th>\n",
              "      <td>₹499.00</td>\n",
              "      <td>Robbie Jones Shoes Are Designed To Keeping In ...</td>\n",
              "    </tr>\n",
              "    <tr>\n",
              "      <th>4</th>\n",
              "      <td>₹499.00</td>\n",
              "      <td>Sparx is a spectacular range of footwear from ...</td>\n",
              "    </tr>\n",
              "    <tr>\n",
              "      <th>...</th>\n",
              "      <td>...</td>\n",
              "      <td>...</td>\n",
              "    </tr>\n",
              "    <tr>\n",
              "      <th>1225</th>\n",
              "      <td>₹7256.00</td>\n",
              "      <td>The Nike react vision is a STORY of surreal co...</td>\n",
              "    </tr>\n",
              "    <tr>\n",
              "      <th>1226</th>\n",
              "      <td>₹5822.00</td>\n",
              "      <td>The B.O.G limitless is Puma's key style for th...</td>\n",
              "    </tr>\n",
              "    <tr>\n",
              "      <th>1227</th>\n",
              "      <td>₹5362.00</td>\n",
              "      <td>Lead the pack in New Balance’s Echolucent snea...</td>\n",
              "    </tr>\n",
              "    <tr>\n",
              "      <th>1228</th>\n",
              "      <td>₹7480.00</td>\n",
              "      <td>Nike మహిళల రన్నింగ్ షూ ఫీల్స్ మరియు రూపం మృదువ...</td>\n",
              "    </tr>\n",
              "    <tr>\n",
              "      <th>1229</th>\n",
              "      <td>₹5719.00</td>\n",
              "      <td>The GT-2000 7 achieves a reassuringly firm rid...</td>\n",
              "    </tr>\n",
              "  </tbody>\n",
              "</table>\n",
              "<p>1230 rows × 2 columns</p>\n",
              "</div>"
            ],
            "text/plain": [
              "         price                                product_description\n",
              "0      ₹279.00  Elevate your style with this classy pair of Ru...\n",
              "1      ₹479.00  The product will be an excellent pick for you....\n",
              "2      ₹430.00  Flaunt with these stylish and unique red casua...\n",
              "3      ₹499.00  Robbie Jones Shoes Are Designed To Keeping In ...\n",
              "4      ₹499.00  Sparx is a spectacular range of footwear from ...\n",
              "...        ...                                                ...\n",
              "1225  ₹7256.00  The Nike react vision is a STORY of surreal co...\n",
              "1226  ₹5822.00  The B.O.G limitless is Puma's key style for th...\n",
              "1227  ₹5362.00  Lead the pack in New Balance’s Echolucent snea...\n",
              "1228  ₹7480.00  Nike మహిళల రన్నింగ్ షూ ఫీల్స్ మరియు రూపం మృదువ...\n",
              "1229  ₹5719.00  The GT-2000 7 achieves a reassuringly firm rid...\n",
              "\n",
              "[1230 rows x 2 columns]"
            ]
          },
          "metadata": {},
          "execution_count": 280
        }
      ]
    },
    {
      "cell_type": "code",
      "metadata": {
        "colab": {
          "base_uri": "https://localhost:8080/",
          "height": 174
        },
        "id": "XMlssvQunw6u",
        "outputId": "31c3bb45-b5b1-431a-e4f3-0ea0f75d5aef"
      },
      "source": [
        "df[['price', 'product_description']].describe()"
      ],
      "execution_count": 281,
      "outputs": [
        {
          "output_type": "execute_result",
          "data": {
            "text/html": [
              "<div>\n",
              "<style scoped>\n",
              "    .dataframe tbody tr th:only-of-type {\n",
              "        vertical-align: middle;\n",
              "    }\n",
              "\n",
              "    .dataframe tbody tr th {\n",
              "        vertical-align: top;\n",
              "    }\n",
              "\n",
              "    .dataframe thead th {\n",
              "        text-align: right;\n",
              "    }\n",
              "</style>\n",
              "<table border=\"1\" class=\"dataframe\">\n",
              "  <thead>\n",
              "    <tr style=\"text-align: right;\">\n",
              "      <th></th>\n",
              "      <th>price</th>\n",
              "      <th>product_description</th>\n",
              "    </tr>\n",
              "  </thead>\n",
              "  <tbody>\n",
              "    <tr>\n",
              "      <th>count</th>\n",
              "      <td>1230</td>\n",
              "      <td>1230</td>\n",
              "    </tr>\n",
              "    <tr>\n",
              "      <th>unique</th>\n",
              "      <td>627</td>\n",
              "      <td>730</td>\n",
              "    </tr>\n",
              "    <tr>\n",
              "      <th>top</th>\n",
              "      <td>₹499.00</td>\n",
              "      <td>The product will be an excellent pick for you....</td>\n",
              "    </tr>\n",
              "    <tr>\n",
              "      <th>freq</th>\n",
              "      <td>31</td>\n",
              "      <td>29</td>\n",
              "    </tr>\n",
              "  </tbody>\n",
              "</table>\n",
              "</div>"
            ],
            "text/plain": [
              "          price                                product_description\n",
              "count      1230                                               1230\n",
              "unique      627                                                730\n",
              "top     ₹499.00  The product will be an excellent pick for you....\n",
              "freq         31                                                 29"
            ]
          },
          "metadata": {},
          "execution_count": 281
        }
      ]
    },
    {
      "cell_type": "code",
      "metadata": {
        "colab": {
          "base_uri": "https://localhost:8080/"
        },
        "id": "_hnh7gvon40L",
        "outputId": "16257346-5cff-4486-c26f-bc2a507228cc"
      },
      "source": [
        "df[['price', 'product_description']].info()"
      ],
      "execution_count": 282,
      "outputs": [
        {
          "output_type": "stream",
          "name": "stdout",
          "text": [
            "<class 'pandas.core.frame.DataFrame'>\n",
            "RangeIndex: 1230 entries, 0 to 1229\n",
            "Data columns (total 2 columns):\n",
            " #   Column               Non-Null Count  Dtype \n",
            "---  ------               --------------  ----- \n",
            " 0   price                1230 non-null   object\n",
            " 1   product_description  1230 non-null   object\n",
            "dtypes: object(2)\n",
            "memory usage: 19.3+ KB\n"
          ]
        }
      ]
    },
    {
      "cell_type": "code",
      "metadata": {
        "id": "Pto4Hk5Qr_AI"
      },
      "source": [
        "import operator\n",
        "words = []\n",
        "for i in df['product_description'].tolist():\n",
        "  for j in i.split(' '):\n",
        "    if len(j)>1:\n",
        "      words.append(j)\n",
        "words_freq = sorted(Counter(words).items(), key=operator.itemgetter(1))[::-1][:50]\n",
        "freqdf = pd.DataFrame(words_freq)"
      ],
      "execution_count": 283,
      "outputs": []
    },
    {
      "cell_type": "code",
      "metadata": {
        "colab": {
          "base_uri": "https://localhost:8080/",
          "height": 610
        },
        "id": "BIe3ql2df_8t",
        "outputId": "fff9a06f-ff79-4a38-c6a4-98380c2a3853"
      },
      "source": [
        "freqdf.columns=['word', 'freq']\n",
        "plt.figure(figsize=(10, 10))\n",
        "plt.barh(freqdf['word'], freqdf['freq'])"
      ],
      "execution_count": 284,
      "outputs": [
        {
          "output_type": "execute_result",
          "data": {
            "text/plain": [
              "<BarContainer object of 50 artists>"
            ]
          },
          "metadata": {},
          "execution_count": 284
        },
        {
          "output_type": "display_data",
          "data": {
            "image/png": "[encoded data removed]",
            "text/plain": [
              "<Figure size 720x720 with 1 Axes>"
            ]
          },
          "metadata": {
            "needs_background": "light"
          }
        }
      ]
    },
    {
      "cell_type": "markdown",
      "metadata": {
        "id": "6Jg5wFKKo1s-"
      },
      "source": [
        "Из этих описаний можно сделать следующие выводы о данных:\n",
        "1) Данные не содержат в себе нулевых значений;\n",
        "2) Как у показателей цены, так и у описаний продуктов ~50% объектов являются уникальными;\n",
        "3) Наиболее частотными словами, не являющимися союзами, предлогами и артиклями являются: shoes, comfort, pair, design, style, style, casual, etc (все они являются одними из базовых описаний для обуви)."
      ]
    },
    {
      "cell_type": "code",
      "metadata": {
        "id": "iiNBMH0NI5eo"
      },
      "source": [
        "df['product_description'] = df['product_description'].apply(text_preprocessing)"
      ],
      "execution_count": 285,
      "outputs": []
    },
    {
      "cell_type": "code",
      "metadata": {
        "id": "PYCGT9lnC3py"
      },
      "source": [
        "df['price'] = normalization(df['price'])"
      ],
      "execution_count": 286,
      "outputs": []
    },
    {
      "cell_type": "markdown",
      "metadata": {
        "id": "AnfiOqDQNFuJ"
      },
      "source": [
        "## Grid Search Регрессия"
      ]
    },
    {
      "cell_type": "code",
      "metadata": {
        "id": "wZyK-hYnAu4Q"
      },
      "source": [
        "X_train, X_test, y_train, y_test = train_test_split(df['product_description'], df['price'], random_state=42)\n",
        "pipeline_rcv_tf = Pipeline([('vectorizer', TfidfVectorizer()),\n",
        " ('tfidf', TfidfTransformer()),\n",
        " ('reg', RidgeCV(gcv_mode='auto'))])\n",
        "parameters_rcv_tf = {'tfidf__use_idf': (True, False),\n",
        "               'tfidf__smooth_idf': (True, False),\n",
        "               'tfidf__sublinear_tf': (True, False),\n",
        "               'reg__normalize': (True, False)}\n",
        "pipeline_rcv_cv = Pipeline([('vectorizer', CountVectorizer()),\n",
        " ('tfidf', TfidfTransformer()),\n",
        " ('reg', RidgeCV(gcv_mode='auto'))])\n",
        "parameters_rcv_cv = {'vectorizer__ngram_range': [(1, 1), (1, 2), (1,3)],\n",
        "               'tfidf__use_idf': (True, False),\n",
        "               'tfidf__smooth_idf': (True, False),\n",
        "               'tfidf__sublinear_tf': (True, False),\n",
        "               'reg__normalize': (True, False)}\n",
        "pipeline_lr_tf = Pipeline([('vectorizer', TfidfVectorizer()),\n",
        " ('tfidf', TfidfTransformer()),\n",
        " ('reg', LinearRegression())])\n",
        "parameters_lr_tf = {'tfidf__use_idf': (True, False),\n",
        "               'tfidf__smooth_idf': (True, False),\n",
        "               'tfidf__sublinear_tf': (True, False),\n",
        "               'reg__normalize': (True, False)}\n",
        "pipeline_lr_cv = Pipeline([('vectorizer', CountVectorizer()),\n",
        " ('tfidf', TfidfTransformer()),\n",
        " ('reg', LinearRegression())])\n",
        "parameters_lr_cv = {'vectorizer__ngram_range': [(1, 1), (1, 2), (1,3)],\n",
        "               'tfidf__use_idf': (True, False),\n",
        "               'tfidf__smooth_idf': (True, False),\n",
        "               'tfidf__sublinear_tf': (True, False),\n",
        "               'reg__fit_intercept': (True, False),\n",
        "               'reg__normalize': (True, False)}"
      ],
      "execution_count": 287,
      "outputs": []
    },
    {
      "cell_type": "code",
      "metadata": {
        "colab": {
          "base_uri": "https://localhost:8080/"
        },
        "id": "ly_-SDIIAtoW",
        "outputId": "36800dd6-f2e4-465a-d2ac-e31c1b23de58"
      },
      "source": [
        "gs_rcv = GridSearchCV(pipeline_rcv_tf, parameters_rcv_tf, n_jobs=-1, scoring = \"r2\")\n",
        "gs_rcv = gs_rcv.fit(X_train, y_train)\n",
        "print(gs_rcv.best_params_)\n",
        "pred = gs_rcv.predict(X_test)\n",
        "print('MAE:', mean_absolute_error(pred, y_test))\n",
        "print('RMSE:', np.sqrt(mean_squared_error(y_test, pred)))\n",
        "print('R2:', r2_score(pred, y_test))"
      ],
      "execution_count": 288,
      "outputs": [
        {
          "output_type": "stream",
          "name": "stdout",
          "text": [
            "{'reg__normalize': False, 'tfidf__smooth_idf': False, 'tfidf__sublinear_tf': False, 'tfidf__use_idf': True}\n",
            "MAE: 0.00637051533912195\n",
            "RMSE: 0.010010622569258892\n",
            "R2: 0.5901303610611593\n"
          ]
        }
      ]
    },
    {
      "cell_type": "code",
      "metadata": {
        "colab": {
          "base_uri": "https://localhost:8080/"
        },
        "id": "9mmkUcMeW8q9",
        "outputId": "6d2467d3-cda8-4fd9-cee8-492ed134383a"
      },
      "source": [
        "gs_rcv = GridSearchCV(pipeline_rcv_cv, parameters_rcv_cv, n_jobs=-1, scoring = \"r2\")\n",
        "gs_rcv = gs_rcv.fit(X_train, y_train)\n",
        "print(gs_rcv.best_params_)\n",
        "pred = gs_rcv.predict(X_test)\n",
        "print('MAE:', mean_absolute_error(pred, y_test))\n",
        "print('RMSE:', np.sqrt(mean_squared_error(y_test, pred)))\n",
        "print('R2:', r2_score(pred, y_test))"
      ],
      "execution_count": 289,
      "outputs": [
        {
          "output_type": "stream",
          "name": "stdout",
          "text": [
            "{'reg__normalize': False, 'tfidf__smooth_idf': False, 'tfidf__sublinear_tf': True, 'tfidf__use_idf': True, 'vectorizer__ngram_range': (1, 3)}\n",
            "MAE: 0.005590702407988227\n",
            "RMSE: 0.009241281562034487\n",
            "R2: 0.6384671401290278\n"
          ]
        }
      ]
    },
    {
      "cell_type": "markdown",
      "metadata": {
        "id": "AlJNvWlfh2jv"
      },
      "source": [
        "Разница между TfIdf и CountVectorizer в случае с RidgeCV небольшая, но второй все же немного лучше."
      ]
    },
    {
      "cell_type": "code",
      "metadata": {
        "colab": {
          "base_uri": "https://localhost:8080/"
        },
        "id": "eR8mTtmjHcWr",
        "outputId": "21a973ff-caec-4ab6-9f4b-d57886d140f1"
      },
      "source": [
        "gs_lr = GridSearchCV(pipeline_lr_tf, parameters_lr_tf, n_jobs=-1, scoring = \"r2\")\n",
        "gs_lr = gs_lr.fit(X_train, y_train)\n",
        "print(gs_lr.best_params_)\n",
        "pred = gs_lr.predict(X_test)\n",
        "print('MAE:', mean_absolute_error(pred, y_test))\n",
        "print('RMSE:', np.sqrt(mean_squared_error(y_test, pred)))\n",
        "print('R2:', r2_score(pred, y_test))"
      ],
      "execution_count": 290,
      "outputs": [
        {
          "output_type": "stream",
          "name": "stdout",
          "text": [
            "{'reg__normalize': True, 'tfidf__smooth_idf': False, 'tfidf__sublinear_tf': False, 'tfidf__use_idf': True}\n",
            "MAE: 0.010531737244419512\n",
            "RMSE: 0.017182727408055213\n",
            "R2: 0.31342530425849024\n"
          ]
        }
      ]
    },
    {
      "cell_type": "code",
      "metadata": {
        "colab": {
          "base_uri": "https://localhost:8080/"
        },
        "id": "1xtWsUA4W9OO",
        "outputId": "491d2155-c14a-423b-8d31-8f39e61a7a34"
      },
      "source": [
        "gs_lr = GridSearchCV(pipeline_lr_cv, parameters_lr_cv, n_jobs=-1, scoring = \"r2\")\n",
        "gs_lr = gs_lr.fit(X_train, y_train)\n",
        "print(gs_lr.best_params_)\n",
        "pred = gs_lr.predict(X_test)\n",
        "print('MAE:', mean_absolute_error(pred, y_test))\n",
        "print('RMSE:', np.sqrt(mean_squared_error(y_test, pred)))\n",
        "print('R2:', r2_score(pred, y_test))"
      ],
      "execution_count": 291,
      "outputs": [
        {
          "output_type": "stream",
          "name": "stdout",
          "text": [
            "{'reg__fit_intercept': False, 'reg__normalize': True, 'tfidf__smooth_idf': False, 'tfidf__sublinear_tf': True, 'tfidf__use_idf': True, 'vectorizer__ngram_range': (1, 2)}\n",
            "MAE: 0.0060225180876689165\n",
            "RMSE: 0.009620457386860674\n",
            "R2: 0.6805218827725721\n"
          ]
        }
      ]
    },
    {
      "cell_type": "markdown",
      "metadata": {
        "id": "9jKKP_69h1W6"
      },
      "source": [
        "Для LinearRegression CountVectorizer работает значительно лучше, чем TfIDF."
      ]
    },
    {
      "cell_type": "markdown",
      "metadata": {
        "id": "xLmF5cZFimYq"
      },
      "source": [
        "# Вывод\n",
        "Данных довольно мало для такой задачи. Стоит расширить выборку, добавить фичей. Корреляция между test и train все же не очень высокая, но ошибка довольно маленькая."
      ]
    },
    {
      "cell_type": "markdown",
      "metadata": {
        "id": "f2gAtczwevt1"
      },
      "source": [
        "# Классификация"
      ]
    },
    {
      "cell_type": "code",
      "metadata": {
        "id": "J36YaxGMKm8O"
      },
      "source": [
        "cv_vectorizer = CountVectorizer(analyzer='word', ngram_range=(1,1))\n",
        "tf_vectorizer = TfidfVectorizer(max_features=1000, min_df=5, max_df=0.4)"
      ],
      "execution_count": 292,
      "outputs": []
    },
    {
      "cell_type": "code",
      "metadata": {
        "colab": {
          "base_uri": "https://localhost:8080/"
        },
        "id": "5M2oCcp2XcoV",
        "outputId": "ef6fb7ee-25b3-4d49-c6c7-0696f9caedf6"
      },
      "source": [
        "reviews = []\n",
        "reviews_rating = []\n",
        "classifying_data = df[['reviews', 'reviews_rating']]\n",
        "for i in classifying_data['reviews'].str.split('\\|\\|').tolist():\n",
        "  for j in i:\n",
        "    reviews.append(j)\n",
        "classifying_data['reviews_rating'].str.split('\\|\\|').tolist()\n",
        "for i in classifying_data['reviews_rating'].str.split('\\|\\|').tolist():\n",
        "  for j in i:\n",
        "    if j[0]==' ':\n",
        "      j = j[1:]\n",
        "    reviews_rating.append(j[0])\n",
        "reviews_df = pd.DataFrame({'reviews': reviews, 'reviews_rating': reviews_rating})\n",
        "value_counts = reviews_df['reviews'].value_counts()\n",
        "to_remove = value_counts[value_counts > 300].index\n",
        "df_clean = reviews_df[~reviews_df.reviews.isin(to_remove)]\n",
        "df_clean['reviews'] = df_clean['reviews'].apply(text_preprocessing)"
      ],
      "execution_count": 293,
      "outputs": [
        {
          "output_type": "stream",
          "name": "stderr",
          "text": [
            "/usr/local/lib/python3.7/dist-packages/ipykernel_launcher.py:17: SettingWithCopyWarning: \n",
            "A value is trying to be set on a copy of a slice from a DataFrame.\n",
            "Try using .loc[row_indexer,col_indexer] = value instead\n",
            "\n",
            "See the caveats in the documentation: https://pandas.pydata.org/pandas-docs/stable/user_guide/indexing.html#returning-a-view-versus-a-copy\n"
          ]
        }
      ]
    },
    {
      "cell_type": "code",
      "metadata": {
        "colab": {
          "base_uri": "https://localhost:8080/",
          "height": 174
        },
        "id": "DgZ_FYf1yFRF",
        "outputId": "799e7aae-c3b9-4241-eb4d-f0b425005a07"
      },
      "source": [
        "reviews_df[['reviews']].describe()"
      ],
      "execution_count": 294,
      "outputs": [
        {
          "output_type": "execute_result",
          "data": {
            "text/html": [
              "<div>\n",
              "<style scoped>\n",
              "    .dataframe tbody tr th:only-of-type {\n",
              "        vertical-align: middle;\n",
              "    }\n",
              "\n",
              "    .dataframe tbody tr th {\n",
              "        vertical-align: top;\n",
              "    }\n",
              "\n",
              "    .dataframe thead th {\n",
              "        text-align: right;\n",
              "    }\n",
              "</style>\n",
              "<table border=\"1\" class=\"dataframe\">\n",
              "  <thead>\n",
              "    <tr style=\"text-align: right;\">\n",
              "      <th></th>\n",
              "      <th>reviews</th>\n",
              "    </tr>\n",
              "  </thead>\n",
              "  <tbody>\n",
              "    <tr>\n",
              "      <th>count</th>\n",
              "      <td>9958</td>\n",
              "    </tr>\n",
              "    <tr>\n",
              "      <th>unique</th>\n",
              "      <td>5189</td>\n",
              "    </tr>\n",
              "    <tr>\n",
              "      <th>top</th>\n",
              "      <td>Verified Purchase</td>\n",
              "    </tr>\n",
              "    <tr>\n",
              "      <th>freq</th>\n",
              "      <td>647</td>\n",
              "    </tr>\n",
              "  </tbody>\n",
              "</table>\n",
              "</div>"
            ],
            "text/plain": [
              "                   reviews\n",
              "count                 9958\n",
              "unique                5189\n",
              "top      Verified Purchase\n",
              "freq                   647"
            ]
          },
          "metadata": {},
          "execution_count": 294
        }
      ]
    },
    {
      "cell_type": "code",
      "metadata": {
        "colab": {
          "base_uri": "https://localhost:8080/"
        },
        "id": "B08uq7wXySsr",
        "outputId": "d24e8e15-737d-470b-b5cd-adb38834f656"
      },
      "source": [
        "reviews_df['reviews_rating'].apply(int).describe()"
      ],
      "execution_count": 295,
      "outputs": [
        {
          "output_type": "execute_result",
          "data": {
            "text/plain": [
              "count    9958.000000\n",
              "mean        3.772645\n",
              "std         1.527403\n",
              "min         1.000000\n",
              "25%         3.000000\n",
              "50%         4.000000\n",
              "75%         5.000000\n",
              "max         5.000000\n",
              "Name: reviews_rating, dtype: float64"
            ]
          },
          "metadata": {},
          "execution_count": 295
        }
      ]
    },
    {
      "cell_type": "code",
      "metadata": {
        "colab": {
          "base_uri": "https://localhost:8080/",
          "height": 279
        },
        "id": "8vlu3air1pms",
        "outputId": "f7cd1cfa-32aa-407a-fc4d-9d9f33b193df"
      },
      "source": [
        "reviews_df['reviews_rating'].value_counts().sort_index().plot.bar()"
      ],
      "execution_count": 296,
      "outputs": [
        {
          "output_type": "execute_result",
          "data": {
            "text/plain": [
              "<matplotlib.axes._subplots.AxesSubplot at 0x7f712c138550>"
            ]
          },
          "metadata": {},
          "execution_count": 296
        },
        {
          "output_type": "display_data",
          "data": {
            "image/png": "[encoded data removed]",
            "text/plain": [
              "<Figure size 432x288 with 1 Axes>"
            ]
          },
          "metadata": {
            "needs_background": "light"
          }
        }
      ]
    },
    {
      "cell_type": "markdown",
      "metadata": {
        "id": "mWBNDTw-yGti"
      },
      "source": [
        "Из этих описаний можно сделать следующие выводы о данных:\n",
        "1) Данные не содержат в себе нулевых значений;\n",
        "2) Средний review rating 3.8;\n",
        "3) Только половина review является уникальными;\n",
        "4) Частотность оценок по убыванию: 5, 4, 1, 3, 2 (обычно оставляют лио очень хорошие, либо очень плохие отзывы)."
      ]
    },
    {
      "cell_type": "code",
      "metadata": {
        "id": "-XG3BqIDesPT"
      },
      "source": [
        "X = vectorization(df_clean['reviews'], cv_vectorizer)\n",
        "y = df_clean.reviews_rating.values\n",
        "X_train, X_test, y_train, y_test = train_test_split(X, y, random_state=42)\n",
        "clf = KNeighborsClassifier().fit(X_train, y_train)\n",
        "predicted = clf.predict(X_test)"
      ],
      "execution_count": 297,
      "outputs": []
    },
    {
      "cell_type": "code",
      "metadata": {
        "colab": {
          "base_uri": "https://localhost:8080/"
        },
        "id": "7UoHwb68vQe1",
        "outputId": "5f08b47f-a368-4dc2-97d2-7bd93b51884d"
      },
      "source": [
        "acc = accuracy_score(predicted, y_test)\n",
        "micro_f1 = f1_score(predicted, y_test, average = 'micro')\n",
        "micro_p = precision_score(predicted, y_test, average = 'micro')\n",
        "micro_r = recall_score(predicted, y_test, average = 'micro')\n",
        "macro_f1 = f1_score(predicted, y_test, average = 'macro')\n",
        "macro_p = precision_score(predicted, y_test, average = 'macro')\n",
        "macro_r = recall_score(predicted, y_test, average = 'macro')\n",
        "print('acc={0:1.4f}'.format(acc))\n",
        "print('micro F1={0:1.4f}, micro P={1:1.4f}, micro R={2:1.4f}'.format(micro_f1, micro_p, micro_r))\n",
        "print('macro F1={0:1.4f}, macro P={1:1.4f}, macro R={2:1.4f}\\n'.format(macro_f1, macro_p, macro_r))"
      ],
      "execution_count": 298,
      "outputs": [
        {
          "output_type": "stream",
          "name": "stdout",
          "text": [
            "acc=0.5697\n",
            "micro F1=0.5697, micro P=0.5697, micro R=0.5697\n",
            "macro F1=0.4248, macro P=0.4102, macro R=0.4635\n",
            "\n"
          ]
        }
      ]
    },
    {
      "cell_type": "markdown",
      "metadata": {
        "id": "PIso_CxkNndP"
      },
      "source": [
        "## Grid Search Классификация"
      ]
    },
    {
      "cell_type": "code",
      "metadata": {
        "id": "yzQg9BWW6Koc"
      },
      "source": [
        "X_train, X_test, y_train, y_test = train_test_split(df_clean['reviews'], df_clean['reviews_rating'], random_state=42)\n",
        "pipeline_kn_tf = Pipeline([('vectorizer', TfidfVectorizer()),\n",
        " ('tfidf', TfidfTransformer()),\n",
        " ('clf', KNeighborsClassifier())])   \n",
        "parameters_kn_tf = {'tfidf__use_idf': (True, False),\n",
        "               'tfidf__smooth_idf': (True, False),\n",
        "               'tfidf__sublinear_tf': (True, False),\n",
        "               'clf__n_neighbors': [2, 3, 5, 10, 20, 30],\n",
        "               'clf__weights': ['uniform', 'distance']}\n",
        "pipeline_kn_cv = Pipeline([('vectorizer', CountVectorizer()),\n",
        " ('tfidf', TfidfTransformer()),\n",
        " ('clf', KNeighborsClassifier())])   \n",
        "parameters_kn_cv = {'vectorizer__ngram_range': [(1, 1), (1, 2), (1,3)],\n",
        "               'tfidf__use_idf': (True, False),\n",
        "               'tfidf__smooth_idf': (True, False),\n",
        "               'tfidf__sublinear_tf': (True, False),\n",
        "               'clf__n_neighbors': [2, 3, 5, 10, 20, 30],\n",
        "               'clf__weights': ['uniform', 'distance']}\n",
        "pipeline_nb_tf = Pipeline([('vectorizer', TfidfVectorizer()),\n",
        " ('tfidf', TfidfTransformer()),\n",
        " ('clf', MultinomialNB())])\n",
        "parameters_nb_tf = {'tfidf__use_idf': (True, False),\n",
        "               'tfidf__smooth_idf': (True, False),\n",
        "               'tfidf__sublinear_tf': (True, False),\n",
        "               'clf__alpha': [0.1, 0.3, 0.5],\n",
        "               'clf__fit_prior': [True, False],\n",
        "               'clf__class_prior': [None, [.1,.9],[.2, .8]]}\n",
        "pipeline_nb_cv = Pipeline([('vectorizer', CountVectorizer()),\n",
        " ('tfidf', TfidfTransformer()),\n",
        " ('clf', MultinomialNB())])\n",
        "parameters_nb_cv = {'vectorizer__ngram_range': [(1, 1), (1, 2), (1,3)],\n",
        "               'tfidf__use_idf': (True, False),\n",
        "               'tfidf__smooth_idf': (True, False),\n",
        "               'tfidf__sublinear_tf': (True, False),\n",
        "               'clf__alpha': [0.1, 0.3, 0.5],\n",
        "               'clf__fit_prior': [True, False],\n",
        "               'clf__class_prior': [None, [.1,.9],[.2, .8]]}"
      ],
      "execution_count": 299,
      "outputs": []
    },
    {
      "cell_type": "markdown",
      "metadata": {
        "id": "z9xEcozIv5NS"
      },
      "source": [
        "Используется F1-мера, так как классификация является многоклассовой, классы неравномерные."
      ]
    },
    {
      "cell_type": "code",
      "metadata": {
        "colab": {
          "base_uri": "https://localhost:8080/"
        },
        "id": "LdLIdwM96H_e",
        "outputId": "0e5bbc56-5f96-4313-da59-9c836bfac991"
      },
      "source": [
        "gs_kn_tf = GridSearchCV(pipeline_kn_tf, parameters_kn_tf, n_jobs=-1, scoring = \"f1_weighted\")\n",
        "gs_kn_tf = gs_kn_tf.fit(X_train, y_train)\n",
        "print(gs_kn_tf.best_params_)\n",
        "pred = gs_kn_tf.predict(X_test)\n",
        "print('F1:', f1_score(pred, y_test, average='weighted'))"
      ],
      "execution_count": 310,
      "outputs": [
        {
          "output_type": "stream",
          "name": "stdout",
          "text": [
            "{'clf__n_neighbors': 5, 'clf__weights': 'distance', 'tfidf__smooth_idf': True, 'tfidf__sublinear_tf': False, 'tfidf__use_idf': False}\n",
            "F1: 0.5963433369085551\n"
          ]
        }
      ]
    },
    {
      "cell_type": "code",
      "metadata": {
        "colab": {
          "base_uri": "https://localhost:8080/"
        },
        "id": "468JzbBiV7H7",
        "outputId": "a980bf63-1037-46f8-c34f-36b80e7f7f1f"
      },
      "source": [
        "gs_kn_cv = GridSearchCV(pipeline_kn_cv, parameters_kn_cv, n_jobs=-1, scoring = \"f1_weighted\")\n",
        "gs_kn_cv = gs_kn_cv.fit(X_train, y_train)\n",
        "print(gs_kn_cv.best_params_)\n",
        "pred = gs_kn_cv.predict(X_test)\n",
        "print('F1:', f1_score(pred, y_test, average='weighted'))"
      ],
      "execution_count": 311,
      "outputs": [
        {
          "output_type": "stream",
          "name": "stdout",
          "text": [
            "{'clf__n_neighbors': 5, 'clf__weights': 'distance', 'tfidf__smooth_idf': True, 'tfidf__sublinear_tf': False, 'tfidf__use_idf': True, 'vectorizer__ngram_range': (1, 1)}\n",
            "F1: 0.5955931323939192\n"
          ]
        }
      ]
    },
    {
      "cell_type": "code",
      "metadata": {
        "colab": {
          "base_uri": "https://localhost:8080/"
        },
        "id": "e4BPNRNZ6IGW",
        "outputId": "41abfcdb-2c13-4fbb-d349-dfa05b497802"
      },
      "source": [
        "gs_nb_tf = GridSearchCV(pipeline_nb_tf, parameters_nb_tf, n_jobs=-1, scoring = \"f1_weighted\")\n",
        "gs_nb_tf = gs_nb_tf.fit(X_train, y_train)\n",
        "print(gs_nb_tf.best_params_)\n",
        "pred = gs_nb_tf.predict(X_test)\n",
        "print('F1:', f1_score(pred, y_test, average='weighted'))"
      ],
      "execution_count": 312,
      "outputs": [
        {
          "output_type": "stream",
          "name": "stdout",
          "text": [
            "{'clf__alpha': 0.1, 'clf__class_prior': None, 'clf__fit_prior': True, 'tfidf__smooth_idf': True, 'tfidf__sublinear_tf': False, 'tfidf__use_idf': False}\n",
            "F1: 0.666506817639685\n"
          ]
        }
      ]
    },
    {
      "cell_type": "code",
      "metadata": {
        "colab": {
          "base_uri": "https://localhost:8080/"
        },
        "id": "L1Rrskj5V7uE",
        "outputId": "864f285e-2a1b-41b9-d953-ba571ad54d91"
      },
      "source": [
        "gs_nb_cv = GridSearchCV(pipeline_nb_cv, parameters_nb_cv, n_jobs=-1, scoring = \"f1_weighted\")\n",
        "gs_nb_cv = gs_nb_cv.fit(X_train, y_train)\n",
        "print(gs_nb_cv.best_params_)\n",
        "pred = gs_nb_cv.predict(X_test)\n",
        "print('F1:', f1_score(pred, y_test, average='weighted'))"
      ],
      "execution_count": 313,
      "outputs": [
        {
          "output_type": "stream",
          "name": "stdout",
          "text": [
            "{'clf__alpha': 0.1, 'clf__class_prior': None, 'clf__fit_prior': True, 'tfidf__smooth_idf': True, 'tfidf__sublinear_tf': False, 'tfidf__use_idf': True, 'vectorizer__ngram_range': (1, 3)}\n",
            "F1: 0.6803541243042849\n"
          ]
        }
      ]
    },
    {
      "cell_type": "code",
      "metadata": {
        "colab": {
          "base_uri": "https://localhost:8080/",
          "height": 296
        },
        "id": "GEMUYP--0agu",
        "outputId": "b492e085-411d-4af4-9638-0fc8422f0b6e"
      },
      "source": [
        "plot_confusion_matrix(gs_kn_tf, df_clean['reviews'], df_clean['reviews_rating'], normalize='true', cmap='Purples')"
      ],
      "execution_count": 306,
      "outputs": [
        {
          "output_type": "execute_result",
          "data": {
            "text/plain": [
              "<sklearn.metrics._plot.confusion_matrix.ConfusionMatrixDisplay at 0x7f7128370b90>"
            ]
          },
          "metadata": {},
          "execution_count": 306
        },
        {
          "output_type": "display_data",
          "data": {
            "image/png": "[encoded data removed]",
            "text/plain": [
              "<Figure size 432x288 with 2 Axes>"
            ]
          },
          "metadata": {
            "needs_background": "light"
          }
        }
      ]
    },
    {
      "cell_type": "markdown",
      "metadata": {
        "id": "75HoQvf5W4aQ"
      },
      "source": [
        "Хорошо определяются 1, 3 и 5. Хуже 2 и 4. Часто определяет 4 как 5."
      ]
    },
    {
      "cell_type": "code",
      "metadata": {
        "colab": {
          "base_uri": "https://localhost:8080/",
          "height": 296
        },
        "id": "Ks_kVCTZV9By",
        "outputId": "111a5177-35ae-4864-8a5e-3f34a6d4d6da"
      },
      "source": [
        "plot_confusion_matrix(gs_kn_cv, df_clean['reviews'], df_clean['reviews_rating'], normalize='true', cmap='Purples')"
      ],
      "execution_count": 307,
      "outputs": [
        {
          "output_type": "execute_result",
          "data": {
            "text/plain": [
              "<sklearn.metrics._plot.confusion_matrix.ConfusionMatrixDisplay at 0x7f71291b16d0>"
            ]
          },
          "metadata": {},
          "execution_count": 307
        },
        {
          "output_type": "display_data",
          "data": {
            "image/png": "[encoded data removed]",
            "text/plain": [
              "<Figure size 432x288 with 2 Axes>"
            ]
          },
          "metadata": {
            "needs_background": "light"
          }
        }
      ]
    },
    {
      "cell_type": "markdown",
      "metadata": {
        "id": "AdLUk_WUUHI8"
      },
      "source": [
        "Работает совсем немного лучше, но в целом почти так же."
      ]
    },
    {
      "cell_type": "code",
      "metadata": {
        "colab": {
          "base_uri": "https://localhost:8080/",
          "height": 296
        },
        "id": "1Og5GQbKPB4n",
        "outputId": "5a367f31-dc09-4c7f-b59a-7dcdb7c3824d"
      },
      "source": [
        "plot_confusion_matrix(gs_nb_tf, df_clean['reviews'], df_clean['reviews_rating'], normalize='true', cmap='Blues')"
      ],
      "execution_count": 308,
      "outputs": [
        {
          "output_type": "execute_result",
          "data": {
            "text/plain": [
              "<sklearn.metrics._plot.confusion_matrix.ConfusionMatrixDisplay at 0x7f7128365a90>"
            ]
          },
          "metadata": {},
          "execution_count": 308
        },
        {
          "output_type": "display_data",
          "data": {
            "image/png": "[encoded data removed]",
            "text/plain": [
              "<Figure size 432x288 with 2 Axes>"
            ]
          },
          "metadata": {
            "needs_background": "light"
          }
        }
      ]
    },
    {
      "cell_type": "markdown",
      "metadata": {
        "id": "75-1PY6GW0iA"
      },
      "source": [
        "По графику видно, что очень часто 2, 3 (особенно) и 4 отправляются в 5. При этом 5 и 1 предсказываются хорошо. Еще часто 2 определяет как 1."
      ]
    },
    {
      "cell_type": "code",
      "metadata": {
        "colab": {
          "base_uri": "https://localhost:8080/",
          "height": 296
        },
        "id": "16cmQggoV9po",
        "outputId": "e93091ac-0cc4-45ff-bbb5-ae813e777636"
      },
      "source": [
        "plot_confusion_matrix(gs_nb_cv, df_clean['reviews'], df_clean['reviews_rating'], normalize='true', cmap='Blues')"
      ],
      "execution_count": 309,
      "outputs": [
        {
          "output_type": "execute_result",
          "data": {
            "text/plain": [
              "<sklearn.metrics._plot.confusion_matrix.ConfusionMatrixDisplay at 0x7f7129b24a50>"
            ]
          },
          "metadata": {},
          "execution_count": 309
        },
        {
          "output_type": "display_data",
          "data": {
            "image/png": "[encoded data removed]",
            "text/plain": [
              "<Figure size 432x288 with 2 Axes>"
            ]
          },
          "metadata": {
            "needs_background": "light"
          }
        }
      ]
    },
    {
      "cell_type": "markdown",
      "metadata": {
        "id": "xMU8LZ0wZklZ"
      },
      "source": [
        "Работает заметно лучше TfIdf. Намного лучше стал определять 2, 3 и 4. Реже путает с 5."
      ]
    },
    {
      "cell_type": "markdown",
      "metadata": {
        "id": "4Dig_n5qiYQs"
      },
      "source": [
        "## Вывод\n",
        "В дальнейшем нужно расширить выборку, так как данных очень мало, добавить фичей, сбалансировать выборку. Можно еще смотреть по маркам (title), думаю это сильно улучшит модель, так как от марки часто зависит ценовой диапазон."
      ]
    }
  ]
}